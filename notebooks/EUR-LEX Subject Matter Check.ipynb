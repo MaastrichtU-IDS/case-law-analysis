{
 "cells": [
  {
   "cell_type": "markdown",
   "metadata": {},
   "source": [
    "# EUR-LEX Subject Matter Checker \n",
    "This notebook checks if the sum of the number of search results for each subject matter code for cases = the total number of search results for cases (this should be true). If it is not, we have a problem and we have to figure out another way to extract the subject matter of each case. If it is true, then we can extract citations for the cases of each subject matter using its unique URL on EUR-LEX so we don't have to explicitly extract it from the Webpages or metadata anymore. "
   ]
  },
  {
   "cell_type": "markdown",
   "metadata": {},
   "source": [
    "## 1. Open file with subject matter codes from EUR-LEX and store codes to array"
   ]
  },
  {
   "cell_type": "code",
   "execution_count": 3,
   "metadata": {},
   "outputs": [
    {
     "name": "stdout",
     "output_type": "stream",
     "text": [
      "['ALCO', 'BEI', 'BPAI', 'CAFE', 'CECA', 'CECC', 'CEEA', 'CIT', 'CLUG', 'COAD', 'COES', 'CONC', 'CONJ', 'CORE', 'CROM', 'CULT', 'DFON', 'DGEN', 'DISC', 'DOM', 'EFPJ', 'ELSJ', 'EMPL', 'ENER', 'ENV', 'ETAB', 'EXT', 'FIN', 'FISC', 'FSE', 'INST', 'J-AI', 'LCC', 'LCM', 'LCT', 'MARC', 'MARI', 'NUCL', 'PCIV', 'PDON', 'PEM', 'PIM', 'PIND', 'PREG', 'PRIN', 'PRIV', 'PROC', 'PROP', 'PROT', 'PTOM', 'RAPL', 'RDT', 'RESP', 'RTR', 'SANT', 'SAUV', 'SERV', 'SESO', 'SOPO', 'STAT', 'TELE', 'TOUR', 'TRAN', 'TXTL']\n"
     ]
    }
   ],
   "source": [
    "import csv\n",
    "\n",
    "subjectMatterCodes = []\n",
    "\n",
    "with open('../data/SubjectMatterCodes.tsv') as tsvfile:\n",
    "    reader = csv.reader(tsvfile, delimiter='\\t')\n",
    "    for row in reader:\n",
    "        subjectMatterCodes.append(row[0])\n",
    "    \n",
    "print(subjectMatterCodes)"
   ]
  },
  {
   "cell_type": "markdown",
   "metadata": {},
   "source": [
    "## 2. Access the Judgements search results URL for each subject matter code and record the number of search results"
   ]
  },
  {
   "cell_type": "code",
   "execution_count": 4,
   "metadata": {},
   "outputs": [
    {
     "name": "stdout",
     "output_type": "stream",
     "text": [
      "ALCO, 39\n",
      "BEI, 1\n",
      "BPAI, 11\n",
      "CAFE, 1\n",
      "CECA, 248\n",
      "CECC, 138\n",
      "CEEA, 29\n",
      "CIT, 134\n",
      "CLUG, 0\n",
      "COAD, 3\n",
      "COES, 100\n",
      "CONC, 2136\n",
      "CONJ, 16\n",
      "CORE, 20\n",
      "CROM, 6\n",
      "CULT, 15\n",
      "DFON, 148\n",
      "DGEN, 54\n",
      "DISC, 160\n",
      "DOM, 15\n",
      "EFPJ, 12\n",
      "ELSJ, 353\n",
      "EMPL, 1\n",
      "ENER, 80\n",
      "ENV, 858\n",
      "ETAB, 1058\n",
      "EXT, 1011\n",
      "FIN, 171\n",
      "FISC, 1168\n",
      "FSE, 58\n",
      "INST, 463\n",
      "J-AI, 38\n",
      "LCC, 207\n",
      "LCM, 1397\n",
      "LCT, 517\n",
      "MARC, 163\n",
      "MARI, 23\n",
      "NUCL, 1\n",
      "PCIV, 0\n",
      "PDON, 44\n",
      "PEM, 21\n",
      "PIM, 2\n",
      "PIND, 19\n",
      "PREG, 6\n",
      "PRIN, 261\n",
      "PRIV, 45\n",
      "PROC, 3\n",
      "PROP, 2664\n",
      "PROT, 290\n",
      "PTOM, 35\n",
      "RAPL, 1761\n",
      "RDT, 93\n",
      "RESP, 162\n",
      "RTR, 11\n",
      "SANT, 122\n",
      "SAUV, 46\n",
      "SERV, 977\n",
      "SESO, 539\n",
      "SOPO, 622\n",
      "STAT, 2649\n",
      "TELE, 94\n",
      "TOUR, 0\n",
      "TRAN, 382\n",
      "TXTL, 2\n"
     ]
    }
   ],
   "source": [
    "#import the urllib library used to query a website\n",
    "from urllib.request import urlopen\n",
    "#import BeautifulSoup webscraping module for python\n",
    "from bs4 import BeautifulSoup\n",
    "#import JSON parser\n",
    "import json\n",
    "\n",
    "#orders url\n",
    "#prefix_url = \"http://eur-lex.europa.eu/search.html?qid=1524804492179&DB_TYPE_OF_ACT=order&CASE_LAW_SUMMARY=false&DTS_DOM=EU_LAW&CT_CODED=\"\n",
    "#suffix_url = \"&typeOfActStatus=ORDER&type=advanced&lang=en&SUBDOM_INIT=EU_CASE_LAW&DTS_SUBDOM=EU_CASE_LAW\"\n",
    "\n",
    "prefix_url = \"http://eur-lex.europa.eu/search.html?searchEq=true&qid=1524797649507&DB_TYPE_OF_ACT=judgment&CASE_LAW_SUMMARY=false&DTS_DOM=EU_LAW&CT_CODED=\"\n",
    "suffix_url = \"&typeOfActStatus=JUDGMENT&type=advanced&lang=en&SUBDOM_INIT=EU_CASE_LAW&DTS_SUBDOM=EU_CASE_LAW\"\n",
    "\n",
    "count_search_results = 0\n",
    "index = 1\n",
    "\n",
    "for subjectMatterCode in subjectMatterCodes:\n",
    "    url = prefix_url + subjectMatterCode + suffix_url\n",
    "    #print(url)\n",
    "    \n",
    "    #open url\n",
    "    url_page = urlopen(url)\n",
    "    #Parse the html in the page variables, and store them in Beautiful Soup format using the 'lxml' parser\n",
    "    soup_url_page = BeautifulSoup(url_page, \"lxml\")\n",
    "    #Get number of results in search results page\n",
    "    scripts = soup_url_page.find_all('script', type='application/json')\n",
    "    for result in scripts:\n",
    "        json_format = json.loads(result.text)\n",
    "        #print(json_format)\n",
    "        if 'search' in json_format:\n",
    "            search = json_format['search']\n",
    "            count_search_results = count_search_results + int(search['count'])\n",
    "            #print(str(index) + \". \" + subjectMatterCode + \", \" + str(search['count']) + \", \" + str(count_search_results))\n",
    "            print(subjectMatterCode + \", \" + str(search['count']))\n",
    "            index = index + 1\n",
    "    #j_numberStr = j_onsubmit.split(\",\")[1] \n",
    "    #j_numberStr = j_numberStr.replace(\")\", \"\");\n",
    "    #j_numberStr = j_numberStr.replace(\" \", \"\");\n",
    "    #j_number = int(j_numberStr)\n",
    "    \n",
    "    "
   ]
  }
 ],
 "metadata": {
  "kernelspec": {
   "display_name": "Python 3",
   "language": "python",
   "name": "python3"
  },
  "language_info": {
   "codemirror_mode": {
    "name": "ipython",
    "version": 3
   },
   "file_extension": ".py",
   "mimetype": "text/x-python",
   "name": "python",
   "nbconvert_exporter": "python",
   "pygments_lexer": "ipython3",
   "version": "3.6.4"
  }
 },
 "nbformat": 4,
 "nbformat_minor": 2
}
