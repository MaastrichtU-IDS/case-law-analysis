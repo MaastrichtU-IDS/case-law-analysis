{
 "cells": [
  {
   "cell_type": "markdown",
   "metadata": {},
   "source": [
    "---"
   ]
  },
  {
   "cell_type": "markdown",
   "metadata": {},
   "source": [
    "# Data Cleaning"
   ]
  },
  {
   "cell_type": "markdown",
   "metadata": {},
   "source": [
    "First of all we should get the metadata dataset with unique identifiers, we shall relate the main subject and countries on separate tables\n",
    "\n",
    "---"
   ]
  },
  {
   "cell_type": "code",
   "execution_count": 1,
   "metadata": {},
   "outputs": [],
   "source": [
    "import pandas as pd\n",
    "import matplotlib.pyplot as plt\n",
    "plt.style.use('ggplot')\n",
    "%matplotlib inline"
   ]
  },
  {
   "cell_type": "markdown",
   "metadata": {},
   "source": [
    "### Merging judgements and orders"
   ]
  },
  {
   "cell_type": "code",
   "execution_count": 2,
   "metadata": {},
   "outputs": [
    {
     "name": "stdout",
     "output_type": "stream",
     "text": [
      "-rw-r--r--  1 pedrohserrano  staff     1862 Jun  6 13:26 ../data/SubjectMatterCodes.tsv\n",
      "-rw-r--r--  1 pedrohserrano  staff  6191715 Sep  4 17:31 ../data/citations.csv\n",
      "-rw-r--r--  1 pedrohserrano  staff   297241 Sep  5 10:46 ../data/countries.csv\n",
      "-rwxr-xr-x@ 1 pedrohserrano  staff  7320713 Sep  3 00:49 \u001b[31m../data/judgement_metadata.csv\u001b[m\u001b[m\n",
      "-rwxr-xr-x@ 1 pedrohserrano  staff  7211726 Sep  4 20:48 \u001b[31m../data/judgements_ruling.csv\u001b[m\u001b[m\n",
      "-rw-r--r--  1 pedrohserrano  staff   331381 Sep  4 15:33 ../data/main_subjects.csv\n",
      "-rwxr-xr-x@ 1 pedrohserrano  staff  1083325 Sep  3 01:23 \u001b[31m../data/order_metadata.csv\u001b[m\u001b[m\n",
      "-rw-r--r--@ 1 pedrohserrano  staff  1043825 Sep  5 12:50 ../data/orders_ruling.csv\n",
      "-rw-r--r--  1 pedrohserrano  staff  1948248 Sep  4 17:31 ../data/subjects.csv\n"
     ]
    }
   ],
   "source": [
    "!ls -la ../data/*"
   ]
  },
  {
   "cell_type": "code",
   "execution_count": 3,
   "metadata": {},
   "outputs": [],
   "source": [
    "df_o = pd.read_csv('../data/order_metadata.csv', encoding='Latin-1') \n",
    "df_j = pd.read_csv('../data/judgement_metadata.csv', encoding='Latin-1') #utf8 expected characters\n",
    "df_j = df_j[list(df_o.columns.values)] #order the columns\n",
    "df_j['case_type'] = 'Judgement'\n",
    "df_o['case_type'] = 'Order'\n",
    "raw = df_j.append(df_o, ignore_index=True)"
   ]
  },
  {
   "cell_type": "code",
   "execution_count": 4,
   "metadata": {},
   "outputs": [
    {
     "name": "stdout",
     "output_type": "stream",
     "text": [
      "19680 13357\n"
     ]
    }
   ],
   "source": [
    "print(len(raw), len(raw['source'].unique()))"
   ]
  },
  {
   "cell_type": "markdown",
   "metadata": {},
   "source": [
    "Since the lenght of the dataset isn't the same as the unique identifiers means that we have to deal with the main_subject"
   ]
  },
  {
   "cell_type": "markdown",
   "metadata": {},
   "source": [
    "Write the main_subjects file"
   ]
  },
  {
   "cell_type": "code",
   "execution_count": 5,
   "metadata": {},
   "outputs": [],
   "source": [
    "#df[['source','main_subject']].to_csv('../data/main_subjects.csv', index=False)"
   ]
  },
  {
   "cell_type": "markdown",
   "metadata": {},
   "source": [
    "Grouping the unique cases by celex number and re-merge them with the original set"
   ]
  },
  {
   "cell_type": "code",
   "execution_count": 6,
   "metadata": {},
   "outputs": [],
   "source": [
    "def get_grouped_df (df, identifier, groupedby):\n",
    "    subjects = df.groupby(identifier).count()[groupedby]\n",
    "    df.index = df[identifier]\n",
    "    df = df.loc[:, df.columns != groupedby]\n",
    "    df = df[~df.index.duplicated(keep='first')]\n",
    "    assert len(subjects) == len(df)\n",
    "    df = df.join(subjects, how='left').reset_index(drop=True)\n",
    "    return df"
   ]
  },
  {
   "cell_type": "code",
   "execution_count": 7,
   "metadata": {},
   "outputs": [],
   "source": [
    "df = get_grouped_df(raw, 'source', 'main_subject')"
   ]
  },
  {
   "cell_type": "code",
   "execution_count": 8,
   "metadata": {},
   "outputs": [
    {
     "name": "stdout",
     "output_type": "stream",
     "text": [
      "13357\n"
     ]
    },
    {
     "data": {
      "text/html": [
       "<div>\n",
       "<style scoped>\n",
       "    .dataframe tbody tr th:only-of-type {\n",
       "        vertical-align: middle;\n",
       "    }\n",
       "\n",
       "    .dataframe tbody tr th {\n",
       "        vertical-align: top;\n",
       "    }\n",
       "\n",
       "    .dataframe thead th {\n",
       "        text-align: right;\n",
       "    }\n",
       "</style>\n",
       "<table border=\"1\" class=\"dataframe\">\n",
       "  <thead>\n",
       "    <tr style=\"text-align: right;\">\n",
       "      <th></th>\n",
       "      <th>source</th>\n",
       "      <th>judge</th>\n",
       "      <th>advocate</th>\n",
       "      <th>ruling_title</th>\n",
       "      <th>chamber</th>\n",
       "      <th>ruling_name</th>\n",
       "      <th>ruling_type</th>\n",
       "      <th>ruling_content</th>\n",
       "      <th>case_label</th>\n",
       "      <th>ecli</th>\n",
       "      <th>lodge_date</th>\n",
       "      <th>document_date</th>\n",
       "      <th>country</th>\n",
       "      <th>case_type</th>\n",
       "      <th>main_subject</th>\n",
       "    </tr>\n",
       "  </thead>\n",
       "  <tbody>\n",
       "    <tr>\n",
       "      <th>0</th>\n",
       "      <td>61997CJ0147</td>\n",
       "      <td>Kapteyn</td>\n",
       "      <td>A. La Pergola</td>\n",
       "      <td>Judgment of the Court of 10 February 2000</td>\n",
       "      <td>NaN</td>\n",
       "      <td>Deutsche Post AG v Gesellschaft fÃ¼r Zahlung...</td>\n",
       "      <td>Reference for a preliminary ruling: Oberland...</td>\n",
       "      <td>Public undertaking - Postal service - Non-ph...</td>\n",
       "      <td>Joined cases C-147/97 and C-148/97</td>\n",
       "      <td>ECLI identifier: ECLI:EU:C:2000:74</td>\n",
       "      <td>17/04/1997</td>\n",
       "      <td>10/2/2000</td>\n",
       "      <td>Germany</td>\n",
       "      <td>Judgement</td>\n",
       "      <td>3</td>\n",
       "    </tr>\n",
       "    <tr>\n",
       "      <th>1</th>\n",
       "      <td>61995CJ0032</td>\n",
       "      <td>Ragnemalm</td>\n",
       "      <td>A. La Pergola</td>\n",
       "      <td>Judgment of the Court (Sixth Chamber) of 24 Oc...</td>\n",
       "      <td>Sixth Chamber</td>\n",
       "      <td>Commission of the European Communities v Lis...</td>\n",
       "      <td>Check EUR-LEX webpage</td>\n",
       "      <td>Check EUR-LEX webpage</td>\n",
       "      <td>Case C-32/95 P</td>\n",
       "      <td>ECLI identifier: ECLI:EU:C:1996:402</td>\n",
       "      <td>10/2/1995</td>\n",
       "      <td>24/10/1996</td>\n",
       "      <td>Portugal</td>\n",
       "      <td>Judgement</td>\n",
       "      <td>1</td>\n",
       "    </tr>\n",
       "    <tr>\n",
       "      <th>2</th>\n",
       "      <td>61995CJ0067</td>\n",
       "      <td>Hirsch</td>\n",
       "      <td>A. La Pergola</td>\n",
       "      <td>Judgment of the Court (Second Chamber) of 9 Oc...</td>\n",
       "      <td>Second Chamber</td>\n",
       "      <td>Rank Xerox Manufacturing (Nederland) BV v In...</td>\n",
       "      <td>Reference for a preliminary ruling: Tariefco...</td>\n",
       "      <td>Common Customs Tariff - Tariff headings - Co...</td>\n",
       "      <td>Case C-67/95</td>\n",
       "      <td>ECLI identifier: ECLI:EU:C:1997:470</td>\n",
       "      <td>13/03/1995</td>\n",
       "      <td>9/10/1997</td>\n",
       "      <td>Netherlands</td>\n",
       "      <td>Judgement</td>\n",
       "      <td>1</td>\n",
       "    </tr>\n",
       "    <tr>\n",
       "      <th>3</th>\n",
       "      <td>61994CJ0308</td>\n",
       "      <td>Kakouris</td>\n",
       "      <td>A. La Pergola</td>\n",
       "      <td>Judgment of the Court (Sixth Chamber) of 1 Feb...</td>\n",
       "      <td>Sixth Chamber</td>\n",
       "      <td>Office National de l'Emploi v Heidemarie Nar...</td>\n",
       "      <td>Reference for a preliminary ruling: Cour du ...</td>\n",
       "      <td>Social security for migrant workers - Counci...</td>\n",
       "      <td>Case C-308/94</td>\n",
       "      <td>ECLI identifier: ECLI:EU:C:1996:28</td>\n",
       "      <td>22/11/1994</td>\n",
       "      <td>1/2/1996</td>\n",
       "      <td>Belgium</td>\n",
       "      <td>Judgement</td>\n",
       "      <td>1</td>\n",
       "    </tr>\n",
       "    <tr>\n",
       "      <th>4</th>\n",
       "      <td>61998CJ0285</td>\n",
       "      <td>Puissochet</td>\n",
       "      <td>A. La Pergola</td>\n",
       "      <td>Judgment of the Court of 11 January 2000</td>\n",
       "      <td>NaN</td>\n",
       "      <td>Tanja Kreil v Bundesrepublik Deutschland</td>\n",
       "      <td>Reference for a preliminary ruling: Verwaltu...</td>\n",
       "      <td>Equal treatment for men and women - Limitati...</td>\n",
       "      <td>Case C-285/98</td>\n",
       "      <td>ECLI identifier: ECLI:EU:C:2000:2</td>\n",
       "      <td>24/07/1998</td>\n",
       "      <td>11/1/2000</td>\n",
       "      <td>Germany</td>\n",
       "      <td>Judgement</td>\n",
       "      <td>1</td>\n",
       "    </tr>\n",
       "  </tbody>\n",
       "</table>\n",
       "</div>"
      ],
      "text/plain": [
       "        source       judge        advocate  \\\n",
       "0  61997CJ0147     Kapteyn   A. La Pergola   \n",
       "1  61995CJ0032   Ragnemalm   A. La Pergola   \n",
       "2  61995CJ0067      Hirsch   A. La Pergola   \n",
       "3  61994CJ0308    Kakouris   A. La Pergola   \n",
       "4  61998CJ0285  Puissochet   A. La Pergola   \n",
       "\n",
       "                                        ruling_title         chamber  \\\n",
       "0          Judgment of the Court of 10 February 2000             NaN   \n",
       "1  Judgment of the Court (Sixth Chamber) of 24 Oc...   Sixth Chamber   \n",
       "2  Judgment of the Court (Second Chamber) of 9 Oc...  Second Chamber   \n",
       "3  Judgment of the Court (Sixth Chamber) of 1 Feb...   Sixth Chamber   \n",
       "4           Judgment of the Court of 11 January 2000             NaN   \n",
       "\n",
       "                                         ruling_name  \\\n",
       "0    Deutsche Post AG v Gesellschaft fÃ¼r Zahlung...   \n",
       "1    Commission of the European Communities v Lis...   \n",
       "2    Rank Xerox Manufacturing (Nederland) BV v In...   \n",
       "3    Office National de l'Emploi v Heidemarie Nar...   \n",
       "4           Tanja Kreil v Bundesrepublik Deutschland   \n",
       "\n",
       "                                         ruling_type  \\\n",
       "0    Reference for a preliminary ruling: Oberland...   \n",
       "1                              Check EUR-LEX webpage   \n",
       "2    Reference for a preliminary ruling: Tariefco...   \n",
       "3    Reference for a preliminary ruling: Cour du ...   \n",
       "4    Reference for a preliminary ruling: Verwaltu...   \n",
       "\n",
       "                                      ruling_content  \\\n",
       "0    Public undertaking - Postal service - Non-ph...   \n",
       "1                              Check EUR-LEX webpage   \n",
       "2    Common Customs Tariff - Tariff headings - Co...   \n",
       "3    Social security for migrant workers - Counci...   \n",
       "4    Equal treatment for men and women - Limitati...   \n",
       "\n",
       "                             case_label                                 ecli  \\\n",
       "0    Joined cases C-147/97 and C-148/97   ECLI identifier: ECLI:EU:C:2000:74   \n",
       "1                        Case C-32/95 P  ECLI identifier: ECLI:EU:C:1996:402   \n",
       "2                          Case C-67/95  ECLI identifier: ECLI:EU:C:1997:470   \n",
       "3                         Case C-308/94   ECLI identifier: ECLI:EU:C:1996:28   \n",
       "4                         Case C-285/98    ECLI identifier: ECLI:EU:C:2000:2   \n",
       "\n",
       "   lodge_date document_date      country  case_type  main_subject  \n",
       "0  17/04/1997     10/2/2000      Germany  Judgement             3  \n",
       "1   10/2/1995    24/10/1996     Portugal  Judgement             1  \n",
       "2  13/03/1995     9/10/1997  Netherlands  Judgement             1  \n",
       "3  22/11/1994      1/2/1996      Belgium  Judgement             1  \n",
       "4  24/07/1998     11/1/2000      Germany  Judgement             1  "
      ]
     },
     "execution_count": 8,
     "metadata": {},
     "output_type": "execute_result"
    }
   ],
   "source": [
    "print(len(df))\n",
    "df.head()"
   ]
  },
  {
   "cell_type": "markdown",
   "metadata": {},
   "source": [
    "test of uniqueness"
   ]
  },
  {
   "cell_type": "code",
   "execution_count": 9,
   "metadata": {},
   "outputs": [
    {
     "data": {
      "text/html": [
       "<div>\n",
       "<style scoped>\n",
       "    .dataframe tbody tr th:only-of-type {\n",
       "        vertical-align: middle;\n",
       "    }\n",
       "\n",
       "    .dataframe tbody tr th {\n",
       "        vertical-align: top;\n",
       "    }\n",
       "\n",
       "    .dataframe thead th {\n",
       "        text-align: right;\n",
       "    }\n",
       "</style>\n",
       "<table border=\"1\" class=\"dataframe\">\n",
       "  <thead>\n",
       "    <tr style=\"text-align: right;\">\n",
       "      <th></th>\n",
       "      <th>source</th>\n",
       "      <th>judge</th>\n",
       "      <th>advocate</th>\n",
       "      <th>ruling_title</th>\n",
       "      <th>chamber</th>\n",
       "      <th>ruling_name</th>\n",
       "      <th>ruling_type</th>\n",
       "      <th>ruling_content</th>\n",
       "      <th>case_label</th>\n",
       "      <th>ecli</th>\n",
       "      <th>lodge_date</th>\n",
       "      <th>document_date</th>\n",
       "      <th>country</th>\n",
       "      <th>case_type</th>\n",
       "      <th>main_subject</th>\n",
       "    </tr>\n",
       "  </thead>\n",
       "  <tbody>\n",
       "    <tr>\n",
       "      <th>10030</th>\n",
       "      <td>61976CJ0003</td>\n",
       "      <td>Kutscher</td>\n",
       "      <td>Trabucchi</td>\n",
       "      <td>Judgment of the Court of 14 July 1976</td>\n",
       "      <td>NaN</td>\n",
       "      <td>Cornelis Kramer and others</td>\n",
       "      <td>References for a preliminary ruling: Arrondi...</td>\n",
       "      <td>Biological resources of the sea</td>\n",
       "      <td>Joined cases 3; 4 and 6-76</td>\n",
       "      <td>ECLI identifier: ECLI:EU:C:1976:114</td>\n",
       "      <td>12/1/1976</td>\n",
       "      <td>14/07/1976</td>\n",
       "      <td>Netherlands</td>\n",
       "      <td>Judgement</td>\n",
       "      <td>4</td>\n",
       "    </tr>\n",
       "  </tbody>\n",
       "</table>\n",
       "</div>"
      ],
      "text/plain": [
       "            source     judge   advocate  \\\n",
       "10030  61976CJ0003  Kutscher  Trabucchi   \n",
       "\n",
       "                                ruling_title chamber  \\\n",
       "10030  Judgment of the Court of 14 July 1976     NaN   \n",
       "\n",
       "                        ruling_name  \\\n",
       "10030    Cornelis Kramer and others   \n",
       "\n",
       "                                             ruling_type  \\\n",
       "10030    References for a preliminary ruling: Arrondi...   \n",
       "\n",
       "                          ruling_content                    case_label  \\\n",
       "10030    Biological resources of the sea    Joined cases 3; 4 and 6-76   \n",
       "\n",
       "                                      ecli lodge_date document_date  \\\n",
       "10030  ECLI identifier: ECLI:EU:C:1976:114  12/1/1976    14/07/1976   \n",
       "\n",
       "           country  case_type  main_subject  \n",
       "10030  Netherlands  Judgement             4  "
      ]
     },
     "execution_count": 9,
     "metadata": {},
     "output_type": "execute_result"
    }
   ],
   "source": [
    "df[df['source']=='61976CJ0003'] #the case has 4 main subjects"
   ]
  },
  {
   "cell_type": "code",
   "execution_count": 10,
   "metadata": {
    "collapsed": false
   },
   "outputs": [],
   "source": [
    "def missing_values_table(df): \n",
    "        mis_val = df.isnull().sum()\n",
    "        mis_val_percent = 100 * df.isnull().sum()/len(df)\n",
    "        mis_val_table = pd.concat([mis_val, mis_val_percent], axis=1)\n",
    "        mis_val_table = mis_val_table.rename(columns = {0 : 'Missing Values', 1 : '% of Total Values'})\n",
    "        return mis_val_table"
   ]
  },
  {
   "cell_type": "code",
   "execution_count": 11,
   "metadata": {
    "collapsed": false
   },
   "outputs": [
    {
     "name": "stdout",
     "output_type": "stream",
     "text": [
      "            Missing Values  % of Total Values\n",
      "judge                   18           0.134761\n",
      "advocate                91           0.681291\n",
      "chamber               3212          24.047316\n",
      "lodge_date               1           0.007487\n",
      "country               1240           9.283522\n"
     ]
    }
   ],
   "source": [
    "missing = missing_values_table(df)\n",
    "missing = missing[missing['Missing Values'] > 0] #showing only all those are not zero\n",
    "print(missing)"
   ]
  },
  {
   "cell_type": "code",
   "execution_count": 12,
   "metadata": {},
   "outputs": [
    {
     "data": {
      "image/png": "[encoded data removed]",
      "text/plain": [
       "<Figure size 720x288 with 1 Axes>"
      ]
     },
     "metadata": {},
     "output_type": "display_data"
    }
   ],
   "source": [
    "plt.figure(figsize=(10, 4))\n",
    "plt.barh(range(len(missing)), missing['% of Total Values'], align='center', color='#003399', alpha=0.5, label='not_specified')\n",
    "plt.yticks(range(len(missing)), missing.index)\n",
    "plt.title('% Missing Values')\n",
    "plt.show()"
   ]
  },
  {
   "cell_type": "code",
   "execution_count": 13,
   "metadata": {},
   "outputs": [],
   "source": [
    "def convert_nan(df, columns):\n",
    "    for column in columns:\n",
    "        df[str(column)] = ['not_specified' if str(i) == 'nan' else i for i in df[str(column)]]\n",
    "    return df"
   ]
  },
  {
   "cell_type": "code",
   "execution_count": 14,
   "metadata": {},
   "outputs": [],
   "source": [
    "df = convert_nan(df, ['judge','advocate','chamber','country'])"
   ]
  },
  {
   "cell_type": "code",
   "execution_count": 15,
   "metadata": {
    "collapsed": false
   },
   "outputs": [
    {
     "name": "stdout",
     "output_type": "stream",
     "text": [
      "            Missing Values  % of Total Values\n",
      "lodge_date               1           0.007487\n"
     ]
    }
   ],
   "source": [
    "#change all the nulls for not specified except date\n",
    "print(missing_values_table(df)[missing_values_table(df)['Missing Values'] > 0])"
   ]
  },
  {
   "cell_type": "markdown",
   "metadata": {},
   "source": [
    "### String to string columns"
   ]
  },
  {
   "cell_type": "markdown",
   "metadata": {},
   "source": [
    "At this point everything except dates are strings, the NaN are float and it's difficult to handle it"
   ]
  },
  {
   "cell_type": "code",
   "execution_count": 16,
   "metadata": {},
   "outputs": [],
   "source": [
    "def to_str(df):\n",
    "    columns = [i for i in df.columns.values]\n",
    "    for column in columns:\n",
    "        df[str(column)] = df[str(column)].apply(lambda x: str(x))\n",
    "    return df"
   ]
  },
  {
   "cell_type": "code",
   "execution_count": 17,
   "metadata": {},
   "outputs": [],
   "source": [
    "df = to_str(df)"
   ]
  },
  {
   "cell_type": "code",
   "execution_count": 18,
   "metadata": {},
   "outputs": [],
   "source": [
    "#test\n",
    "#columns = [i for i in df.columns.values]\n",
    "#for c in columns:\n",
    "#    print(set([type(i) for i in df[str(c)]]))"
   ]
  },
  {
   "cell_type": "markdown",
   "metadata": {},
   "source": [
    "### Handling dates and time"
   ]
  },
  {
   "cell_type": "code",
   "execution_count": 19,
   "metadata": {},
   "outputs": [],
   "source": [
    "df['lodge_date'] = pd.to_datetime(df['lodge_date'],format= '%d/%m/%Y')\n",
    "df['document_date'] = pd.to_datetime(df['document_date'],format= '%d/%m/%Y')"
   ]
  },
  {
   "cell_type": "code",
   "execution_count": 20,
   "metadata": {},
   "outputs": [],
   "source": [
    "df['year_document'] = pd.DatetimeIndex(df['document_date']).year\n",
    "df['month_document'] = pd.DatetimeIndex(df['document_date']).month\n",
    "df['year_lodge'] = pd.DatetimeIndex(df['lodge_date']).year\n",
    "df['month_lodge'] = pd.DatetimeIndex(df['lodge_date']).month"
   ]
  },
  {
   "cell_type": "markdown",
   "metadata": {},
   "source": [
    "Cases with no date"
   ]
  },
  {
   "cell_type": "code",
   "execution_count": 21,
   "metadata": {},
   "outputs": [
    {
     "data": {
      "text/html": [
       "<div>\n",
       "<style scoped>\n",
       "    .dataframe tbody tr th:only-of-type {\n",
       "        vertical-align: middle;\n",
       "    }\n",
       "\n",
       "    .dataframe tbody tr th {\n",
       "        vertical-align: top;\n",
       "    }\n",
       "\n",
       "    .dataframe thead th {\n",
       "        text-align: right;\n",
       "    }\n",
       "</style>\n",
       "<table border=\"1\" class=\"dataframe\">\n",
       "  <thead>\n",
       "    <tr style=\"text-align: right;\">\n",
       "      <th></th>\n",
       "      <th>source</th>\n",
       "      <th>judge</th>\n",
       "      <th>advocate</th>\n",
       "      <th>ruling_title</th>\n",
       "      <th>chamber</th>\n",
       "      <th>ruling_name</th>\n",
       "      <th>ruling_type</th>\n",
       "      <th>ruling_content</th>\n",
       "      <th>case_label</th>\n",
       "      <th>ecli</th>\n",
       "      <th>lodge_date</th>\n",
       "      <th>document_date</th>\n",
       "      <th>country</th>\n",
       "      <th>case_type</th>\n",
       "      <th>main_subject</th>\n",
       "      <th>year_document</th>\n",
       "      <th>month_document</th>\n",
       "      <th>year_lodge</th>\n",
       "      <th>month_lodge</th>\n",
       "    </tr>\n",
       "  </thead>\n",
       "  <tbody>\n",
       "    <tr>\n",
       "      <th>9361</th>\n",
       "      <td>62014CJ0049</td>\n",
       "      <td>Levits</td>\n",
       "      <td>Szpunar</td>\n",
       "      <td>Judgment of the Court (First Chamber) of 18 Fe...</td>\n",
       "      <td>First Chamber</td>\n",
       "      <td>Finanmadrid EFC SA v JesÃºs Vicente AlbÃ¡n Zam...</td>\n",
       "      <td>Request for a preliminary ruling from the Juzg...</td>\n",
       "      <td>Reference for a preliminary ruling â Directi...</td>\n",
       "      <td>Case C-49/14</td>\n",
       "      <td>ECLI identifier: ECLI:EU:C:2016:98</td>\n",
       "      <td>NaT</td>\n",
       "      <td>2016-02-18</td>\n",
       "      <td>Spain</td>\n",
       "      <td>Judgement</td>\n",
       "      <td>3</td>\n",
       "      <td>2016</td>\n",
       "      <td>2</td>\n",
       "      <td>NaN</td>\n",
       "      <td>NaN</td>\n",
       "    </tr>\n",
       "  </tbody>\n",
       "</table>\n",
       "</div>"
      ],
      "text/plain": [
       "           source   judge advocate  \\\n",
       "9361  62014CJ0049  Levits  Szpunar   \n",
       "\n",
       "                                           ruling_title        chamber  \\\n",
       "9361  Judgment of the Court (First Chamber) of 18 Fe...  First Chamber   \n",
       "\n",
       "                                            ruling_name  \\\n",
       "9361  Finanmadrid EFC SA v JesÃºs Vicente AlbÃ¡n Zam...   \n",
       "\n",
       "                                            ruling_type  \\\n",
       "9361  Request for a preliminary ruling from the Juzg...   \n",
       "\n",
       "                                         ruling_content    case_label  \\\n",
       "9361  Reference for a preliminary ruling â Directi...  Case C-49/14   \n",
       "\n",
       "                                    ecli lodge_date document_date country  \\\n",
       "9361  ECLI identifier: ECLI:EU:C:2016:98        NaT    2016-02-18   Spain   \n",
       "\n",
       "      case_type main_subject  year_document  month_document  year_lodge  \\\n",
       "9361  Judgement            3           2016               2         NaN   \n",
       "\n",
       "      month_lodge  \n",
       "9361          NaN  "
      ]
     },
     "execution_count": 21,
     "metadata": {},
     "output_type": "execute_result"
    }
   ],
   "source": [
    "df[df['lodge_date'].isnull()]"
   ]
  },
  {
   "cell_type": "markdown",
   "metadata": {},
   "source": [
    "For this case we gop to eulex=62014CJ0049, to paste 23/01/2014 manually"
   ]
  },
  {
   "cell_type": "code",
   "execution_count": 22,
   "metadata": {},
   "outputs": [],
   "source": [
    "df.loc[df['source'] == '62014CJ0049','lodge_date'] = pd.to_datetime('23/01/2014',format= '%d/%m/%Y')"
   ]
  },
  {
   "cell_type": "code",
   "execution_count": 23,
   "metadata": {},
   "outputs": [
    {
     "data": {
      "text/html": [
       "<div>\n",
       "<style scoped>\n",
       "    .dataframe tbody tr th:only-of-type {\n",
       "        vertical-align: middle;\n",
       "    }\n",
       "\n",
       "    .dataframe tbody tr th {\n",
       "        vertical-align: top;\n",
       "    }\n",
       "\n",
       "    .dataframe thead th {\n",
       "        text-align: right;\n",
       "    }\n",
       "</style>\n",
       "<table border=\"1\" class=\"dataframe\">\n",
       "  <thead>\n",
       "    <tr style=\"text-align: right;\">\n",
       "      <th></th>\n",
       "      <th>source</th>\n",
       "      <th>judge</th>\n",
       "      <th>advocate</th>\n",
       "      <th>ruling_title</th>\n",
       "      <th>chamber</th>\n",
       "      <th>ruling_name</th>\n",
       "      <th>ruling_type</th>\n",
       "      <th>ruling_content</th>\n",
       "      <th>case_label</th>\n",
       "      <th>ecli</th>\n",
       "      <th>lodge_date</th>\n",
       "      <th>document_date</th>\n",
       "      <th>country</th>\n",
       "      <th>case_type</th>\n",
       "      <th>main_subject</th>\n",
       "      <th>year_document</th>\n",
       "      <th>month_document</th>\n",
       "      <th>year_lodge</th>\n",
       "      <th>month_lodge</th>\n",
       "    </tr>\n",
       "  </thead>\n",
       "  <tbody>\n",
       "  </tbody>\n",
       "</table>\n",
       "</div>"
      ],
      "text/plain": [
       "Empty DataFrame\n",
       "Columns: [source, judge, advocate, ruling_title, chamber, ruling_name, ruling_type, ruling_content, case_label, ecli, lodge_date, document_date, country, case_type, main_subject, year_document, month_document, year_lodge, month_lodge]\n",
       "Index: []"
      ]
     },
     "execution_count": 23,
     "metadata": {},
     "output_type": "execute_result"
    }
   ],
   "source": [
    "df[df['document_date'].isnull()]"
   ]
  },
  {
   "cell_type": "markdown",
   "metadata": {},
   "source": [
    "Creating a new feature, the size in time of the case"
   ]
  },
  {
   "cell_type": "code",
   "execution_count": 24,
   "metadata": {},
   "outputs": [],
   "source": [
    "df['case_time'] = df['document_date'] - df['lodge_date']"
   ]
  },
  {
   "cell_type": "code",
   "execution_count": 25,
   "metadata": {},
   "outputs": [
    {
     "data": {
      "text/plain": [
       "0   1029 days\n",
       "1    622 days\n",
       "2    941 days\n",
       "Name: case_time, dtype: timedelta64[ns]"
      ]
     },
     "execution_count": 25,
     "metadata": {},
     "output_type": "execute_result"
    }
   ],
   "source": [
    "df['case_time'].head(3) # we expect them to be all positives"
   ]
  },
  {
   "cell_type": "markdown",
   "metadata": {},
   "source": [
    "Check out the exceptions"
   ]
  },
  {
   "cell_type": "code",
   "execution_count": 26,
   "metadata": {},
   "outputs": [
    {
     "data": {
      "text/html": [
       "<div>\n",
       "<style scoped>\n",
       "    .dataframe tbody tr th:only-of-type {\n",
       "        vertical-align: middle;\n",
       "    }\n",
       "\n",
       "    .dataframe tbody tr th {\n",
       "        vertical-align: top;\n",
       "    }\n",
       "\n",
       "    .dataframe thead th {\n",
       "        text-align: right;\n",
       "    }\n",
       "</style>\n",
       "<table border=\"1\" class=\"dataframe\">\n",
       "  <thead>\n",
       "    <tr style=\"text-align: right;\">\n",
       "      <th></th>\n",
       "      <th>source</th>\n",
       "      <th>judge</th>\n",
       "      <th>advocate</th>\n",
       "      <th>ruling_title</th>\n",
       "      <th>chamber</th>\n",
       "      <th>ruling_name</th>\n",
       "      <th>ruling_type</th>\n",
       "      <th>ruling_content</th>\n",
       "      <th>case_label</th>\n",
       "      <th>ecli</th>\n",
       "      <th>lodge_date</th>\n",
       "      <th>document_date</th>\n",
       "      <th>country</th>\n",
       "      <th>case_type</th>\n",
       "      <th>main_subject</th>\n",
       "      <th>year_document</th>\n",
       "      <th>month_document</th>\n",
       "      <th>year_lodge</th>\n",
       "      <th>month_lodge</th>\n",
       "      <th>case_time</th>\n",
       "    </tr>\n",
       "  </thead>\n",
       "  <tbody>\n",
       "    <tr>\n",
       "      <th>7424</th>\n",
       "      <td>61969CJ0074</td>\n",
       "      <td>Monaco</td>\n",
       "      <td>Roemer</td>\n",
       "      <td>Judgment of the Court of 18 June 1970</td>\n",
       "      <td>not_specified</td>\n",
       "      <td>Hauptzollamt Bremen-Freihafen v Waren-Import...</td>\n",
       "      <td>Check EUR-LEX webpage</td>\n",
       "      <td>Check EUR-LEX webpage</td>\n",
       "      <td>Case 74-69</td>\n",
       "      <td>ECLI identifier: ECLI:EU:C:1970:58</td>\n",
       "      <td>1970-12-04</td>\n",
       "      <td>1970-06-18</td>\n",
       "      <td>Germany</td>\n",
       "      <td>Judgement</td>\n",
       "      <td>2</td>\n",
       "      <td>1970</td>\n",
       "      <td>6</td>\n",
       "      <td>1970.0</td>\n",
       "      <td>12.0</td>\n",
       "      <td>-169 days</td>\n",
       "    </tr>\n",
       "  </tbody>\n",
       "</table>\n",
       "</div>"
      ],
      "text/plain": [
       "           source   judge advocate                           ruling_title  \\\n",
       "7424  61969CJ0074  Monaco   Roemer  Judgment of the Court of 18 June 1970   \n",
       "\n",
       "            chamber                                        ruling_name  \\\n",
       "7424  not_specified    Hauptzollamt Bremen-Freihafen v Waren-Import...   \n",
       "\n",
       "                ruling_type         ruling_content    case_label  \\\n",
       "7424  Check EUR-LEX webpage  Check EUR-LEX webpage    Case 74-69   \n",
       "\n",
       "                                    ecli lodge_date document_date  country  \\\n",
       "7424  ECLI identifier: ECLI:EU:C:1970:58 1970-12-04    1970-06-18  Germany   \n",
       "\n",
       "      case_type main_subject  year_document  month_document  year_lodge  \\\n",
       "7424  Judgement            2           1970               6      1970.0   \n",
       "\n",
       "      month_lodge case_time  \n",
       "7424         12.0 -169 days  "
      ]
     },
     "execution_count": 26,
     "metadata": {},
     "output_type": "execute_result"
    }
   ],
   "source": [
    "df[df['case_time'] < pd.Timedelta('0 days') ]"
   ]
  },
  {
   "cell_type": "markdown",
   "metadata": {},
   "source": [
    "There's one case, and in eulex=61969CJ0074, to paste 1969-12-04 manually"
   ]
  },
  {
   "cell_type": "code",
   "execution_count": 27,
   "metadata": {},
   "outputs": [],
   "source": [
    "df.loc[df['source'] == '61969CJ0074','lodge_date'] = pd.to_datetime('04/12/1969',format= '%d/%m/%Y')"
   ]
  },
  {
   "cell_type": "code",
   "execution_count": 28,
   "metadata": {},
   "outputs": [],
   "source": [
    "#re-run case_time since we add the correct date\n",
    "df['case_time'] = df['document_date'] - df['lodge_date']"
   ]
  },
  {
   "cell_type": "code",
   "execution_count": 29,
   "metadata": {},
   "outputs": [
    {
     "data": {
      "text/html": [
       "<div>\n",
       "<style scoped>\n",
       "    .dataframe tbody tr th:only-of-type {\n",
       "        vertical-align: middle;\n",
       "    }\n",
       "\n",
       "    .dataframe tbody tr th {\n",
       "        vertical-align: top;\n",
       "    }\n",
       "\n",
       "    .dataframe thead th {\n",
       "        text-align: right;\n",
       "    }\n",
       "</style>\n",
       "<table border=\"1\" class=\"dataframe\">\n",
       "  <thead>\n",
       "    <tr style=\"text-align: right;\">\n",
       "      <th></th>\n",
       "      <th>source</th>\n",
       "      <th>judge</th>\n",
       "      <th>advocate</th>\n",
       "      <th>ruling_title</th>\n",
       "      <th>chamber</th>\n",
       "      <th>ruling_name</th>\n",
       "      <th>ruling_type</th>\n",
       "      <th>ruling_content</th>\n",
       "      <th>case_label</th>\n",
       "      <th>ecli</th>\n",
       "      <th>lodge_date</th>\n",
       "      <th>document_date</th>\n",
       "      <th>country</th>\n",
       "      <th>case_type</th>\n",
       "      <th>main_subject</th>\n",
       "      <th>year_document</th>\n",
       "      <th>month_document</th>\n",
       "      <th>year_lodge</th>\n",
       "      <th>month_lodge</th>\n",
       "      <th>case_time</th>\n",
       "    </tr>\n",
       "  </thead>\n",
       "  <tbody>\n",
       "  </tbody>\n",
       "</table>\n",
       "</div>"
      ],
      "text/plain": [
       "Empty DataFrame\n",
       "Columns: [source, judge, advocate, ruling_title, chamber, ruling_name, ruling_type, ruling_content, case_label, ecli, lodge_date, document_date, country, case_type, main_subject, year_document, month_document, year_lodge, month_lodge, case_time]\n",
       "Index: []"
      ]
     },
     "execution_count": 29,
     "metadata": {},
     "output_type": "execute_result"
    }
   ],
   "source": [
    "df[df['case_time'] < pd.Timedelta('0 days') ]"
   ]
  },
  {
   "cell_type": "markdown",
   "metadata": {},
   "source": [
    "### Number of countries and corrections"
   ]
  },
  {
   "cell_type": "markdown",
   "metadata": {},
   "source": [
    "Create a column counting the number of countries involved in the case"
   ]
  },
  {
   "cell_type": "code",
   "execution_count": 30,
   "metadata": {},
   "outputs": [],
   "source": [
    "df['n_countries'] = df['country'].apply(lambda x: len(x.split(';')) if x != 'nan' else 0)"
   ]
  },
  {
   "cell_type": "code",
   "execution_count": 31,
   "metadata": {},
   "outputs": [
    {
     "data": {
      "text/html": [
       "<div>\n",
       "<style scoped>\n",
       "    .dataframe tbody tr th:only-of-type {\n",
       "        vertical-align: middle;\n",
       "    }\n",
       "\n",
       "    .dataframe tbody tr th {\n",
       "        vertical-align: top;\n",
       "    }\n",
       "\n",
       "    .dataframe thead th {\n",
       "        text-align: right;\n",
       "    }\n",
       "</style>\n",
       "<table border=\"1\" class=\"dataframe\">\n",
       "  <thead>\n",
       "    <tr style=\"text-align: right;\">\n",
       "      <th></th>\n",
       "      <th>source</th>\n",
       "      <th>judge</th>\n",
       "      <th>advocate</th>\n",
       "      <th>ruling_title</th>\n",
       "      <th>chamber</th>\n",
       "      <th>ruling_name</th>\n",
       "      <th>ruling_type</th>\n",
       "      <th>ruling_content</th>\n",
       "      <th>case_label</th>\n",
       "      <th>ecli</th>\n",
       "      <th>...</th>\n",
       "      <th>document_date</th>\n",
       "      <th>country</th>\n",
       "      <th>case_type</th>\n",
       "      <th>main_subject</th>\n",
       "      <th>year_document</th>\n",
       "      <th>month_document</th>\n",
       "      <th>year_lodge</th>\n",
       "      <th>month_lodge</th>\n",
       "      <th>case_time</th>\n",
       "      <th>n_countries</th>\n",
       "    </tr>\n",
       "  </thead>\n",
       "  <tbody>\n",
       "    <tr>\n",
       "      <th>34</th>\n",
       "      <td>62000CJ0204</td>\n",
       "      <td>Edward</td>\n",
       "      <td>D.Â Ruiz-Jarabo Colomer</td>\n",
       "      <td>Judgment of the Court (Fifth Chamber) of 7 Jan...</td>\n",
       "      <td>Fifth Chamber</td>\n",
       "      <td>Aalborg Portland A/S (C-204/00 P); Irish Cem...</td>\n",
       "      <td>Check EUR-LEX webpage</td>\n",
       "      <td>Check EUR-LEX webpage</td>\n",
       "      <td>Joined cases C-204/00 P; C-205/00 P; C-211/0...</td>\n",
       "      <td>ECLI identifier: ECLI:EU:C:2004:6</td>\n",
       "      <td>...</td>\n",
       "      <td>2004-01-07</td>\n",
       "      <td>Ireland; France; Denmark; Italy</td>\n",
       "      <td>Judgement</td>\n",
       "      <td>1</td>\n",
       "      <td>2004</td>\n",
       "      <td>1</td>\n",
       "      <td>2000.0</td>\n",
       "      <td>5.0</td>\n",
       "      <td>1323 days</td>\n",
       "      <td>4</td>\n",
       "    </tr>\n",
       "  </tbody>\n",
       "</table>\n",
       "<p>1 rows × 21 columns</p>\n",
       "</div>"
      ],
      "text/plain": [
       "         source   judge                  advocate  \\\n",
       "34  62000CJ0204  Edward   D.Â Ruiz-Jarabo Colomer   \n",
       "\n",
       "                                         ruling_title        chamber  \\\n",
       "34  Judgment of the Court (Fifth Chamber) of 7 Jan...  Fifth Chamber   \n",
       "\n",
       "                                          ruling_name            ruling_type  \\\n",
       "34    Aalborg Portland A/S (C-204/00 P); Irish Cem...  Check EUR-LEX webpage   \n",
       "\n",
       "           ruling_content                                         case_label  \\\n",
       "34  Check EUR-LEX webpage    Joined cases C-204/00 P; C-205/00 P; C-211/0...   \n",
       "\n",
       "                                 ecli     ...     document_date  \\\n",
       "34  ECLI identifier: ECLI:EU:C:2004:6     ...        2004-01-07   \n",
       "\n",
       "                            country  case_type main_subject year_document  \\\n",
       "34  Ireland; France; Denmark; Italy  Judgement            1          2004   \n",
       "\n",
       "    month_document  year_lodge  month_lodge  case_time n_countries  \n",
       "34               1      2000.0          5.0  1323 days           4  \n",
       "\n",
       "[1 rows x 21 columns]"
      ]
     },
     "execution_count": 31,
     "metadata": {},
     "output_type": "execute_result"
    }
   ],
   "source": [
    "#test\n",
    "df[df['source']=='62000CJ0204'] #we expect 4 countries"
   ]
  },
  {
   "cell_type": "markdown",
   "metadata": {},
   "source": [
    "We need a manual check to see what are the wrong cases in all those where there is only one country involved"
   ]
  },
  {
   "cell_type": "code",
   "execution_count": 32,
   "metadata": {},
   "outputs": [
    {
     "data": {
      "text/plain": [
       "array(['Austria', 'BEL', 'Belgium', 'Bulgaria', 'Croatia', 'Cyprus',\n",
       "       'Czech Republic', 'DEU', 'Denmark', 'Estonia', 'FIN', 'FRA',\n",
       "       'Finland', 'France', 'GBR', 'Germany', 'Greece', 'Hungary',\n",
       "       'Ireland', 'Italy', 'La Pergola', 'Latvia', 'Lithuania',\n",
       "       'Luxembourg', 'Malta', 'NLD', 'Netherlands', 'Poland', 'Portugal',\n",
       "       'Provisional data', 'Romania', 'Slovakia', 'Slovenia', 'Spain',\n",
       "       'Sweden', 'United Kingdom', 'not_specified'], dtype=object)"
      ]
     },
     "execution_count": 32,
     "metadata": {},
     "output_type": "execute_result"
    }
   ],
   "source": [
    "df[df['n_countries'] == 1]['country'].sort_values().unique()"
   ]
  },
  {
   "cell_type": "markdown",
   "metadata": {},
   "source": [
    "It looks like there's one advocate in the country column, fortunately it's the only case, and we re-arange them manually"
   ]
  },
  {
   "cell_type": "code",
   "execution_count": 33,
   "metadata": {},
   "outputs": [
    {
     "data": {
      "text/html": [
       "<div>\n",
       "<style scoped>\n",
       "    .dataframe tbody tr th:only-of-type {\n",
       "        vertical-align: middle;\n",
       "    }\n",
       "\n",
       "    .dataframe tbody tr th {\n",
       "        vertical-align: top;\n",
       "    }\n",
       "\n",
       "    .dataframe thead th {\n",
       "        text-align: right;\n",
       "    }\n",
       "</style>\n",
       "<table border=\"1\" class=\"dataframe\">\n",
       "  <thead>\n",
       "    <tr style=\"text-align: right;\">\n",
       "      <th></th>\n",
       "      <th>country</th>\n",
       "      <th>judge</th>\n",
       "      <th>advocate</th>\n",
       "    </tr>\n",
       "  </thead>\n",
       "  <tbody>\n",
       "    <tr>\n",
       "      <th>2341</th>\n",
       "      <td>La Pergola</td>\n",
       "      <td>Jacobs</td>\n",
       "      <td>FIN</td>\n",
       "    </tr>\n",
       "  </tbody>\n",
       "</table>\n",
       "</div>"
      ],
      "text/plain": [
       "         country   judge advocate\n",
       "2341  La Pergola  Jacobs      FIN"
      ]
     },
     "execution_count": 33,
     "metadata": {},
     "output_type": "execute_result"
    }
   ],
   "source": [
    "df[df['country']=='La Pergola'][['country','judge','advocate']]"
   ]
  },
  {
   "cell_type": "code",
   "execution_count": 34,
   "metadata": {},
   "outputs": [],
   "source": [
    "df.loc[df['country']=='La Pergola','judge'] = 'La Pergola'\n",
    "df.loc[df['country']=='La Pergola','advocate'] = 'Jacobs'"
   ]
  },
  {
   "cell_type": "code",
   "execution_count": 35,
   "metadata": {},
   "outputs": [],
   "source": [
    "#Incorrect cases\n",
    "cases ={\n",
    "('Provisional data','not_specified'),\n",
    "('NLD','Netherlands'),\n",
    "('La Pergola','not_specified'),\n",
    "('GBR','United Kingdom'),\n",
    "('FRA','France'),\n",
    "('FIN','Finland'),\n",
    "('DEU','Germany'),\n",
    "('BEL','Belgium'),\n",
    "('XX','not_specified'),\n",
    "('USA','United States')\n",
    "}"
   ]
  },
  {
   "cell_type": "code",
   "execution_count": 36,
   "metadata": {},
   "outputs": [],
   "source": [
    "def find_replace(l, cases):\n",
    "    for a, b in cases:\n",
    "        l = [row.replace(a, b) for row in l]\n",
    "    return l"
   ]
  },
  {
   "cell_type": "code",
   "execution_count": 37,
   "metadata": {},
   "outputs": [],
   "source": [
    "df['country'] = find_replace(df['country'], cases)"
   ]
  },
  {
   "cell_type": "code",
   "execution_count": 38,
   "metadata": {},
   "outputs": [
    {
     "data": {
      "text/html": [
       "<div>\n",
       "<style scoped>\n",
       "    .dataframe tbody tr th:only-of-type {\n",
       "        vertical-align: middle;\n",
       "    }\n",
       "\n",
       "    .dataframe tbody tr th {\n",
       "        vertical-align: top;\n",
       "    }\n",
       "\n",
       "    .dataframe thead th {\n",
       "        text-align: right;\n",
       "    }\n",
       "</style>\n",
       "<table border=\"1\" class=\"dataframe\">\n",
       "  <thead>\n",
       "    <tr style=\"text-align: right;\">\n",
       "      <th></th>\n",
       "      <th>source</th>\n",
       "      <th>judge</th>\n",
       "      <th>advocate</th>\n",
       "      <th>ruling_title</th>\n",
       "      <th>chamber</th>\n",
       "      <th>ruling_name</th>\n",
       "      <th>ruling_type</th>\n",
       "      <th>ruling_content</th>\n",
       "      <th>case_label</th>\n",
       "      <th>ecli</th>\n",
       "      <th>...</th>\n",
       "      <th>document_date</th>\n",
       "      <th>country</th>\n",
       "      <th>case_type</th>\n",
       "      <th>main_subject</th>\n",
       "      <th>year_document</th>\n",
       "      <th>month_document</th>\n",
       "      <th>year_lodge</th>\n",
       "      <th>month_lodge</th>\n",
       "      <th>case_time</th>\n",
       "      <th>n_countries</th>\n",
       "    </tr>\n",
       "  </thead>\n",
       "  <tbody>\n",
       "  </tbody>\n",
       "</table>\n",
       "<p>0 rows × 21 columns</p>\n",
       "</div>"
      ],
      "text/plain": [
       "Empty DataFrame\n",
       "Columns: [source, judge, advocate, ruling_title, chamber, ruling_name, ruling_type, ruling_content, case_label, ecli, lodge_date, document_date, country, case_type, main_subject, year_document, month_document, year_lodge, month_lodge, case_time, n_countries]\n",
       "Index: []\n",
       "\n",
       "[0 rows x 21 columns]"
      ]
     },
     "execution_count": 38,
     "metadata": {},
     "output_type": "execute_result"
    }
   ],
   "source": [
    "df[df['country'] == 'FRA'] #test country"
   ]
  },
  {
   "cell_type": "markdown",
   "metadata": {},
   "source": [
    "---"
   ]
  },
  {
   "cell_type": "markdown",
   "metadata": {},
   "source": [
    "### Countries Table"
   ]
  },
  {
   "cell_type": "markdown",
   "metadata": {},
   "source": [
    "Now we need to create an independent dataset which enlist and relates the cases with the unique countries"
   ]
  },
  {
   "cell_type": "code",
   "execution_count": 39,
   "metadata": {},
   "outputs": [],
   "source": [
    "def create_countries(celex, country, n_c):\n",
    "    #vector of countries raw sorted by cases\n",
    "    country_vec = [row.split(';') for row in country]\n",
    "    country_vec = [item for sublist in country_vec for item in sublist]\n",
    "    country_vec = [i if i[0] != ' ' else i[1:] for i in country_vec]\n",
    "    #vector of celex ids raw sorted by cases\n",
    "    celex_vec = []        \n",
    "    for idx, n in enumerate(n_c):\n",
    "        if n == 0:\n",
    "            celex_vec.append([celex[idx]])\n",
    "        else:\n",
    "            celex_vec.append([celex[idx] for k in range(n)])\n",
    "    celex_vec = [item for sublist in celex_vec for item in sublist]\n",
    "    assert len(celex_vec) == len(country_vec), 'Not equal lenght'\n",
    "    return pd.DataFrame({'source':celex_vec,'country':country_vec})"
   ]
  },
  {
   "cell_type": "code",
   "execution_count": 40,
   "metadata": {},
   "outputs": [],
   "source": [
    "df_countries = create_countries(df['source'], df['country'], df['n_countries'])"
   ]
  },
  {
   "cell_type": "code",
   "execution_count": 41,
   "metadata": {},
   "outputs": [
    {
     "data": {
      "text/html": [
       "<div>\n",
       "<style scoped>\n",
       "    .dataframe tbody tr th:only-of-type {\n",
       "        vertical-align: middle;\n",
       "    }\n",
       "\n",
       "    .dataframe tbody tr th {\n",
       "        vertical-align: top;\n",
       "    }\n",
       "\n",
       "    .dataframe thead th {\n",
       "        text-align: right;\n",
       "    }\n",
       "</style>\n",
       "<table border=\"1\" class=\"dataframe\">\n",
       "  <thead>\n",
       "    <tr style=\"text-align: right;\">\n",
       "      <th></th>\n",
       "      <th>source</th>\n",
       "      <th>country</th>\n",
       "    </tr>\n",
       "  </thead>\n",
       "  <tbody>\n",
       "    <tr>\n",
       "      <th>0</th>\n",
       "      <td>61997CJ0147</td>\n",
       "      <td>Germany</td>\n",
       "    </tr>\n",
       "    <tr>\n",
       "      <th>1</th>\n",
       "      <td>61995CJ0032</td>\n",
       "      <td>Portugal</td>\n",
       "    </tr>\n",
       "    <tr>\n",
       "      <th>2</th>\n",
       "      <td>61995CJ0067</td>\n",
       "      <td>Netherlands</td>\n",
       "    </tr>\n",
       "    <tr>\n",
       "      <th>3</th>\n",
       "      <td>61994CJ0308</td>\n",
       "      <td>Belgium</td>\n",
       "    </tr>\n",
       "    <tr>\n",
       "      <th>4</th>\n",
       "      <td>61998CJ0285</td>\n",
       "      <td>Germany</td>\n",
       "    </tr>\n",
       "  </tbody>\n",
       "</table>\n",
       "</div>"
      ],
      "text/plain": [
       "        source      country\n",
       "0  61997CJ0147      Germany\n",
       "1  61995CJ0032     Portugal\n",
       "2  61995CJ0067  Netherlands\n",
       "3  61994CJ0308      Belgium\n",
       "4  61998CJ0285      Germany"
      ]
     },
     "execution_count": 41,
     "metadata": {},
     "output_type": "execute_result"
    }
   ],
   "source": [
    "df_countries.head()"
   ]
  },
  {
   "cell_type": "code",
   "execution_count": 42,
   "metadata": {},
   "outputs": [],
   "source": [
    "#df_countries.to_csv('../data/countries.csv', index=False)"
   ]
  },
  {
   "cell_type": "markdown",
   "metadata": {},
   "source": [
    "All the wrong cases are replaced"
   ]
  },
  {
   "cell_type": "markdown",
   "metadata": {},
   "source": [
    "### Optimizing labels"
   ]
  },
  {
   "cell_type": "code",
   "execution_count": 43,
   "metadata": {},
   "outputs": [],
   "source": [
    "df['joined_cases'] = [1 if i.find('oin')!=-1 else 0 for i in df['case_label']]"
   ]
  },
  {
   "cell_type": "code",
   "execution_count": 44,
   "metadata": {},
   "outputs": [],
   "source": [
    "df['ecli'] = [i[22:] for i in df['ecli']]"
   ]
  },
  {
   "cell_type": "markdown",
   "metadata": {},
   "source": [
    "--- \n",
    "### Chamber country"
   ]
  },
  {
   "cell_type": "code",
   "execution_count": 45,
   "metadata": {},
   "outputs": [
    {
     "data": {
      "text/plain": [
       "array(['not_specified', 'Sixth Chamber', 'Second Chamber',\n",
       "       'Fifth Chamber', 'Grand Chamber', 'Third Chamber', 'First Chamber',\n",
       "       'Fourth Chamber', 'Ninth Chamber', 'Full Court', 'Seventh Chamber',\n",
       "       'Eighth Chamber', 'Tenth Chamber', 'sixiÃ¨me chambre',\n",
       "       'as amended by Order of 10 July 1975', '512032', '512031'],\n",
       "      dtype=object)"
      ]
     },
     "execution_count": 45,
     "metadata": {},
     "output_type": "execute_result"
    }
   ],
   "source": [
    "df['chamber'].unique()"
   ]
  },
  {
   "cell_type": "markdown",
   "metadata": {},
   "source": [
    "After check in eulex manually"
   ]
  },
  {
   "cell_type": "code",
   "execution_count": 46,
   "metadata": {},
   "outputs": [],
   "source": [
    "#Incorrect cases\n",
    "cases2 ={\n",
    "('512032','Sixth Chamber'),\n",
    "('512031','Sixth Chamber'),\n",
    "('sixième chambre','Sixth chamber'),\n",
    "('sixiÃ¨me chambre','Sixth chamber'),\n",
    "('as amended by Order of 10 July 1975','First chamber')\n",
    "}"
   ]
  },
  {
   "cell_type": "code",
   "execution_count": 47,
   "metadata": {},
   "outputs": [],
   "source": [
    "df['chamber'] = find_replace(df['chamber'], cases2)"
   ]
  },
  {
   "cell_type": "code",
   "execution_count": 48,
   "metadata": {},
   "outputs": [
    {
     "data": {
      "text/html": [
       "<div>\n",
       "<style scoped>\n",
       "    .dataframe tbody tr th:only-of-type {\n",
       "        vertical-align: middle;\n",
       "    }\n",
       "\n",
       "    .dataframe tbody tr th {\n",
       "        vertical-align: top;\n",
       "    }\n",
       "\n",
       "    .dataframe thead th {\n",
       "        text-align: right;\n",
       "    }\n",
       "</style>\n",
       "<table border=\"1\" class=\"dataframe\">\n",
       "  <thead>\n",
       "    <tr style=\"text-align: right;\">\n",
       "      <th></th>\n",
       "      <th>source</th>\n",
       "      <th>judge</th>\n",
       "      <th>advocate</th>\n",
       "      <th>ruling_title</th>\n",
       "      <th>chamber</th>\n",
       "      <th>ruling_name</th>\n",
       "      <th>ruling_type</th>\n",
       "      <th>ruling_content</th>\n",
       "      <th>case_label</th>\n",
       "      <th>ecli</th>\n",
       "      <th>...</th>\n",
       "      <th>country</th>\n",
       "      <th>case_type</th>\n",
       "      <th>main_subject</th>\n",
       "      <th>year_document</th>\n",
       "      <th>month_document</th>\n",
       "      <th>year_lodge</th>\n",
       "      <th>month_lodge</th>\n",
       "      <th>case_time</th>\n",
       "      <th>n_countries</th>\n",
       "      <th>joined_cases</th>\n",
       "    </tr>\n",
       "  </thead>\n",
       "  <tbody>\n",
       "  </tbody>\n",
       "</table>\n",
       "<p>0 rows × 22 columns</p>\n",
       "</div>"
      ],
      "text/plain": [
       "Empty DataFrame\n",
       "Columns: [source, judge, advocate, ruling_title, chamber, ruling_name, ruling_type, ruling_content, case_label, ecli, lodge_date, document_date, country, case_type, main_subject, year_document, month_document, year_lodge, month_lodge, case_time, n_countries, joined_cases]\n",
       "Index: []\n",
       "\n",
       "[0 rows x 22 columns]"
      ]
     },
     "execution_count": 48,
     "metadata": {},
     "output_type": "execute_result"
    }
   ],
   "source": [
    "df[df['chamber'] == '512032'] #test chamber"
   ]
  },
  {
   "cell_type": "code",
   "execution_count": 49,
   "metadata": {},
   "outputs": [],
   "source": [
    "df['country-chamber'] = df['country']+'-'+df['chamber']"
   ]
  },
  {
   "cell_type": "code",
   "execution_count": 50,
   "metadata": {},
   "outputs": [],
   "source": [
    "#sorted(df[df['n_countries'] == 1]['country-chamber'].unique())"
   ]
  },
  {
   "cell_type": "code",
   "execution_count": 51,
   "metadata": {},
   "outputs": [],
   "source": [
    "years = sorted(df['year_document'].unique())\n",
    "nan_chamber = []\n",
    "for year in years:\n",
    "    group = df[df['year_document'] == year].groupby('chamber').count()\n",
    "    nan_chamber.append(group.loc['not_specified']['source']/group['source'].sum()*100)"
   ]
  },
  {
   "cell_type": "code",
   "execution_count": 52,
   "metadata": {},
   "outputs": [
    {
     "data": {
      "image/png": "[encoded data removed]",
      "text/plain": [
       "<Figure size 1296x432 with 1 Axes>"
      ]
     },
     "metadata": {},
     "output_type": "display_data"
    }
   ],
   "source": [
    "plt.figure(figsize=(18, 6))\n",
    "position = range(len(years))\n",
    "plt.bar(position, nan_chamber, align='center', alpha=0.8, label='not_specified')\n",
    "plt.xticks(position, years, rotation=90)\n",
    "plt.legend(loc='best')\n",
    "plt.title('% of Null Chamber over the years')\n",
    "plt.show()"
   ]
  },
  {
   "cell_type": "code",
   "execution_count": 53,
   "metadata": {},
   "outputs": [],
   "source": [
    "#write a next version of the dataset\n",
    "#df.to_csv('../data/cases.csv')"
   ]
  },
  {
   "cell_type": "markdown",
   "metadata": {},
   "source": [
    "---"
   ]
  },
  {
   "cell_type": "markdown",
   "metadata": {},
   "source": [
    "## Validation of columns in rulings"
   ]
  },
  {
   "cell_type": "markdown",
   "metadata": {},
   "source": [
    "This step is additional, since the columns related with the rulings where mixed up, what we wnat at the end of the day it's to merge the two parts of the case"
   ]
  },
  {
   "cell_type": "markdown",
   "metadata": {},
   "source": [
    "Applying the same methodology"
   ]
  },
  {
   "cell_type": "code",
   "execution_count": 220,
   "metadata": {},
   "outputs": [],
   "source": [
    "df_or = pd.read_csv('../data/orders_ruling.csv', encoding='Latin-1') \n",
    "df_jr = pd.read_csv('../data/judgements_ruling.csv', encoding='Latin-1') #utf8 expected characters\n",
    "df_jr = df_jr[list(df_or.columns.values)] #order the columns\n",
    "raw_r = df_jr.append(df_or, ignore_index=True)"
   ]
  },
  {
   "cell_type": "code",
   "execution_count": 221,
   "metadata": {},
   "outputs": [
    {
     "name": "stdout",
     "output_type": "stream",
     "text": [
      "19680 13357\n"
     ]
    }
   ],
   "source": [
    "print(len(raw_r), len(raw_r['c1'].unique()))"
   ]
  },
  {
   "cell_type": "code",
   "execution_count": 222,
   "metadata": {},
   "outputs": [],
   "source": [
    "df_r = get_grouped_df(raw_r, 'c1', 'c2')"
   ]
  },
  {
   "cell_type": "markdown",
   "metadata": {},
   "source": [
    "The columns ruling_title are correct and naturally the sources (c1,c2)"
   ]
  },
  {
   "cell_type": "code",
   "execution_count": 223,
   "metadata": {},
   "outputs": [],
   "source": [
    "df_r = df_r[['c1','c3','c4','c5','c6','c7']]\n",
    "df_r.columns = ['source','ruling_name','ruling_type','ruling_content','case_label','extra']"
   ]
  },
  {
   "cell_type": "code",
   "execution_count": 224,
   "metadata": {},
   "outputs": [
    {
     "name": "stdout",
     "output_type": "stream",
     "text": [
      "13357\n"
     ]
    },
    {
     "data": {
      "text/html": [
       "<div>\n",
       "<style scoped>\n",
       "    .dataframe tbody tr th:only-of-type {\n",
       "        vertical-align: middle;\n",
       "    }\n",
       "\n",
       "    .dataframe tbody tr th {\n",
       "        vertical-align: top;\n",
       "    }\n",
       "\n",
       "    .dataframe thead th {\n",
       "        text-align: right;\n",
       "    }\n",
       "</style>\n",
       "<table border=\"1\" class=\"dataframe\">\n",
       "  <thead>\n",
       "    <tr style=\"text-align: right;\">\n",
       "      <th></th>\n",
       "      <th>source</th>\n",
       "      <th>ruling_name</th>\n",
       "      <th>ruling_type</th>\n",
       "      <th>ruling_content</th>\n",
       "      <th>case_label</th>\n",
       "      <th>extra</th>\n",
       "    </tr>\n",
       "  </thead>\n",
       "  <tbody>\n",
       "    <tr>\n",
       "      <th>0</th>\n",
       "      <td>62016CJ0267</td>\n",
       "      <td>Albert Buhagiar andÂ Others v Minister for Jus...</td>\n",
       "      <td>Request for a preliminary ruling from the Supr...</td>\n",
       "      <td>Reference for a preliminary ruling â Territo...</td>\n",
       "      <td>Case C-267/16.</td>\n",
       "      <td>NaN</td>\n",
       "    </tr>\n",
       "    <tr>\n",
       "      <th>1</th>\n",
       "      <td>62016CJ0281</td>\n",
       "      <td>Vereniging Hoekschewaards Landschap v Staatsse...</td>\n",
       "      <td>Request for a preliminary ruling from the Raad...</td>\n",
       "      <td>Reference for a preliminary ruling â Directi...</td>\n",
       "      <td>Case C-281/16.</td>\n",
       "      <td>NaN</td>\n",
       "    </tr>\n",
       "    <tr>\n",
       "      <th>2</th>\n",
       "      <td>62014CJ0409</td>\n",
       "      <td>Schenker NemzetkÃ¶zi SzÃ¡llÃ­tmÃ¡nyozÃ¡si Ã©s ...</td>\n",
       "      <td>Reference for a preliminary ruling â Common ...</td>\n",
       "      <td>Case C-409/14.</td>\n",
       "      <td>NaN</td>\n",
       "      <td>NaN</td>\n",
       "    </tr>\n",
       "    <tr>\n",
       "      <th>3</th>\n",
       "      <td>62013CJ0660</td>\n",
       "      <td>Council of the European Union v European Commi...</td>\n",
       "      <td>Action for annulment â The European Unionâ...</td>\n",
       "      <td>Case C-660/13.</td>\n",
       "      <td>NaN</td>\n",
       "      <td>NaN</td>\n",
       "    </tr>\n",
       "    <tr>\n",
       "      <th>4</th>\n",
       "      <td>62014CJ0103</td>\n",
       "      <td>Bronius Jakutis and KretingalÄs kooperatinÄ ...</td>\n",
       "      <td>Request for a preliminary ruling from the Viln...</td>\n",
       "      <td>Reference for a preliminary ruling â Agricul...</td>\n",
       "      <td>Case C-103/14.</td>\n",
       "      <td>NaN</td>\n",
       "    </tr>\n",
       "  </tbody>\n",
       "</table>\n",
       "</div>"
      ],
      "text/plain": [
       "        source                                        ruling_name  \\\n",
       "0  62016CJ0267  Albert Buhagiar andÂ Others v Minister for Jus...   \n",
       "1  62016CJ0281  Vereniging Hoekschewaards Landschap v Staatsse...   \n",
       "2  62014CJ0409  Schenker NemzetkÃ¶zi SzÃ¡llÃ­tmÃ¡nyozÃ¡si Ã©s ...   \n",
       "3  62013CJ0660  Council of the European Union v European Commi...   \n",
       "4  62014CJ0103  Bronius Jakutis and KretingalÄs kooperatinÄ ...   \n",
       "\n",
       "                                         ruling_type  \\\n",
       "0  Request for a preliminary ruling from the Supr...   \n",
       "1  Request for a preliminary ruling from the Raad...   \n",
       "2  Reference for a preliminary ruling â Common ...   \n",
       "3  Action for annulment â The European Unionâ...   \n",
       "4  Request for a preliminary ruling from the Viln...   \n",
       "\n",
       "                                      ruling_content      case_label extra  \n",
       "0  Reference for a preliminary ruling â Territo...  Case C-267/16.   NaN  \n",
       "1  Reference for a preliminary ruling â Directi...  Case C-281/16.   NaN  \n",
       "2                                     Case C-409/14.             NaN   NaN  \n",
       "3                                     Case C-660/13.             NaN   NaN  \n",
       "4  Reference for a preliminary ruling â Agricul...  Case C-103/14.   NaN  "
      ]
     },
     "execution_count": 224,
     "metadata": {},
     "output_type": "execute_result"
    }
   ],
   "source": [
    "print(len(df_r))\n",
    "df_r.head()"
   ]
  },
  {
   "cell_type": "code",
   "execution_count": 225,
   "metadata": {},
   "outputs": [],
   "source": [
    "df_r = convert_nan(df_r, ['ruling_type','ruling_content','case_label','extra'])"
   ]
  },
  {
   "cell_type": "markdown",
   "metadata": {},
   "source": [
    "We follow this process to check not specified values in the columns and the and the swaping of places\n",
    "    - From the last column to the initial\n",
    "    - Check nulls of the column\n",
    "    - Check if there's elements of the 'column-1' in column\n",
    "    - Check if there's elements of the 'column-2' in column\n",
    "    - Repeat for all the columns till ends"
   ]
  },
  {
   "cell_type": "markdown",
   "metadata": {},
   "source": [
    "---\n",
    "### Extra column check"
   ]
  },
  {
   "cell_type": "markdown",
   "metadata": {},
   "source": [
    "- Null values in other column"
   ]
  },
  {
   "cell_type": "code",
   "execution_count": 226,
   "metadata": {},
   "outputs": [
    {
     "data": {
      "text/html": [
       "<div>\n",
       "<style scoped>\n",
       "    .dataframe tbody tr th:only-of-type {\n",
       "        vertical-align: middle;\n",
       "    }\n",
       "\n",
       "    .dataframe tbody tr th {\n",
       "        vertical-align: top;\n",
       "    }\n",
       "\n",
       "    .dataframe thead th {\n",
       "        text-align: right;\n",
       "    }\n",
       "</style>\n",
       "<table border=\"1\" class=\"dataframe\">\n",
       "  <thead>\n",
       "    <tr style=\"text-align: right;\">\n",
       "      <th></th>\n",
       "      <th>source</th>\n",
       "      <th>ruling_name</th>\n",
       "      <th>ruling_type</th>\n",
       "      <th>ruling_content</th>\n",
       "      <th>case_label</th>\n",
       "      <th>extra</th>\n",
       "    </tr>\n",
       "  </thead>\n",
       "  <tbody>\n",
       "    <tr>\n",
       "      <th>10075</th>\n",
       "      <td>62011CJ0363</td>\n",
       "      <td>Epitropos tou Elegktikou Sinedriou sto Ipourgi...</td>\n",
       "      <td>xd; .</td>\n",
       "      <td>Reference for a preliminary ruling from the El...</td>\n",
       "      <td>Reference for a preliminary ruling â Concept...</td>\n",
       "      <td>Case Câ363/11.</td>\n",
       "    </tr>\n",
       "    <tr>\n",
       "      <th>11394</th>\n",
       "      <td>62015CO0462</td>\n",
       "      <td>Verners PudÄns v Valsts ieÅÄmumu dienests&amp;amp;</td>\n",
       "      <td>xd; .</td>\n",
       "      <td>Request for a preliminary ruling from the Augs...</td>\n",
       "      <td>Reference for a preliminary ruling â Article...</td>\n",
       "      <td>Case C-462/15.</td>\n",
       "    </tr>\n",
       "  </tbody>\n",
       "</table>\n",
       "</div>"
      ],
      "text/plain": [
       "            source                                        ruling_name  \\\n",
       "10075  62011CJ0363  Epitropos tou Elegktikou Sinedriou sto Ipourgi...   \n",
       "11394  62015CO0462  Verners PudÄns v Valsts ieÅÄmumu dienests&amp;   \n",
       "\n",
       "      ruling_type                                     ruling_content  \\\n",
       "10075       xd; .  Reference for a preliminary ruling from the El...   \n",
       "11394       xd; .  Request for a preliminary ruling from the Augs...   \n",
       "\n",
       "                                              case_label             extra  \n",
       "10075  Reference for a preliminary ruling â Concept...  Case Câ363/11.  \n",
       "11394  Reference for a preliminary ruling â Article...    Case C-462/15.  "
      ]
     },
     "execution_count": 226,
     "metadata": {},
     "output_type": "execute_result"
    }
   ],
   "source": [
    "df_r[df_r['extra']!='not_specified']"
   ]
  },
  {
   "cell_type": "code",
   "execution_count": 227,
   "metadata": {},
   "outputs": [],
   "source": [
    "#correct 62011CJ0363\n",
    "df_r.loc[df_r['source'] == '62011CJ0363', 'ruling_name'] = list(df.loc[df['source'] == '62011CJ0363', 'ruling_name'])[0]\n",
    "df_r.loc[df_r['source'] == '62011CJ0363', 'ruling_type'] = list(df.loc[df['source'] == '62011CJ0363', 'ruling_type'])[0]\n",
    "df_r.loc[df_r['source'] == '62011CJ0363', 'ruling_content'] = list(df.loc[df['source'] == '62011CJ0363', 'ruling_content'])[0]"
   ]
  },
  {
   "cell_type": "code",
   "execution_count": 228,
   "metadata": {},
   "outputs": [
    {
     "data": {
      "text/html": [
       "<div>\n",
       "<style scoped>\n",
       "    .dataframe tbody tr th:only-of-type {\n",
       "        vertical-align: middle;\n",
       "    }\n",
       "\n",
       "    .dataframe tbody tr th {\n",
       "        vertical-align: top;\n",
       "    }\n",
       "\n",
       "    .dataframe thead th {\n",
       "        text-align: right;\n",
       "    }\n",
       "</style>\n",
       "<table border=\"1\" class=\"dataframe\">\n",
       "  <thead>\n",
       "    <tr style=\"text-align: right;\">\n",
       "      <th></th>\n",
       "      <th>ruling_name</th>\n",
       "      <th>ruling_type</th>\n",
       "      <th>ruling_content</th>\n",
       "    </tr>\n",
       "  </thead>\n",
       "  <tbody>\n",
       "    <tr>\n",
       "      <th>10075</th>\n",
       "      <td>Epitropos tou Elegktikou Synedriou sto Ypour...</td>\n",
       "      <td>Reference for a preliminary ruling: Elegktik...</td>\n",
       "      <td>Reference for a preliminary ruling - Concept...</td>\n",
       "    </tr>\n",
       "  </tbody>\n",
       "</table>\n",
       "</div>"
      ],
      "text/plain": [
       "                                             ruling_name  \\\n",
       "10075    Epitropos tou Elegktikou Synedriou sto Ypour...   \n",
       "\n",
       "                                             ruling_type  \\\n",
       "10075    Reference for a preliminary ruling: Elegktik...   \n",
       "\n",
       "                                          ruling_content  \n",
       "10075    Reference for a preliminary ruling - Concept...  "
      ]
     },
     "execution_count": 228,
     "metadata": {},
     "output_type": "execute_result"
    }
   ],
   "source": [
    "df_r.loc[df_r['source'] == '62011CJ0363', ['ruling_name','ruling_type','ruling_content']]"
   ]
  },
  {
   "cell_type": "code",
   "execution_count": 229,
   "metadata": {},
   "outputs": [],
   "source": [
    "#correct 62011CJ0363\n",
    "df_r.loc[df_r['source'] == '62015CO0462', 'ruling_name'] = list(df.loc[df['source'] == '62015CO0462', 'ruling_name'])[0]\n",
    "df_r.loc[df_r['source'] == '62015CO0462', 'ruling_type'] = list(df.loc[df['source'] == '62015CO0462', 'ruling_type'])[0]\n",
    "df_r.loc[df_r['source'] == '62015CO0462', 'ruling_content'] = list(df.loc[df['source'] == '62015CO0462', 'ruling_content'])[0]"
   ]
  },
  {
   "cell_type": "code",
   "execution_count": 230,
   "metadata": {},
   "outputs": [
    {
     "data": {
      "text/html": [
       "<div>\n",
       "<style scoped>\n",
       "    .dataframe tbody tr th:only-of-type {\n",
       "        vertical-align: middle;\n",
       "    }\n",
       "\n",
       "    .dataframe tbody tr th {\n",
       "        vertical-align: top;\n",
       "    }\n",
       "\n",
       "    .dataframe thead th {\n",
       "        text-align: right;\n",
       "    }\n",
       "</style>\n",
       "<table border=\"1\" class=\"dataframe\">\n",
       "  <thead>\n",
       "    <tr style=\"text-align: right;\">\n",
       "      <th></th>\n",
       "      <th>ruling_name</th>\n",
       "      <th>ruling_type</th>\n",
       "      <th>ruling_content</th>\n",
       "    </tr>\n",
       "  </thead>\n",
       "  <tbody>\n",
       "    <tr>\n",
       "      <th>11394</th>\n",
       "      <td>Verners PudÄns v Valsts ieÅÄmumu dienests&amp;xd;</td>\n",
       "      <td>Request for a preliminary ruling from the Augs...</td>\n",
       "      <td>Reference for a preliminary ruling â Article...</td>\n",
       "    </tr>\n",
       "  </tbody>\n",
       "</table>\n",
       "</div>"
      ],
      "text/plain": [
       "                                             ruling_name  \\\n",
       "11394  Verners PudÄns v Valsts ieÅÄmumu dienests&xd;    \n",
       "\n",
       "                                             ruling_type  \\\n",
       "11394  Request for a preliminary ruling from the Augs...   \n",
       "\n",
       "                                          ruling_content  \n",
       "11394  Reference for a preliminary ruling â Article...  "
      ]
     },
     "execution_count": 230,
     "metadata": {},
     "output_type": "execute_result"
    }
   ],
   "source": [
    "df_r.loc[df_r['source'] == '62015CO0462', ['ruling_name','ruling_type','ruling_content']]"
   ]
  },
  {
   "cell_type": "code",
   "execution_count": 231,
   "metadata": {},
   "outputs": [],
   "source": [
    "df_r = df_r.drop(['extra'],axis=1)"
   ]
  },
  {
   "cell_type": "markdown",
   "metadata": {},
   "source": [
    "---\n",
    "### Case label column check"
   ]
  },
  {
   "cell_type": "markdown",
   "metadata": {},
   "source": [
    "- Null values in case_label column"
   ]
  },
  {
   "cell_type": "code",
   "execution_count": 232,
   "metadata": {},
   "outputs": [],
   "source": [
    "_slice = df_r[df_r['case_label']=='not_specified']"
   ]
  },
  {
   "cell_type": "markdown",
   "metadata": {},
   "source": [
    "we have to move one column to the left"
   ]
  },
  {
   "cell_type": "code",
   "execution_count": 233,
   "metadata": {},
   "outputs": [
    {
     "name": "stdout",
     "output_type": "stream",
     "text": [
      "6658\n"
     ]
    },
    {
     "data": {
      "text/html": [
       "<div>\n",
       "<style scoped>\n",
       "    .dataframe tbody tr th:only-of-type {\n",
       "        vertical-align: middle;\n",
       "    }\n",
       "\n",
       "    .dataframe tbody tr th {\n",
       "        vertical-align: top;\n",
       "    }\n",
       "\n",
       "    .dataframe thead th {\n",
       "        text-align: right;\n",
       "    }\n",
       "</style>\n",
       "<table border=\"1\" class=\"dataframe\">\n",
       "  <thead>\n",
       "    <tr style=\"text-align: right;\">\n",
       "      <th></th>\n",
       "      <th>source</th>\n",
       "      <th>ruling_name</th>\n",
       "      <th>ruling_type</th>\n",
       "      <th>ruling_content</th>\n",
       "      <th>case_label</th>\n",
       "    </tr>\n",
       "  </thead>\n",
       "  <tbody>\n",
       "    <tr>\n",
       "      <th>0</th>\n",
       "      <td>62014CJ0409</td>\n",
       "      <td>Schenker NemzetkÃ¶zi SzÃ¡llÃ­tmÃ¡nyozÃ¡si Ã©s ...</td>\n",
       "      <td>Reference for a preliminary ruling â Common ...</td>\n",
       "      <td>Case C-409/14.</td>\n",
       "      <td>not_specified</td>\n",
       "    </tr>\n",
       "    <tr>\n",
       "      <th>1</th>\n",
       "      <td>62013CJ0660</td>\n",
       "      <td>Council of the European Union v European Commi...</td>\n",
       "      <td>Action for annulment â The European Unionâ...</td>\n",
       "      <td>Case C-660/13.</td>\n",
       "      <td>not_specified</td>\n",
       "    </tr>\n",
       "    <tr>\n",
       "      <th>2</th>\n",
       "      <td>62009CJ0336</td>\n",
       "      <td>Republic of Poland v European Commission.</td>\n",
       "      <td>Appeal â Common organisation of the markets ...</td>\n",
       "      <td>Case C-336/09 P.</td>\n",
       "      <td>not_specified</td>\n",
       "    </tr>\n",
       "    <tr>\n",
       "      <th>3</th>\n",
       "      <td>62008CJ0385</td>\n",
       "      <td>European Commission v Republic of Poland.</td>\n",
       "      <td>Failure of a Member State to fulfil obligation...</td>\n",
       "      <td>Case C-385/08.</td>\n",
       "      <td>not_specified</td>\n",
       "    </tr>\n",
       "    <tr>\n",
       "      <th>4</th>\n",
       "      <td>62008CJ0350</td>\n",
       "      <td>European Commission v Republic of Lithuania.</td>\n",
       "      <td>Failure of a Member State to fulfil obligation...</td>\n",
       "      <td>Case C-350/08.</td>\n",
       "      <td>not_specified</td>\n",
       "    </tr>\n",
       "  </tbody>\n",
       "</table>\n",
       "</div>"
      ],
      "text/plain": [
       "        source                                        ruling_name  \\\n",
       "0  62014CJ0409  Schenker NemzetkÃ¶zi SzÃ¡llÃ­tmÃ¡nyozÃ¡si Ã©s ...   \n",
       "1  62013CJ0660  Council of the European Union v European Commi...   \n",
       "2  62009CJ0336          Republic of Poland v European Commission.   \n",
       "3  62008CJ0385          European Commission v Republic of Poland.   \n",
       "4  62008CJ0350       European Commission v Republic of Lithuania.   \n",
       "\n",
       "                                         ruling_type    ruling_content  \\\n",
       "0  Reference for a preliminary ruling â Common ...    Case C-409/14.   \n",
       "1  Action for annulment â The European Unionâ...    Case C-660/13.   \n",
       "2  Appeal â Common organisation of the markets ...  Case C-336/09 P.   \n",
       "3  Failure of a Member State to fulfil obligation...    Case C-385/08.   \n",
       "4  Failure of a Member State to fulfil obligation...    Case C-350/08.   \n",
       "\n",
       "      case_label  \n",
       "0  not_specified  \n",
       "1  not_specified  \n",
       "2  not_specified  \n",
       "3  not_specified  \n",
       "4  not_specified  "
      ]
     },
     "execution_count": 233,
     "metadata": {},
     "output_type": "execute_result"
    }
   ],
   "source": [
    "_slice = _slice.reset_index(drop=True)\n",
    "print(len(_slice))\n",
    "_slice.head()"
   ]
  },
  {
   "cell_type": "code",
   "execution_count": 234,
   "metadata": {},
   "outputs": [],
   "source": [
    "_slice['case_label'] = list(_slice.loc[:,('ruling_content')])\n",
    "_slice['ruling_content'] = list(_slice.loc[:,('ruling_type')])\n",
    "_slice['ruling_type'] = list(_slice.loc[:,('ruling_name')])"
   ]
  },
  {
   "cell_type": "markdown",
   "metadata": {},
   "source": [
    "We take them out from the original code, then we remerge them"
   ]
  },
  {
   "cell_type": "code",
   "execution_count": 235,
   "metadata": {},
   "outputs": [],
   "source": [
    "df_r = df_r.drop(df_r[df_r['source'].isin(list(_slice['source']))].index)\n",
    "df_r = df_r.append(_slice).reset_index(drop=True)"
   ]
  },
  {
   "cell_type": "markdown",
   "metadata": {},
   "source": [
    "- We have to repeat the moving to the left"
   ]
  },
  {
   "cell_type": "code",
   "execution_count": 236,
   "metadata": {},
   "outputs": [
    {
     "name": "stdout",
     "output_type": "stream",
     "text": [
      "767\n"
     ]
    },
    {
     "data": {
      "text/html": [
       "<div>\n",
       "<style scoped>\n",
       "    .dataframe tbody tr th:only-of-type {\n",
       "        vertical-align: middle;\n",
       "    }\n",
       "\n",
       "    .dataframe tbody tr th {\n",
       "        vertical-align: top;\n",
       "    }\n",
       "\n",
       "    .dataframe thead th {\n",
       "        text-align: right;\n",
       "    }\n",
       "</style>\n",
       "<table border=\"1\" class=\"dataframe\">\n",
       "  <thead>\n",
       "    <tr style=\"text-align: right;\">\n",
       "      <th></th>\n",
       "      <th>source</th>\n",
       "      <th>ruling_name</th>\n",
       "      <th>ruling_type</th>\n",
       "      <th>ruling_content</th>\n",
       "      <th>case_label</th>\n",
       "    </tr>\n",
       "  </thead>\n",
       "  <tbody>\n",
       "    <tr>\n",
       "      <th>0</th>\n",
       "      <td>61975CJ0097</td>\n",
       "      <td>FCLM Crijns v Commission of the European Comm...</td>\n",
       "      <td>FCLM Crijns v Commission of the European Comm...</td>\n",
       "      <td>Case 97-75.</td>\n",
       "      <td>not_specified</td>\n",
       "    </tr>\n",
       "    <tr>\n",
       "      <th>1</th>\n",
       "      <td>61973CJ0169</td>\n",
       "      <td>Compagnie Continentale France v Council of th...</td>\n",
       "      <td>Compagnie Continentale France v Council of th...</td>\n",
       "      <td>Case 169-73.</td>\n",
       "      <td>not_specified</td>\n",
       "    </tr>\n",
       "    <tr>\n",
       "      <th>2</th>\n",
       "      <td>62013CJ0273</td>\n",
       "      <td>Republic of Poland v European Commission.</td>\n",
       "      <td>Republic of Poland v European Commission.</td>\n",
       "      <td>Case C-273/13 P.</td>\n",
       "      <td>not_specified</td>\n",
       "    </tr>\n",
       "    <tr>\n",
       "      <th>3</th>\n",
       "      <td>62013CJ0351</td>\n",
       "      <td>European Commission v Hellenic Republic.</td>\n",
       "      <td>European Commission v Hellenic Republic.</td>\n",
       "      <td>Case C-351/13.</td>\n",
       "      <td>not_specified</td>\n",
       "    </tr>\n",
       "    <tr>\n",
       "      <th>4</th>\n",
       "      <td>62013CJ0391</td>\n",
       "      <td>Hellenic Republic v European Commission.</td>\n",
       "      <td>Hellenic Republic v European Commission.</td>\n",
       "      <td>Case C-391/13 P.</td>\n",
       "      <td>not_specified</td>\n",
       "    </tr>\n",
       "  </tbody>\n",
       "</table>\n",
       "</div>"
      ],
      "text/plain": [
       "        source                                        ruling_name  \\\n",
       "0  61975CJ0097   FCLM Crijns v Commission of the European Comm...   \n",
       "1  61973CJ0169   Compagnie Continentale France v Council of th...   \n",
       "2  62013CJ0273         Republic of Poland v European Commission.    \n",
       "3  62013CJ0351          European Commission v Hellenic Republic.    \n",
       "4  62013CJ0391          Hellenic Republic v European Commission.    \n",
       "\n",
       "                                         ruling_type     ruling_content  \\\n",
       "0   FCLM Crijns v Commission of the European Comm...        Case 97-75.   \n",
       "1   Compagnie Continentale France v Council of th...       Case 169-73.   \n",
       "2         Republic of Poland v European Commission.    Case C-273/13 P.   \n",
       "3          European Commission v Hellenic Republic.      Case C-351/13.   \n",
       "4          Hellenic Republic v European Commission.    Case C-391/13 P.   \n",
       "\n",
       "      case_label  \n",
       "0  not_specified  \n",
       "1  not_specified  \n",
       "2  not_specified  \n",
       "3  not_specified  \n",
       "4  not_specified  "
      ]
     },
     "execution_count": 236,
     "metadata": {},
     "output_type": "execute_result"
    }
   ],
   "source": [
    "_slice2 = df_r[df_r['case_label']=='not_specified']\n",
    "_slice2 = _slice2.reset_index(drop=True)\n",
    "print(len(_slice2))\n",
    "_slice2.head()"
   ]
  },
  {
   "cell_type": "code",
   "execution_count": 237,
   "metadata": {},
   "outputs": [],
   "source": [
    "_slice2['case_label'] = list(_slice2.loc[:,('ruling_content')])\n",
    "_slice2['ruling_content'] = list(_slice2.loc[:,('ruling_type')])"
   ]
  },
  {
   "cell_type": "code",
   "execution_count": 238,
   "metadata": {},
   "outputs": [],
   "source": [
    "df_r = df_r.drop(df_r[df_r['source'].isin(list(_slice2['source']))].index)\n",
    "df_r = df_r.append(_slice2).reset_index(drop=True)"
   ]
  },
  {
   "cell_type": "code",
   "execution_count": 239,
   "metadata": {},
   "outputs": [
    {
     "data": {
      "text/html": [
       "<div>\n",
       "<style scoped>\n",
       "    .dataframe tbody tr th:only-of-type {\n",
       "        vertical-align: middle;\n",
       "    }\n",
       "\n",
       "    .dataframe tbody tr th {\n",
       "        vertical-align: top;\n",
       "    }\n",
       "\n",
       "    .dataframe thead th {\n",
       "        text-align: right;\n",
       "    }\n",
       "</style>\n",
       "<table border=\"1\" class=\"dataframe\">\n",
       "  <thead>\n",
       "    <tr style=\"text-align: right;\">\n",
       "      <th></th>\n",
       "      <th>source</th>\n",
       "      <th>ruling_name</th>\n",
       "      <th>ruling_type</th>\n",
       "      <th>ruling_content</th>\n",
       "      <th>case_label</th>\n",
       "    </tr>\n",
       "  </thead>\n",
       "  <tbody>\n",
       "    <tr>\n",
       "      <th>12846</th>\n",
       "      <td>62008CJ0202</td>\n",
       "      <td>Joined Cases C-202/08 P and C-208/08 P.</td>\n",
       "      <td>Joined Cases C-202/08 P and C-208/08 P.</td>\n",
       "      <td>Joined Cases C-202/08 P and C-208/08 P.</td>\n",
       "      <td>not_specified</td>\n",
       "    </tr>\n",
       "    <tr>\n",
       "      <th>13275</th>\n",
       "      <td>62008CO0561</td>\n",
       "      <td>Joined Cases C-561/08 P and C-4/09 P.</td>\n",
       "      <td>Joined Cases C-561/08 P and C-4/09 P.</td>\n",
       "      <td>Joined Cases C-561/08 P and C-4/09 P.</td>\n",
       "      <td>not_specified</td>\n",
       "    </tr>\n",
       "  </tbody>\n",
       "</table>\n",
       "</div>"
      ],
      "text/plain": [
       "            source                              ruling_name  \\\n",
       "12846  62008CJ0202  Joined Cases C-202/08 P and C-208/08 P.   \n",
       "13275  62008CO0561    Joined Cases C-561/08 P and C-4/09 P.   \n",
       "\n",
       "                                   ruling_type  \\\n",
       "12846  Joined Cases C-202/08 P and C-208/08 P.   \n",
       "13275    Joined Cases C-561/08 P and C-4/09 P.   \n",
       "\n",
       "                                ruling_content     case_label  \n",
       "12846  Joined Cases C-202/08 P and C-208/08 P.  not_specified  \n",
       "13275    Joined Cases C-561/08 P and C-4/09 P.  not_specified  "
      ]
     },
     "execution_count": 239,
     "metadata": {},
     "output_type": "execute_result"
    }
   ],
   "source": [
    "df_r[df_r['case_label']=='not_specified']"
   ]
  },
  {
   "cell_type": "code",
   "execution_count": 240,
   "metadata": {},
   "outputs": [],
   "source": [
    "#they are in the raw, althought just name\n",
    "#df.loc[(df['source'] == '62008CJ0202')|(df['source'] == '62008CO0561')]"
   ]
  },
  {
   "cell_type": "code",
   "execution_count": 241,
   "metadata": {},
   "outputs": [],
   "source": [
    "#correct cases\n",
    "df_r.loc[df_r['source'] == '62008CJ0202', 'ruling_name'] = list(df.loc[df['source'] == '62008CJ0202', 'ruling_name'])[0]\n",
    "df_r.loc[df_r['source'] == '62008CO0561', 'ruling_name'] = list(df.loc[df['source'] == '62008CO0561', 'ruling_name'])[0]"
   ]
  },
  {
   "cell_type": "code",
   "execution_count": 242,
   "metadata": {},
   "outputs": [],
   "source": [
    "#now we can drop the case_label column\n",
    "df_r = df_r.drop(['case_label'],axis=1)"
   ]
  },
  {
   "cell_type": "markdown",
   "metadata": {},
   "source": [
    "---\n",
    "### Ruling content check"
   ]
  },
  {
   "cell_type": "markdown",
   "metadata": {},
   "source": [
    "- Null values in ruling_content column"
   ]
  },
  {
   "cell_type": "code",
   "execution_count": 243,
   "metadata": {},
   "outputs": [
    {
     "data": {
      "text/html": [
       "<div>\n",
       "<style scoped>\n",
       "    .dataframe tbody tr th:only-of-type {\n",
       "        vertical-align: middle;\n",
       "    }\n",
       "\n",
       "    .dataframe tbody tr th {\n",
       "        vertical-align: top;\n",
       "    }\n",
       "\n",
       "    .dataframe thead th {\n",
       "        text-align: right;\n",
       "    }\n",
       "</style>\n",
       "<table border=\"1\" class=\"dataframe\">\n",
       "  <thead>\n",
       "    <tr style=\"text-align: right;\">\n",
       "      <th></th>\n",
       "      <th>source</th>\n",
       "      <th>ruling_name</th>\n",
       "      <th>ruling_type</th>\n",
       "      <th>ruling_content</th>\n",
       "    </tr>\n",
       "  </thead>\n",
       "  <tbody>\n",
       "  </tbody>\n",
       "</table>\n",
       "</div>"
      ],
      "text/plain": [
       "Empty DataFrame\n",
       "Columns: [source, ruling_name, ruling_type, ruling_content]\n",
       "Index: []"
      ]
     },
     "execution_count": 243,
     "metadata": {},
     "output_type": "execute_result"
    }
   ],
   "source": [
    "df_r[df_r['ruling_content']=='not_specified']"
   ]
  },
  {
   "cell_type": "markdown",
   "metadata": {},
   "source": [
    "There's nothing to move from the left anymore  \n",
    "Now we review the table from the front"
   ]
  },
  {
   "cell_type": "markdown",
   "metadata": {},
   "source": [
    "---\n",
    "### Ruling name check"
   ]
  },
  {
   "cell_type": "markdown",
   "metadata": {},
   "source": [
    "- Null values in ruling_name column"
   ]
  },
  {
   "cell_type": "code",
   "execution_count": 244,
   "metadata": {},
   "outputs": [
    {
     "data": {
      "text/html": [
       "<div>\n",
       "<style scoped>\n",
       "    .dataframe tbody tr th:only-of-type {\n",
       "        vertical-align: middle;\n",
       "    }\n",
       "\n",
       "    .dataframe tbody tr th {\n",
       "        vertical-align: top;\n",
       "    }\n",
       "\n",
       "    .dataframe thead th {\n",
       "        text-align: right;\n",
       "    }\n",
       "</style>\n",
       "<table border=\"1\" class=\"dataframe\">\n",
       "  <thead>\n",
       "    <tr style=\"text-align: right;\">\n",
       "      <th></th>\n",
       "      <th>source</th>\n",
       "      <th>ruling_name</th>\n",
       "      <th>ruling_type</th>\n",
       "      <th>ruling_content</th>\n",
       "    </tr>\n",
       "  </thead>\n",
       "  <tbody>\n",
       "  </tbody>\n",
       "</table>\n",
       "</div>"
      ],
      "text/plain": [
       "Empty DataFrame\n",
       "Columns: [source, ruling_name, ruling_type, ruling_content]\n",
       "Index: []"
      ]
     },
     "execution_count": 244,
     "metadata": {},
     "output_type": "execute_result"
    }
   ],
   "source": [
    "df_r[df_r['ruling_name']=='not_specified']"
   ]
  },
  {
   "cell_type": "markdown",
   "metadata": {},
   "source": [
    "- ruling_type values in ruling_name column"
   ]
  },
  {
   "cell_type": "code",
   "execution_count": 245,
   "metadata": {},
   "outputs": [],
   "source": [
    "df_r['v_in_ruling_name'] = [1 if i.find(' v ')!=-1 else 0 for i in df_r['ruling_name']]\n",
    "df_r['reference_in_ruling_name'] = [1 if i.find('eference')!=-1 else 0 for i in df_r['ruling_name']]\n",
    "df_r['request_in_ruling_name'] = [1 if i.find('equest')!=-1 else 0 for i in df_r['ruling_name']]\n",
    "df_r['Criminal_in_ruling_name'] = [1 if i.find('Criminal')!=-1 else 0 for i in df_r['ruling_name']]"
   ]
  },
  {
   "cell_type": "code",
   "execution_count": 246,
   "metadata": {},
   "outputs": [
    {
     "data": {
      "text/plain": [
       "2"
      ]
     },
     "execution_count": 246,
     "metadata": {},
     "output_type": "execute_result"
    }
   ],
   "source": [
    "_cases = df_r[df_r['v_in_ruling_name']==0]\n",
    "_cases = _cases[(_cases['reference_in_ruling_name']==1) | (_cases['request_in_ruling_name']==1)]\n",
    "len(_cases)"
   ]
  },
  {
   "cell_type": "code",
   "execution_count": 247,
   "metadata": {},
   "outputs": [
    {
     "data": {
      "text/html": [
       "<div>\n",
       "<style scoped>\n",
       "    .dataframe tbody tr th:only-of-type {\n",
       "        vertical-align: middle;\n",
       "    }\n",
       "\n",
       "    .dataframe tbody tr th {\n",
       "        vertical-align: top;\n",
       "    }\n",
       "\n",
       "    .dataframe thead th {\n",
       "        text-align: right;\n",
       "    }\n",
       "</style>\n",
       "<table border=\"1\" class=\"dataframe\">\n",
       "  <thead>\n",
       "    <tr style=\"text-align: right;\">\n",
       "      <th></th>\n",
       "      <th>source</th>\n",
       "      <th>ruling_name</th>\n",
       "      <th>ruling_type</th>\n",
       "      <th>ruling_content</th>\n",
       "      <th>v_in_ruling_name</th>\n",
       "      <th>reference_in_ruling_name</th>\n",
       "      <th>request_in_ruling_name</th>\n",
       "      <th>Criminal_in_ruling_name</th>\n",
       "    </tr>\n",
       "  </thead>\n",
       "  <tbody>\n",
       "    <tr>\n",
       "      <th>11392</th>\n",
       "      <td>62012CO0318</td>\n",
       "      <td>Reference for a preliminary rulingÂ â Consei...</td>\n",
       "      <td>Reference for a preliminary rulingÂ â Consei...</td>\n",
       "      <td>Reference for a preliminary ruling â Failure...</td>\n",
       "      <td>0</td>\n",
       "      <td>1</td>\n",
       "      <td>0</td>\n",
       "      <td>0</td>\n",
       "    </tr>\n",
       "    <tr>\n",
       "      <th>12808</th>\n",
       "      <td>62003CJ0411</td>\n",
       "      <td>Request for a preliminary ruling from Landgeri...</td>\n",
       "      <td>Request for a preliminary ruling from Landgeri...</td>\n",
       "      <td>Request for a preliminary ruling from Landgeri...</td>\n",
       "      <td>0</td>\n",
       "      <td>0</td>\n",
       "      <td>1</td>\n",
       "      <td>0</td>\n",
       "    </tr>\n",
       "  </tbody>\n",
       "</table>\n",
       "</div>"
      ],
      "text/plain": [
       "            source                                        ruling_name  \\\n",
       "11392  62012CO0318  Reference for a preliminary rulingÂ â Consei...   \n",
       "12808  62003CJ0411  Request for a preliminary ruling from Landgeri...   \n",
       "\n",
       "                                             ruling_type  \\\n",
       "11392  Reference for a preliminary rulingÂ â Consei...   \n",
       "12808  Request for a preliminary ruling from Landgeri...   \n",
       "\n",
       "                                          ruling_content  v_in_ruling_name  \\\n",
       "11392  Reference for a preliminary ruling â Failure...                 0   \n",
       "12808  Request for a preliminary ruling from Landgeri...                 0   \n",
       "\n",
       "       reference_in_ruling_name  request_in_ruling_name  \\\n",
       "11392                         1                       0   \n",
       "12808                         0                       1   \n",
       "\n",
       "       Criminal_in_ruling_name  \n",
       "11392                        0  \n",
       "12808                        0  "
      ]
     },
     "execution_count": 247,
     "metadata": {},
     "output_type": "execute_result"
    }
   ],
   "source": [
    "_cases"
   ]
  },
  {
   "cell_type": "markdown",
   "metadata": {},
   "source": [
    "After checking the celex for 62012CO0318, comfirms that the name is correct.  \n",
    "In the case 62003CJ0411, in fact there's no name, so we keep it and include it in type as well"
   ]
  },
  {
   "cell_type": "markdown",
   "metadata": {},
   "source": [
    "- ruling_content values in ruling_name column"
   ]
  },
  {
   "cell_type": "code",
   "execution_count": 248,
   "metadata": {},
   "outputs": [],
   "source": [
    "df_r['dashes_in_ruling_name'] = [len(i) for i in df_r['ruling_name'].str.findall(' - ')]"
   ]
  },
  {
   "cell_type": "markdown",
   "metadata": {},
   "source": [
    "We are trying to find the ruling content with the number of dashes in te text"
   ]
  },
  {
   "cell_type": "code",
   "execution_count": 249,
   "metadata": {},
   "outputs": [
    {
     "data": {
      "text/html": [
       "<div>\n",
       "<style scoped>\n",
       "    .dataframe tbody tr th:only-of-type {\n",
       "        vertical-align: middle;\n",
       "    }\n",
       "\n",
       "    .dataframe tbody tr th {\n",
       "        vertical-align: top;\n",
       "    }\n",
       "\n",
       "    .dataframe thead th {\n",
       "        text-align: right;\n",
       "    }\n",
       "</style>\n",
       "<table border=\"1\" class=\"dataframe\">\n",
       "  <thead>\n",
       "    <tr style=\"text-align: right;\">\n",
       "      <th></th>\n",
       "      <th>source</th>\n",
       "      <th>ruling_name</th>\n",
       "      <th>ruling_type</th>\n",
       "      <th>ruling_content</th>\n",
       "      <th>v_in_ruling_name</th>\n",
       "      <th>reference_in_ruling_name</th>\n",
       "      <th>request_in_ruling_name</th>\n",
       "      <th>Criminal_in_ruling_name</th>\n",
       "      <th>dashes_in_ruling_name</th>\n",
       "    </tr>\n",
       "  </thead>\n",
       "  <tbody>\n",
       "    <tr>\n",
       "      <th>127</th>\n",
       "      <td>62012CJ0187</td>\n",
       "      <td>SFIR - SocietÃ  Fondiaria Industriale Romagno...</td>\n",
       "      <td>References for a preliminary ruling: Consigli...</td>\n",
       "      <td>Request for a preliminary ruling - Regulation...</td>\n",
       "      <td>1</td>\n",
       "      <td>0</td>\n",
       "      <td>0</td>\n",
       "      <td>0</td>\n",
       "      <td>5</td>\n",
       "    </tr>\n",
       "    <tr>\n",
       "      <th>369</th>\n",
       "      <td>61999CJ0155</td>\n",
       "      <td>Giuseppe Busolin and Others v Ispettorato Cen...</td>\n",
       "      <td>Reference for a preliminary ruling: Pretore d...</td>\n",
       "      <td>Agriculture - Common organisation of the agri...</td>\n",
       "      <td>1</td>\n",
       "      <td>0</td>\n",
       "      <td>0</td>\n",
       "      <td>0</td>\n",
       "      <td>2</td>\n",
       "    </tr>\n",
       "    <tr>\n",
       "      <th>406</th>\n",
       "      <td>61996CJ0375</td>\n",
       "      <td>Galileo Zaninotto v Ispettorato Centrale Repr...</td>\n",
       "      <td>Reference for a preliminary ruling: Pretura c...</td>\n",
       "      <td>Agriculture - Common organisation of the agri...</td>\n",
       "      <td>1</td>\n",
       "      <td>0</td>\n",
       "      <td>0</td>\n",
       "      <td>0</td>\n",
       "      <td>2</td>\n",
       "    </tr>\n",
       "  </tbody>\n",
       "</table>\n",
       "</div>"
      ],
      "text/plain": [
       "          source                                        ruling_name  \\\n",
       "127  62012CJ0187   SFIR - SocietÃ  Fondiaria Industriale Romagno...   \n",
       "369  61999CJ0155   Giuseppe Busolin and Others v Ispettorato Cen...   \n",
       "406  61996CJ0375   Galileo Zaninotto v Ispettorato Centrale Repr...   \n",
       "\n",
       "                                           ruling_type  \\\n",
       "127   References for a preliminary ruling: Consigli...   \n",
       "369   Reference for a preliminary ruling: Pretore d...   \n",
       "406   Reference for a preliminary ruling: Pretura c...   \n",
       "\n",
       "                                        ruling_content  v_in_ruling_name  \\\n",
       "127   Request for a preliminary ruling - Regulation...                 1   \n",
       "369   Agriculture - Common organisation of the agri...                 1   \n",
       "406   Agriculture - Common organisation of the agri...                 1   \n",
       "\n",
       "     reference_in_ruling_name  request_in_ruling_name  \\\n",
       "127                         0                       0   \n",
       "369                         0                       0   \n",
       "406                         0                       0   \n",
       "\n",
       "     Criminal_in_ruling_name  dashes_in_ruling_name  \n",
       "127                        0                      5  \n",
       "369                        0                      2  \n",
       "406                        0                      2  "
      ]
     },
     "execution_count": 249,
     "metadata": {},
     "output_type": "execute_result"
    }
   ],
   "source": [
    "df_r[df_r['dashes_in_ruling_name'] > 1].head(3)"
   ]
  },
  {
   "cell_type": "markdown",
   "metadata": {},
   "source": [
    "Results that all the cases contain the ' v ' so it means that are long but correct ruling names  \n",
    "there's nothing to change"
   ]
  },
  {
   "cell_type": "markdown",
   "metadata": {},
   "source": [
    "- case_label values in ruling_name column"
   ]
  },
  {
   "cell_type": "code",
   "execution_count": 250,
   "metadata": {},
   "outputs": [],
   "source": [
    "df_r['case_in_ruling_name'] = [1 if i.find('C-')!=-1 else 0 for i in df_r['ruling_name']]"
   ]
  },
  {
   "cell_type": "code",
   "execution_count": 251,
   "metadata": {},
   "outputs": [
    {
     "data": {
      "text/plain": [
       "4"
      ]
     },
     "execution_count": 251,
     "metadata": {},
     "output_type": "execute_result"
    }
   ],
   "source": [
    "_cases = df_r[(df_r['case_in_ruling_name'] == 1) & (df_r['v_in_ruling_name'] ==0) & (df_r['Criminal_in_ruling_name'] == 0)]\n",
    "len(_cases)"
   ]
  },
  {
   "cell_type": "code",
   "execution_count": 252,
   "metadata": {},
   "outputs": [
    {
     "name": "stdout",
     "output_type": "stream",
     "text": [
      "62010CJ0188 Aziz Melki (C-188/10) and SÃ©lim Abdeli (C-189/10).\n",
      "62010CJ0072  Marcello Costa (C-72/10) and Ugo Cifone (C-77/10). \n",
      "62000CJ0421  Renate Sterbenz (C-421/00) and Paul Dieter Haug (C-426/00 and C-16/01). \n",
      "62001CJ0053  Linde AG (C-53/01); Winward Industries Inc. (C-54/01) and Rado Uhren AG (C-55/01). \n"
     ]
    }
   ],
   "source": [
    "for i,j in zip(_cases['source'], _cases['ruling_name']):\n",
    "    print(i,j)"
   ]
  },
  {
   "cell_type": "markdown",
   "metadata": {},
   "source": [
    "there's no case_label in ruling_name  \n",
    "there's nothing to do"
   ]
  },
  {
   "cell_type": "markdown",
   "metadata": {},
   "source": [
    "---\n",
    "### Ruling type check"
   ]
  },
  {
   "cell_type": "markdown",
   "metadata": {},
   "source": [
    "- Null values in ruling_type column"
   ]
  },
  {
   "cell_type": "code",
   "execution_count": 253,
   "metadata": {},
   "outputs": [
    {
     "data": {
      "text/html": [
       "<div>\n",
       "<style scoped>\n",
       "    .dataframe tbody tr th:only-of-type {\n",
       "        vertical-align: middle;\n",
       "    }\n",
       "\n",
       "    .dataframe tbody tr th {\n",
       "        vertical-align: top;\n",
       "    }\n",
       "\n",
       "    .dataframe thead th {\n",
       "        text-align: right;\n",
       "    }\n",
       "</style>\n",
       "<table border=\"1\" class=\"dataframe\">\n",
       "  <thead>\n",
       "    <tr style=\"text-align: right;\">\n",
       "      <th></th>\n",
       "      <th>source</th>\n",
       "      <th>ruling_name</th>\n",
       "      <th>ruling_type</th>\n",
       "      <th>ruling_content</th>\n",
       "      <th>v_in_ruling_name</th>\n",
       "      <th>reference_in_ruling_name</th>\n",
       "      <th>request_in_ruling_name</th>\n",
       "      <th>Criminal_in_ruling_name</th>\n",
       "      <th>dashes_in_ruling_name</th>\n",
       "      <th>case_in_ruling_name</th>\n",
       "    </tr>\n",
       "  </thead>\n",
       "  <tbody>\n",
       "  </tbody>\n",
       "</table>\n",
       "</div>"
      ],
      "text/plain": [
       "Empty DataFrame\n",
       "Columns: [source, ruling_name, ruling_type, ruling_content, v_in_ruling_name, reference_in_ruling_name, request_in_ruling_name, Criminal_in_ruling_name, dashes_in_ruling_name, case_in_ruling_name]\n",
       "Index: []"
      ]
     },
     "execution_count": 253,
     "metadata": {},
     "output_type": "execute_result"
    }
   ],
   "source": [
    "df_r[df_r['ruling_type']=='not_specified']"
   ]
  },
  {
   "cell_type": "markdown",
   "metadata": {},
   "source": [
    "- ruling_name values in ruling_type column"
   ]
  },
  {
   "cell_type": "code",
   "execution_count": 254,
   "metadata": {},
   "outputs": [],
   "source": [
    "df_r['v_in_ruling_type'] = [1 if i.find(' v ')!=-1 else 0 for i in df_r['ruling_type']]\n",
    "df_r['reference_in_ruling_type'] = [1 if i.find('eference')!=-1 else 0 for i in df_r['ruling_type']]\n",
    "df_r['request_in_ruling_type'] = [1 if i.find('equest')!=-1 else 0 for i in df_r['ruling_type']]"
   ]
  },
  {
   "cell_type": "code",
   "execution_count": 255,
   "metadata": {},
   "outputs": [],
   "source": [
    "_cases = df_r[df_r['v_in_ruling_type']==1] \n",
    "_cases = _cases[(_cases['reference_in_ruling_type']==0) & (_cases['request_in_ruling_type']==0)]"
   ]
  },
  {
   "cell_type": "code",
   "execution_count": 256,
   "metadata": {},
   "outputs": [
    {
     "data": {
      "text/plain": [
       "6622"
      ]
     },
     "execution_count": 256,
     "metadata": {},
     "output_type": "execute_result"
    }
   ],
   "source": [
    "len(list(_cases['source']))"
   ]
  },
  {
   "cell_type": "code",
   "execution_count": 257,
   "metadata": {},
   "outputs": [
    {
     "data": {
      "text/plain": [
       "6658"
      ]
     },
     "execution_count": 257,
     "metadata": {},
     "output_type": "execute_result"
    }
   ],
   "source": [
    "len(df_r[df_r['source'].isin(list(_slice['source']))])"
   ]
  },
  {
   "cell_type": "markdown",
   "metadata": {},
   "source": [
    "different lenght so we use another aproach"
   ]
  },
  {
   "cell_type": "code",
   "execution_count": 258,
   "metadata": {},
   "outputs": [],
   "source": [
    "df_r = df_r.merge(pd.DataFrame({'source':list(_cases['source']),'type_not_specified':[1]*len(_cases)}), how='left', on='source')"
   ]
  },
  {
   "cell_type": "code",
   "execution_count": 261,
   "metadata": {},
   "outputs": [],
   "source": [
    "df_r['ruling_type'] = ['not_specified' if j ==1 else i for i,j in zip(df_r['ruling_type'],df_r['type_not_specified']) ]"
   ]
  },
  {
   "cell_type": "markdown",
   "metadata": {},
   "source": [
    "All cases solved"
   ]
  },
  {
   "cell_type": "markdown",
   "metadata": {},
   "source": [
    "- ruling_content in ruling_type column"
   ]
  },
  {
   "cell_type": "code",
   "execution_count": 266,
   "metadata": {},
   "outputs": [],
   "source": [
    "df_r['dashes_in_ruling_type'] = [len(i) for i in df_r['ruling_type'].str.findall(' - ')]"
   ]
  },
  {
   "cell_type": "code",
   "execution_count": 276,
   "metadata": {},
   "outputs": [
    {
     "data": {
      "text/plain": [
       "1"
      ]
     },
     "execution_count": 276,
     "metadata": {},
     "output_type": "execute_result"
    }
   ],
   "source": [
    "_cases = df_r[df_r['dashes_in_ruling_type'] > 1]\n",
    "_cases = _cases[(_cases['reference_in_ruling_type']==0) & (_cases['request_in_ruling_type']==0)]\n",
    "len(_cases)"
   ]
  },
  {
   "cell_type": "code",
   "execution_count": 278,
   "metadata": {},
   "outputs": [
    {
     "data": {
      "text/html": [
       "<div>\n",
       "<style scoped>\n",
       "    .dataframe tbody tr th:only-of-type {\n",
       "        vertical-align: middle;\n",
       "    }\n",
       "\n",
       "    .dataframe tbody tr th {\n",
       "        vertical-align: top;\n",
       "    }\n",
       "\n",
       "    .dataframe thead th {\n",
       "        text-align: right;\n",
       "    }\n",
       "</style>\n",
       "<table border=\"1\" class=\"dataframe\">\n",
       "  <thead>\n",
       "    <tr style=\"text-align: right;\">\n",
       "      <th></th>\n",
       "      <th>source</th>\n",
       "      <th>ruling_name</th>\n",
       "      <th>ruling_type</th>\n",
       "      <th>ruling_content</th>\n",
       "      <th>v_in_ruling_name</th>\n",
       "      <th>reference_in_ruling_name</th>\n",
       "      <th>request_in_ruling_name</th>\n",
       "      <th>Criminal_in_ruling_name</th>\n",
       "      <th>dashes_in_ruling_name</th>\n",
       "      <th>case_in_ruling_name</th>\n",
       "      <th>v_in_ruling_type</th>\n",
       "      <th>reference_in_ruling_type</th>\n",
       "      <th>request_in_ruling_type</th>\n",
       "      <th>type_not_specified</th>\n",
       "      <th>dashes_in_ruling_type</th>\n",
       "    </tr>\n",
       "  </thead>\n",
       "  <tbody>\n",
       "    <tr>\n",
       "      <th>1500</th>\n",
       "      <td>61997CJ0254</td>\n",
       "      <td>SociÃ©tÃ© Baxter; B. Braun MÃ©dical SA; SociÃ...</td>\n",
       "      <td>Internal taxation - Tax deduction - Expenditu...</td>\n",
       "      <td>Reference for a preliminary ruling: Conseil d...</td>\n",
       "      <td>1</td>\n",
       "      <td>0</td>\n",
       "      <td>0</td>\n",
       "      <td>0</td>\n",
       "      <td>0</td>\n",
       "      <td>0</td>\n",
       "      <td>0</td>\n",
       "      <td>0</td>\n",
       "      <td>0</td>\n",
       "      <td>NaN</td>\n",
       "      <td>3</td>\n",
       "    </tr>\n",
       "  </tbody>\n",
       "</table>\n",
       "</div>"
      ],
      "text/plain": [
       "           source                                        ruling_name  \\\n",
       "1500  61997CJ0254   SociÃ©tÃ© Baxter; B. Braun MÃ©dical SA; SociÃ...   \n",
       "\n",
       "                                            ruling_type  \\\n",
       "1500   Internal taxation - Tax deduction - Expenditu...   \n",
       "\n",
       "                                         ruling_content  v_in_ruling_name  \\\n",
       "1500   Reference for a preliminary ruling: Conseil d...                 1   \n",
       "\n",
       "      reference_in_ruling_name  request_in_ruling_name  \\\n",
       "1500                         0                       0   \n",
       "\n",
       "      Criminal_in_ruling_name  dashes_in_ruling_name  case_in_ruling_name  \\\n",
       "1500                        0                      0                    0   \n",
       "\n",
       "      v_in_ruling_type  reference_in_ruling_type  request_in_ruling_type  \\\n",
       "1500                 0                         0                       0   \n",
       "\n",
       "      type_not_specified  dashes_in_ruling_type  \n",
       "1500                 NaN                      3  "
      ]
     },
     "execution_count": 278,
     "metadata": {},
     "output_type": "execute_result"
    }
   ],
   "source": [
    "_cases"
   ]
  },
  {
   "cell_type": "markdown",
   "metadata": {},
   "source": [
    "It's an strange one, the ruling_content and type are switched"
   ]
  },
  {
   "cell_type": "code",
   "execution_count": 281,
   "metadata": {},
   "outputs": [],
   "source": [
    "value1 = list(df_r.loc[df_r['source'] == '61997CJ0254', 'ruling_type'])[0]\n",
    "value2 = list(df_r.loc[df_r['source'] == '61997CJ0254', 'ruling_content'])[0]"
   ]
  },
  {
   "cell_type": "code",
   "execution_count": 282,
   "metadata": {},
   "outputs": [],
   "source": [
    "df_r.loc[df_r['source'] == '61997CJ0254', 'ruling_type'] = value2\n",
    "df_r.loc[df_r['source'] == '61997CJ0254', 'ruling_content'] = value1"
   ]
  },
  {
   "cell_type": "markdown",
   "metadata": {},
   "source": [
    "---\n",
    "## Final Merge"
   ]
  },
  {
   "cell_type": "code",
   "execution_count": 290,
   "metadata": {},
   "outputs": [],
   "source": [
    "#columns awith no fullstop problem\n",
    "columns = ['source', 'case_label', 'ecli', 'case_type', 'judge', 'advocate', 'country', 'country-chamber','chamber', 'main_subject',\n",
    " 'lodge_date', 'document_date','year_document', 'month_document', 'year_lodge', 'month_lodge', 'case_time', 'n_countries', 'joined_cases']"
   ]
  },
  {
   "cell_type": "code",
   "execution_count": 288,
   "metadata": {},
   "outputs": [],
   "source": [
    "df_r = df_r[['source','ruling_name','ruling_type','ruling_content']]"
   ]
  },
  {
   "cell_type": "code",
   "execution_count": 292,
   "metadata": {},
   "outputs": [],
   "source": [
    "df = df[columns]"
   ]
  },
  {
   "cell_type": "code",
   "execution_count": 296,
   "metadata": {},
   "outputs": [],
   "source": [
    "df = df.merge(df_r, on='source')"
   ]
  },
  {
   "cell_type": "code",
   "execution_count": 298,
   "metadata": {},
   "outputs": [
    {
     "data": {
      "text/html": [
       "<div>\n",
       "<style scoped>\n",
       "    .dataframe tbody tr th:only-of-type {\n",
       "        vertical-align: middle;\n",
       "    }\n",
       "\n",
       "    .dataframe tbody tr th {\n",
       "        vertical-align: top;\n",
       "    }\n",
       "\n",
       "    .dataframe thead th {\n",
       "        text-align: right;\n",
       "    }\n",
       "</style>\n",
       "<table border=\"1\" class=\"dataframe\">\n",
       "  <thead>\n",
       "    <tr style=\"text-align: right;\">\n",
       "      <th></th>\n",
       "      <th>source</th>\n",
       "      <th>case_label</th>\n",
       "      <th>ecli</th>\n",
       "      <th>case_type</th>\n",
       "      <th>judge</th>\n",
       "      <th>advocate</th>\n",
       "      <th>country</th>\n",
       "      <th>country-chamber</th>\n",
       "      <th>chamber</th>\n",
       "      <th>main_subject</th>\n",
       "      <th>...</th>\n",
       "      <th>year_document</th>\n",
       "      <th>month_document</th>\n",
       "      <th>year_lodge</th>\n",
       "      <th>month_lodge</th>\n",
       "      <th>case_time</th>\n",
       "      <th>n_countries</th>\n",
       "      <th>joined_cases</th>\n",
       "      <th>ruling_name</th>\n",
       "      <th>ruling_type</th>\n",
       "      <th>ruling_content</th>\n",
       "    </tr>\n",
       "  </thead>\n",
       "  <tbody>\n",
       "    <tr>\n",
       "      <th>0</th>\n",
       "      <td>61997CJ0147</td>\n",
       "      <td>Joined cases C-147/97 and C-148/97</td>\n",
       "      <td>EU:C:2000:74</td>\n",
       "      <td>Judgement</td>\n",
       "      <td>Kapteyn</td>\n",
       "      <td>A. La Pergola</td>\n",
       "      <td>Germany</td>\n",
       "      <td>Germany-not_specified</td>\n",
       "      <td>not_specified</td>\n",
       "      <td>3</td>\n",
       "      <td>...</td>\n",
       "      <td>2000</td>\n",
       "      <td>2</td>\n",
       "      <td>1997.0</td>\n",
       "      <td>4.0</td>\n",
       "      <td>1029 days</td>\n",
       "      <td>1</td>\n",
       "      <td>1</td>\n",
       "      <td>Deutsche Post AG v Gesellschaft fÃ¼r Zahlungs...</td>\n",
       "      <td>Reference for a preliminary ruling: Oberlande...</td>\n",
       "      <td>Public undertaking - Postal service - Non-phy...</td>\n",
       "    </tr>\n",
       "    <tr>\n",
       "      <th>1</th>\n",
       "      <td>61995CJ0032</td>\n",
       "      <td>Case C-32/95 P</td>\n",
       "      <td>EU:C:1996:402</td>\n",
       "      <td>Judgement</td>\n",
       "      <td>Ragnemalm</td>\n",
       "      <td>A. La Pergola</td>\n",
       "      <td>Portugal</td>\n",
       "      <td>Portugal-Sixth Chamber</td>\n",
       "      <td>Sixth Chamber</td>\n",
       "      <td>1</td>\n",
       "      <td>...</td>\n",
       "      <td>1996</td>\n",
       "      <td>10</td>\n",
       "      <td>1995.0</td>\n",
       "      <td>2.0</td>\n",
       "      <td>622 days</td>\n",
       "      <td>1</td>\n",
       "      <td>0</td>\n",
       "      <td>Commission of the European Communities v Lisr...</td>\n",
       "      <td>not_specified</td>\n",
       "      <td>European Social Fund - Decision reducing fina...</td>\n",
       "    </tr>\n",
       "    <tr>\n",
       "      <th>2</th>\n",
       "      <td>61995CJ0067</td>\n",
       "      <td>Case C-67/95</td>\n",
       "      <td>EU:C:1997:470</td>\n",
       "      <td>Judgement</td>\n",
       "      <td>Hirsch</td>\n",
       "      <td>A. La Pergola</td>\n",
       "      <td>Netherlands</td>\n",
       "      <td>Netherlands-Second Chamber</td>\n",
       "      <td>Second Chamber</td>\n",
       "      <td>1</td>\n",
       "      <td>...</td>\n",
       "      <td>1997</td>\n",
       "      <td>10</td>\n",
       "      <td>1995.0</td>\n",
       "      <td>3.0</td>\n",
       "      <td>941 days</td>\n",
       "      <td>1</td>\n",
       "      <td>0</td>\n",
       "      <td>Rank Xerox Manufacturing (Nederland) BV v Ins...</td>\n",
       "      <td>Reference for a preliminary ruling: Tariefcom...</td>\n",
       "      <td>Common Customs Tariff - Tariff headings - Cop...</td>\n",
       "    </tr>\n",
       "    <tr>\n",
       "      <th>3</th>\n",
       "      <td>61994CJ0308</td>\n",
       "      <td>Case C-308/94</td>\n",
       "      <td>EU:C:1996:28</td>\n",
       "      <td>Judgement</td>\n",
       "      <td>Kakouris</td>\n",
       "      <td>A. La Pergola</td>\n",
       "      <td>Belgium</td>\n",
       "      <td>Belgium-Sixth Chamber</td>\n",
       "      <td>Sixth Chamber</td>\n",
       "      <td>1</td>\n",
       "      <td>...</td>\n",
       "      <td>1996</td>\n",
       "      <td>2</td>\n",
       "      <td>1994.0</td>\n",
       "      <td>11.0</td>\n",
       "      <td>436 days</td>\n",
       "      <td>1</td>\n",
       "      <td>0</td>\n",
       "      <td>Office National de l'Emploi v Heidemarie Naru...</td>\n",
       "      <td>Reference for a preliminary ruling: Cour du t...</td>\n",
       "      <td>Social security for migrant workers - Council...</td>\n",
       "    </tr>\n",
       "    <tr>\n",
       "      <th>4</th>\n",
       "      <td>61998CJ0285</td>\n",
       "      <td>Case C-285/98</td>\n",
       "      <td>EU:C:2000:2</td>\n",
       "      <td>Judgement</td>\n",
       "      <td>Puissochet</td>\n",
       "      <td>A. La Pergola</td>\n",
       "      <td>Germany</td>\n",
       "      <td>Germany-not_specified</td>\n",
       "      <td>not_specified</td>\n",
       "      <td>1</td>\n",
       "      <td>...</td>\n",
       "      <td>2000</td>\n",
       "      <td>1</td>\n",
       "      <td>1998.0</td>\n",
       "      <td>7.0</td>\n",
       "      <td>536 days</td>\n",
       "      <td>1</td>\n",
       "      <td>0</td>\n",
       "      <td>Tanja Kreil v Bundesrepublik Deutschland.</td>\n",
       "      <td>Reference for a preliminary ruling: Verwaltun...</td>\n",
       "      <td>Equal treatment for men and women - Limitatio...</td>\n",
       "    </tr>\n",
       "  </tbody>\n",
       "</table>\n",
       "<p>5 rows × 22 columns</p>\n",
       "</div>"
      ],
      "text/plain": [
       "        source                            case_label           ecli  \\\n",
       "0  61997CJ0147    Joined cases C-147/97 and C-148/97   EU:C:2000:74   \n",
       "1  61995CJ0032                        Case C-32/95 P  EU:C:1996:402   \n",
       "2  61995CJ0067                          Case C-67/95  EU:C:1997:470   \n",
       "3  61994CJ0308                         Case C-308/94   EU:C:1996:28   \n",
       "4  61998CJ0285                         Case C-285/98    EU:C:2000:2   \n",
       "\n",
       "   case_type       judge        advocate      country  \\\n",
       "0  Judgement     Kapteyn   A. La Pergola      Germany   \n",
       "1  Judgement   Ragnemalm   A. La Pergola     Portugal   \n",
       "2  Judgement      Hirsch   A. La Pergola  Netherlands   \n",
       "3  Judgement    Kakouris   A. La Pergola      Belgium   \n",
       "4  Judgement  Puissochet   A. La Pergola      Germany   \n",
       "\n",
       "              country-chamber         chamber main_subject  \\\n",
       "0       Germany-not_specified   not_specified            3   \n",
       "1      Portugal-Sixth Chamber   Sixth Chamber            1   \n",
       "2  Netherlands-Second Chamber  Second Chamber            1   \n",
       "3       Belgium-Sixth Chamber   Sixth Chamber            1   \n",
       "4       Germany-not_specified   not_specified            1   \n",
       "\n",
       "                         ...                         year_document  \\\n",
       "0                        ...                                  2000   \n",
       "1                        ...                                  1996   \n",
       "2                        ...                                  1997   \n",
       "3                        ...                                  1996   \n",
       "4                        ...                                  2000   \n",
       "\n",
       "  month_document  year_lodge  month_lodge  case_time  n_countries  \\\n",
       "0              2      1997.0          4.0  1029 days            1   \n",
       "1             10      1995.0          2.0   622 days            1   \n",
       "2             10      1995.0          3.0   941 days            1   \n",
       "3              2      1994.0         11.0   436 days            1   \n",
       "4              1      1998.0          7.0   536 days            1   \n",
       "\n",
       "  joined_cases                                        ruling_name  \\\n",
       "0            1   Deutsche Post AG v Gesellschaft fÃ¼r Zahlungs...   \n",
       "1            0   Commission of the European Communities v Lisr...   \n",
       "2            0   Rank Xerox Manufacturing (Nederland) BV v Ins...   \n",
       "3            0   Office National de l'Emploi v Heidemarie Naru...   \n",
       "4            0         Tanja Kreil v Bundesrepublik Deutschland.    \n",
       "\n",
       "                                         ruling_type  \\\n",
       "0   Reference for a preliminary ruling: Oberlande...   \n",
       "1                                      not_specified   \n",
       "2   Reference for a preliminary ruling: Tariefcom...   \n",
       "3   Reference for a preliminary ruling: Cour du t...   \n",
       "4   Reference for a preliminary ruling: Verwaltun...   \n",
       "\n",
       "                                      ruling_content  \n",
       "0   Public undertaking - Postal service - Non-phy...  \n",
       "1   European Social Fund - Decision reducing fina...  \n",
       "2   Common Customs Tariff - Tariff headings - Cop...  \n",
       "3   Social security for migrant workers - Council...  \n",
       "4   Equal treatment for men and women - Limitatio...  \n",
       "\n",
       "[5 rows x 22 columns]"
      ]
     },
     "execution_count": 298,
     "metadata": {},
     "output_type": "execute_result"
    }
   ],
   "source": [
    "df.head()"
   ]
  },
  {
   "cell_type": "code",
   "execution_count": null,
   "metadata": {},
   "outputs": [],
   "source": []
  }
 ],
 "metadata": {
  "kernelspec": {
   "display_name": "Python 3",
   "language": "python",
   "name": "python3"
  },
  "language_info": {
   "codemirror_mode": {
    "name": "ipython",
    "version": 3
   },
   "file_extension": ".py",
   "mimetype": "text/x-python",
   "name": "python",
   "nbconvert_exporter": "python",
   "pygments_lexer": "ipython3",
   "version": "3.6.5"
  }
 },
 "nbformat": 4,
 "nbformat_minor": 2
}
