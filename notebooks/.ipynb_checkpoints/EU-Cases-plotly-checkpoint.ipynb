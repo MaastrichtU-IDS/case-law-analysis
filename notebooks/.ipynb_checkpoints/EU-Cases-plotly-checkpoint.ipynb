{
 "cells": [
  {
   "cell_type": "markdown",
   "metadata": {},
   "source": [
    "## EUR-LEX Case Law + Plotly"
   ]
  },
  {
   "cell_type": "markdown",
   "metadata": {},
   "source": [
    "This notebook explores descriptive statistics about EUR-lEX case law database"
   ]
  },
  {
   "cell_type": "code",
   "execution_count": null,
   "metadata": {},
   "outputs": [],
   "source": [
    "#!pip install plotly"
   ]
  },
  {
   "cell_type": "code",
   "execution_count": null,
   "metadata": {},
   "outputs": [],
   "source": [
    "import pandas as pd\n",
    "import matplotlib.pyplot as plt\n",
    "import plotly.tools as pt\n",
    "import plotly.plotly as py\n",
    "import plotly.graph_objs as go\n",
    "%matplotlib inline"
   ]
  },
  {
   "cell_type": "code",
   "execution_count": null,
   "metadata": {},
   "outputs": [],
   "source": [
    "pt.set_credentials_file(username=\"pedrovhserrano\", api_key=\"wMdAAvQ8IGQa0Nz1FawN\")\n",
    "metadata = pd.read_csv('https://s3.eu-central-1.amazonaws.com/maastrichtuniversity-ids-open/cases_metadata.csv')\n",
    "countries = pd.read_csv('https://s3.eu-central-1.amazonaws.com/maastrichtuniversity-ids-open/countries.csv')\n",
    "subjects = pd.read_csv('https://s3.eu-central-1.amazonaws.com/maastrichtuniversity-ids-open/subjects.csv')\n",
    "citations = pd.read_csv('https://s3.eu-central-1.amazonaws.com/maastrichtuniversity-ids-open/citations.csv')"
   ]
  },
  {
   "cell_type": "markdown",
   "metadata": {},
   "source": [
    "### How does the metadata from EUR-LEX judgements and orders looks like?"
   ]
  },
  {
   "cell_type": "code",
   "execution_count": null,
   "metadata": {},
   "outputs": [],
   "source": [
    "#"
   ]
  },
  {
   "cell_type": "markdown",
   "metadata": {},
   "source": [
    "Metadata description:\n",
    "    - Source: CELEX Identifier (unique)\n",
    "    - Case Label: Case identifier, may contain joint cases\n",
    "    - ECLI: Unique identifier\n",
    "    - Case type: Specifies wether if the case is a Judgement or an Order)\n",
    "    - Judge: Name of the judge related with the case\n",
    "    - Advocate: Name of the advocate related with the case\n",
    "    - Country: Country or countries related with the case\n",
    "    - Country-Chamber: Concatenation of Country and Chamber\n",
    "    - Chamber: Chamber related with the case\n",
    "    - Main Subject: Number of subjects this case is about (detail on subject table)\n",
    "    - Lodge Date: Registered date of the lodge\n",
    "    - Document Date: Registered date of the document\n",
    "    - Case Time: Time elapsed between the lodge date and the document date\n",
    "    - N Countries: Number of countries registred in the case\n",
    "    - Joined Cases: Indicates wether if the case is joined or not"
   ]
  },
  {
   "cell_type": "markdown",
   "metadata": {},
   "source": [
    "### How many cases are in the database? "
   ]
  },
  {
   "cell_type": "code",
   "execution_count": null,
   "metadata": {},
   "outputs": [],
   "source": [
    "print('Unique CELEX number {}\\nUnique ECLI ID {}\\nUnique Case Label {}'.format(\n",
    "len(metadata['source'].unique()),len(metadata['ecli'].unique()),len(metadata['case_label'].unique())))\n"
   ]
  },
  {
   "cell_type": "markdown",
   "metadata": {},
   "source": [
    "### How the judgements looks over time?"
   ]
  },
  {
   "cell_type": "code",
   "execution_count": null,
   "metadata": {},
   "outputs": [],
   "source": [
    "metadata.groupby('case_type').count()['source']"
   ]
  },
  {
   "cell_type": "code",
   "execution_count": null,
   "metadata": {},
   "outputs": [],
   "source": [
    "judgements = metadata[metadata['case_type'] == 'Judgement'].groupby('year_document').count()['source']\n",
    "full_years = list(judgements.index)"
   ]
  },
  {
   "cell_type": "code",
   "execution_count": null,
   "metadata": {},
   "outputs": [],
   "source": [
    "trace = go.Scatter(x = full_years, y = judgements, mode = 'lines+markers', name = 'Judgements')"
   ]
  },
  {
   "cell_type": "code",
   "execution_count": null,
   "metadata": {},
   "outputs": [],
   "source": [
    "py.iplot([trace], filename='Time Series Relative Cases')"
   ]
  },
  {
   "cell_type": "markdown",
   "metadata": {},
   "source": [
    "## How about the orders?"
   ]
  },
  {
   "cell_type": "markdown",
   "metadata": {},
   "source": [
    "## How many different case topics"
   ]
  },
  {
   "cell_type": "code",
   "execution_count": null,
   "metadata": {},
   "outputs": [],
   "source": [
    "#count subjects"
   ]
  },
  {
   "cell_type": "code",
   "execution_count": null,
   "metadata": {},
   "outputs": [],
   "source": [
    "subjects"
   ]
  },
  {
   "cell_type": "code",
   "execution_count": null,
   "metadata": {},
   "outputs": [],
   "source": [
    "df_sm = subjects.merge(metadata, on='source', how='left')\n",
    "top_list = list(subjects.groupby('subject').count()['source'].sort_values(ascending=False).head(10).index)\n",
    "df_sm_filter = df_sm[(df_sm['year_document'] >= 1990) & (df_sm['year_document'] < 2018)]\n",
    "years = sorted([int(i) for i in df_sm_filter['year_document'].unique()])\n",
    "plot_traces = []\n",
    "for i in range(len(top_list)):\n",
    "    series = df_sm_filter[df_sm_filter['subject'] == top_list[i]].groupby('year_document').count()['source']\n",
    "    trace = go.Scatter(x = years, y = series, mode = 'lines+markers', name = top_list[i])\n",
    "    plot_traces.append(trace)"
   ]
  },
  {
   "cell_type": "code",
   "execution_count": null,
   "metadata": {},
   "outputs": [],
   "source": [
    "py.iplot(plot_traces, filename='Time Series of Number of Cases by Subject')"
   ]
  },
  {
   "cell_type": "markdown",
   "metadata": {},
   "source": [
    "## Case duration over time"
   ]
  },
  {
   "cell_type": "code",
   "execution_count": null,
   "metadata": {},
   "outputs": [],
   "source": [
    "pd.to_datetime(metadata['lodge_date'],format= '%Y/%m/%d').head()\n",
    "metadata['lodge_date'] = pd.to_datetime(metadata['lodge_date'],format= '%Y/%m/%d')\n",
    "metadata['document_date'] = pd.to_datetime(metadata['document_date'],format= '%Y/%m/%d')\n",
    "metadata['case_time'] = metadata['document_date'] - metadata['lodge_date']\n",
    "top_countries = list(df_cm.groupby('country').count()['source'].sort_values(ascending=False).head(10).index)"
   ]
  },
  {
   "cell_type": "code",
   "execution_count": null,
   "metadata": {},
   "outputs": [],
   "source": [
    "plot_countries = []\n",
    "for i in range(len(top_countries)):\n",
    "    series = df_cm[df_cm['country'] == top_countries[i]].groupby('year_document').describe()['case_time']['mean'].astype('timedelta64[D]')\n",
    "    trace = go.Scatter(x = years, y = series, mode = 'lines', name = top_countries[i])\n",
    "    plot_countries.append(trace)"
   ]
  },
  {
   "cell_type": "code",
   "execution_count": null,
   "metadata": {},
   "outputs": [],
   "source": [
    "py.iplot(plot_countries, filename='Time Series Average Case Duration by Country')"
   ]
  },
  {
   "cell_type": "markdown",
   "metadata": {},
   "source": [
    "### Case citations"
   ]
  },
  {
   "cell_type": "code",
   "execution_count": null,
   "metadata": {},
   "outputs": [],
   "source": [
    "citations['relation'] = citations['source']+'-'+citations['target']\n",
    "citations['unique'] = citations['source']+'-'+citations['target']+'-'+citations['paragraph']\n",
    "citations['citation'] = citations['target']+'-'+citations['paragraph']"
   ]
  },
  {
   "cell_type": "code",
   "execution_count": null,
   "metadata": {},
   "outputs": [],
   "source": [
    "df_ = citations.groupby(['target','source']).agg('count')['citation'].reset_index()\n",
    "df_target = df_.groupby('target')['citation'].agg(['count','sum']).reset_index()\n",
    "df_target.columns = ['target','sources','target_paragraphs']"
   ]
  },
  {
   "cell_type": "markdown",
   "metadata": {},
   "source": [
    "### What is the most cited case?"
   ]
  },
  {
   "cell_type": "code",
   "execution_count": null,
   "metadata": {},
   "outputs": [],
   "source": [
    "df_target.sort_values('sources',ascending=False).head(10)"
   ]
  },
  {
   "cell_type": "markdown",
   "metadata": {},
   "source": [
    "### The case that sites more paragraphs"
   ]
  },
  {
   "cell_type": "code",
   "execution_count": null,
   "metadata": {},
   "outputs": [],
   "source": [
    "#table on relation level\n",
    "df_relations = citations.groupby(['source','relation']).agg('count')['paragraph'].reset_index()"
   ]
  },
  {
   "cell_type": "code",
   "execution_count": null,
   "metadata": {},
   "outputs": [],
   "source": [
    "df_source = df_relations.groupby('source')['paragraph'].agg(['count','sum']).reset_index() \n",
    "df_source.columns = ['source','targets','source_paragraphs']"
   ]
  },
  {
   "cell_type": "code",
   "execution_count": null,
   "metadata": {},
   "outputs": [],
   "source": [
    "df_source.sort_values(['targets'], ascending=False).head(10)"
   ]
  },
  {
   "cell_type": "code",
   "execution_count": null,
   "metadata": {},
   "outputs": [],
   "source": []
  },
  {
   "cell_type": "code",
   "execution_count": null,
   "metadata": {},
   "outputs": [],
   "source": []
  }
 ],
 "metadata": {
  "kernelspec": {
   "display_name": "Python 3",
   "language": "python",
   "name": "python3"
  },
  "language_info": {
   "codemirror_mode": {
    "name": "ipython",
    "version": 3
   },
   "file_extension": ".py",
   "mimetype": "text/x-python",
   "name": "python",
   "nbconvert_exporter": "python",
   "pygments_lexer": "ipython3",
   "version": "3.6.5"
  }
 },
 "nbformat": 4,
 "nbformat_minor": 2
}
