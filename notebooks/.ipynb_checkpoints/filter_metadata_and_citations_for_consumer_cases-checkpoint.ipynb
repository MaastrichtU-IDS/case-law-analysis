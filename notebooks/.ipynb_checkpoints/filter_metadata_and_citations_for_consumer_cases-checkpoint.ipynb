{
 "cells": [
  {
   "cell_type": "code",
   "execution_count": null,
   "metadata": {},
   "outputs": [],
   "source": [
    "import pandas as pd\n",
    "\n",
    "# Ask pandas to load the citations and metadata into separate dataframes\n",
    "full_citations_frame = pd.read_csv(\"../data/citations.csv\")\n",
    "full_metadata_frame = pd.read_csv(\"../data/cases_metadata.csv\")\n",
    "\n",
    "# Lets drop the paragraphs column for the citations for now (we don't need this info)\n",
    "full_citations_frame = full_citations_frame.drop(columns=\"paragraph\")\n",
    "# Just make sure there are no duplicate rows/edges (remove them)\n",
    "full_citations_frame.drop_duplicates(inplace=True) "
   ]
  },
  {
   "cell_type": "code",
   "execution_count": null,
   "metadata": {},
   "outputs": [],
   "source": [
    "# Get all the consumer case celex numbers\n",
    "# We can do this in many ways, but let us just take those inside the \"data/consumerprotection\" folder\n",
    "# In other words, we will read the filenames and strip the celex numbers from them\n",
    "import os\n",
    "\n",
    "# Get all the files listed in \"/data/casescontent/rulings/\"\n",
    "files_with_full_text_of_consumer_cases = os.listdir('../data/consumerprotection/')\n",
    "\n",
    "# Create an array to store all the celex numbers we find\n",
    "consumer_cases_celex_numbers = []\n",
    "\n",
    "# Filter for only the consumer protection cases\n",
    "for file in files_with_full_text_of_consumer_cases:\n",
    "    # Remove everything in the filename that is not the celex number\n",
    "    strippedfilename = file.replace(\"full_text_\", \"\")\n",
    "    strippedfilename = strippedfilename.replace(\".txt\", \"\")\n",
    "    # Add the celex number to the array\n",
    "    consumer_cases_celex_numbers.append(strippedfilename)"
   ]
  },
  {
   "cell_type": "code",
   "execution_count": null,
   "metadata": {},
   "outputs": [],
   "source": [
    "# Now let us filter the metadata dataframe just for the consumer protection rows\n",
    "is_consumer_protection = full_metadata_frame['source'].isin(consumer_cases_celex_numbers)\n",
    "consumer_protection_metadata_frame = full_metadata_frame[is_consumer_protection]"
   ]
  },
  {
   "cell_type": "code",
   "execution_count": null,
   "metadata": {},
   "outputs": [],
   "source": [
    "# Write filtered metadata table to a new CSV file - lets call it 'consumer_protection_metadata.csv'\n",
    "consumer_protection_metadata_frame.to_csv('../data/consumer_protection_metadata.csv', index=False)"
   ]
  },
  {
   "cell_type": "code",
   "execution_count": null,
   "metadata": {},
   "outputs": [],
   "source": [
    "# We're done with the metadata. Now the citations!\n",
    "# Now let us filter the citations dataframe just for the consumer protection rows\n",
    "#print(full_citations_frame.head(100))\n",
    "print(consumer_cases_celex_numbers)\n",
    "is_consumer_protection2 = full_citations_frame['source'].isin(consumer_cases_celex_numbers)\n",
    "print(is_consumer_protection2)\n",
    "consumer_protection_citations_frame = full_citations_frame[is_consumer_protection2 == True]\n",
    "print(consumer_protection_citations_frame.head(100))"
   ]
  },
  {
   "cell_type": "code",
   "execution_count": null,
   "metadata": {},
   "outputs": [],
   "source": [
    "# Write filtered citations table to a new CSV file - lets call it 'consumer_protection_citations.csv'\n",
    "consumer_protection_citations_frame.to_csv('../data/consumer_protection_citations.csv', index=False)"
   ]
  }
 ],
 "metadata": {
  "kernelspec": {
   "display_name": "Python 3",
   "language": "python",
   "name": "python3"
  },
  "language_info": {
   "codemirror_mode": {
    "name": "ipython",
    "version": 3
   },
   "file_extension": ".py",
   "mimetype": "text/x-python",
   "name": "python",
   "nbconvert_exporter": "python",
   "pygments_lexer": "ipython3",
   "version": "3.6.8"
  }
 },
 "nbformat": 4,
 "nbformat_minor": 4
}
