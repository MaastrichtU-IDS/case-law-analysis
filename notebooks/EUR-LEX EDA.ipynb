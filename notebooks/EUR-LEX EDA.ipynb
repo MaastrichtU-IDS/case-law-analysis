{
 "cells": [
  {
   "cell_type": "markdown",
   "metadata": {},
   "source": [
    "## Exploratory Data Analyisis"
   ]
  },
  {
   "cell_type": "code",
   "execution_count": 1,
   "metadata": {},
   "outputs": [],
   "source": [
    "#!pip install pyarrow modin "
   ]
  },
  {
   "cell_type": "code",
   "execution_count": 2,
   "metadata": {},
   "outputs": [],
   "source": [
    "#import modin.pandas as pd\n",
    "#df = pd.read_csv('https://s3.eu-central-1.amazonaws.com/maastrichtuniversity-ids-open/lex2rdf/cases_full.csv',\n",
    "#                dtype={\"year_lodge\": object, \"month_lodge\": object})"
   ]
  },
  {
   "cell_type": "code",
   "execution_count": 65,
   "metadata": {},
   "outputs": [],
   "source": [
    "import pandas as pd\n",
    "import matplotlib.pyplot as plt\n",
    "plt.style.use('ggplot')\n",
    "%matplotlib inline"
   ]
  },
  {
   "cell_type": "code",
   "execution_count": 92,
   "metadata": {},
   "outputs": [],
   "source": [
    "metadata = pd.read_csv('../data/cases_metadata.csv')\n",
    "countries = pd.read_csv('../data/countries.csv')\n",
    "subjects = pd.read_csv('../data/subjects.csv')\n",
    "citations = pd.read_csv('../data/citations.csv')\n",
    "#citations['paragraph'] = citations['target'] + '-' + citations['paragraph']"
   ]
  },
  {
   "cell_type": "code",
   "execution_count": 5,
   "metadata": {},
   "outputs": [
    {
     "data": {
      "text/plain": [
       "Index(['source', 'case_label', 'ecli', 'case_type', 'judge', 'advocate',\n",
       "       'country', 'country-chamber', 'chamber', 'main_subject', 'lodge_date',\n",
       "       'document_date', 'year_document', 'month_document', 'year_lodge',\n",
       "       'month_lodge', 'case_time', 'n_countries', 'joined_cases',\n",
       "       'ruling_title', 'ruling_name', 'ruling_type', 'ruling_content'],\n",
       "      dtype='object')"
      ]
     },
     "execution_count": 5,
     "metadata": {},
     "output_type": "execute_result"
    }
   ],
   "source": [
    "metadata.columns"
   ]
  },
  {
   "cell_type": "code",
   "execution_count": 7,
   "metadata": {},
   "outputs": [
    {
     "data": {
      "text/plain": [
       "13357"
      ]
     },
     "execution_count": 7,
     "metadata": {},
     "output_type": "execute_result"
    }
   ],
   "source": [
    "len(metadata['source'].unique())"
   ]
  },
  {
   "cell_type": "code",
   "execution_count": 8,
   "metadata": {},
   "outputs": [
    {
     "data": {
      "text/plain": [
       "13223"
      ]
     },
     "execution_count": 8,
     "metadata": {},
     "output_type": "execute_result"
    }
   ],
   "source": [
    "len(metadata['case_label'].unique())"
   ]
  },
  {
   "cell_type": "code",
   "execution_count": 9,
   "metadata": {},
   "outputs": [
    {
     "data": {
      "text/plain": [
       "13357"
      ]
     },
     "execution_count": 9,
     "metadata": {},
     "output_type": "execute_result"
    }
   ],
   "source": [
    "len(metadata['ecli'].unique())"
   ]
  },
  {
   "cell_type": "code",
   "execution_count": 16,
   "metadata": {},
   "outputs": [
    {
     "data": {
      "text/plain": [
       "case_type\n",
       "Judgement    11374\n",
       "Order         1983\n",
       "Name: source, dtype: int64"
      ]
     },
     "execution_count": 16,
     "metadata": {},
     "output_type": "execute_result"
    }
   ],
   "source": [
    "metadata.groupby('case_type').count()['source']"
   ]
  },
  {
   "cell_type": "code",
   "execution_count": 27,
   "metadata": {},
   "outputs": [
    {
     "data": {
      "text/plain": [
       "98"
      ]
     },
     "execution_count": 27,
     "metadata": {},
     "output_type": "execute_result"
    }
   ],
   "source": [
    "len(metadata['judge'].unique())"
   ]
  },
  {
   "cell_type": "code",
   "execution_count": 28,
   "metadata": {},
   "outputs": [
    {
     "data": {
      "text/plain": [
       "27"
      ]
     },
     "execution_count": 28,
     "metadata": {},
     "output_type": "execute_result"
    }
   ],
   "source": [
    "len(metadata[metadata['year_document'] >=2017]['judge'].unique())"
   ]
  },
  {
   "cell_type": "code",
   "execution_count": 23,
   "metadata": {},
   "outputs": [
    {
     "data": {
      "text/plain": [
       "judge\n",
       "Rosas                  285\n",
       "Jann                   280\n",
       "Moitinho de Almeida    272\n",
       "Toader                 269\n",
       "IleÅ¡iÄ               268\n",
       "Name: source, dtype: int64"
      ]
     },
     "execution_count": 23,
     "metadata": {},
     "output_type": "execute_result"
    }
   ],
   "source": [
    "metadata.groupby('judge').count()['source'].sort_values(ascending=False).head()"
   ]
  },
  {
   "cell_type": "code",
   "execution_count": 83,
   "metadata": {},
   "outputs": [
    {
     "data": {
      "text/plain": [
       "judge\n",
       "Koopmans               29\n",
       "Due                    28\n",
       "Moitinho de Almeida    28\n",
       "Pescatore              27\n",
       "Gulmann                26\n",
       "Name: source, dtype: int64"
      ]
     },
     "execution_count": 83,
     "metadata": {},
     "output_type": "execute_result"
    }
   ],
   "source": [
    "metadata[metadata['joined_cases'] ==1].groupby('judge').count()['source'].sort_values(ascending=False).head()\n",
    "#What happen with joined cases"
   ]
  },
  {
   "cell_type": "code",
   "execution_count": 30,
   "metadata": {},
   "outputs": [
    {
     "data": {
      "text/plain": [
       "111"
      ]
     },
     "execution_count": 30,
     "metadata": {},
     "output_type": "execute_result"
    }
   ],
   "source": [
    "len(metadata['advocate'].unique())"
   ]
  },
  {
   "cell_type": "code",
   "execution_count": 31,
   "metadata": {},
   "outputs": [
    {
     "data": {
      "text/plain": [
       "25"
      ]
     },
     "execution_count": 31,
     "metadata": {},
     "output_type": "execute_result"
    }
   ],
   "source": [
    "len(metadata[metadata['year_document'] >=2017]['advocate'].unique())"
   ]
  },
  {
   "cell_type": "code",
   "execution_count": 32,
   "metadata": {},
   "outputs": [
    {
     "data": {
      "text/plain": [
       "advocate\n",
       "Kokott       774\n",
       "Mengozzi     646\n",
       "Bot          640\n",
       "Sharpston    626\n",
       "Jacobs       609\n",
       "Name: source, dtype: int64"
      ]
     },
     "execution_count": 32,
     "metadata": {},
     "output_type": "execute_result"
    }
   ],
   "source": [
    "metadata.groupby('advocate').count()['source'].sort_values(ascending=False).head()"
   ]
  },
  {
   "cell_type": "code",
   "execution_count": 72,
   "metadata": {},
   "outputs": [
    {
     "data": {
      "text/plain": [
       "63"
      ]
     },
     "execution_count": 72,
     "metadata": {},
     "output_type": "execute_result"
    }
   ],
   "source": [
    "len(countries['country'].unique())"
   ]
  },
  {
   "cell_type": "code",
   "execution_count": 73,
   "metadata": {},
   "outputs": [
    {
     "data": {
      "text/plain": [
       "country\n",
       "Germany          2651\n",
       "Italy            1678\n",
       "not_specified    1437\n",
       "France           1276\n",
       "Netherlands      1109\n",
       "Name: source, dtype: int64"
      ]
     },
     "execution_count": 73,
     "metadata": {},
     "output_type": "execute_result"
    }
   ],
   "source": [
    "countries.groupby('country').count()['source'].sort_values(ascending=False).head()"
   ]
  },
  {
   "cell_type": "code",
   "execution_count": 74,
   "metadata": {},
   "outputs": [
    {
     "data": {
      "text/plain": [
       "14100"
      ]
     },
     "execution_count": 74,
     "metadata": {},
     "output_type": "execute_result"
    }
   ],
   "source": [
    "len(countries)"
   ]
  },
  {
   "cell_type": "code",
   "execution_count": 77,
   "metadata": {},
   "outputs": [
    {
     "data": {
      "text/plain": [
       "14100"
      ]
     },
     "execution_count": 77,
     "metadata": {},
     "output_type": "execute_result"
    }
   ],
   "source": [
    "merge_1 = countries.merge(metadata.loc[:, metadata.columns != 'country'], on='source', how='left')\n",
    "len(merge_1)"
   ]
  },
  {
   "cell_type": "markdown",
   "metadata": {},
   "source": [
    "This can be exploted in tableau"
   ]
  },
  {
   "cell_type": "code",
   "execution_count": 47,
   "metadata": {},
   "outputs": [
    {
     "data": {
      "text/plain": [
       "subject\n",
       "Approximation of laws          339\n",
       "Right of establishment         241\n",
       "Freedom to provide services    191\n",
       "Taxation                       136\n",
       "Competition                    113\n",
       "Name: source, dtype: int64"
      ]
     },
     "execution_count": 47,
     "metadata": {},
     "output_type": "execute_result"
    }
   ],
   "source": [
    "merge_[merge_['year_document']>=2017].groupby('subject').count()['source'].sort_values(ascending=False).head()"
   ]
  },
  {
   "cell_type": "code",
   "execution_count": 37,
   "metadata": {},
   "outputs": [
    {
     "data": {
      "text/plain": [
       "country-chamber\n",
       "Germany-First Chamber     189\n",
       "Germany-Second Chamber    181\n",
       "Germany-Fifth Chamber     172\n",
       "Germany-Third Chamber     170\n",
       "Germany-Sixth Chamber     143\n",
       "Name: source, dtype: int64"
      ]
     },
     "execution_count": 37,
     "metadata": {},
     "output_type": "execute_result"
    }
   ],
   "source": [
    "metadata[metadata['year_document']>=2000].groupby('country-chamber').count()['source'].sort_values(ascending=False).head()"
   ]
  },
  {
   "cell_type": "code",
   "execution_count": 63,
   "metadata": {},
   "outputs": [],
   "source": [
    "years = sorted(metadata['year_document'].unique())\n",
    "nan_chamber = []\n",
    "for year in years:\n",
    "    group = metadata[metadata['year_document'] == year].groupby('chamber').count()\n",
    "    nan_chamber.append(group.loc['not_specified']['source']/group['source'].sum()*100)"
   ]
  },
  {
   "cell_type": "code",
   "execution_count": 66,
   "metadata": {},
   "outputs": [
    {
     "data": {
      "image/png": "[encoded data removed]",
      "text/plain": [
       "<Figure size 1296x432 with 1 Axes>"
      ]
     },
     "metadata": {},
     "output_type": "display_data"
    }
   ],
   "source": [
    "plt.figure(figsize=(18, 6))\n",
    "position = range(len(years))\n",
    "plt.bar(position, nan_chamber, align='center', alpha=0.8, label='not_specified')\n",
    "plt.xticks(position, years, rotation=90)\n",
    "plt.legend(loc='best')\n",
    "plt.title('% of Null Chamber over the years')\n",
    "plt.show()"
   ]
  },
  {
   "cell_type": "code",
   "execution_count": 42,
   "metadata": {},
   "outputs": [
    {
     "data": {
      "text/plain": [
       "181"
      ]
     },
     "execution_count": 42,
     "metadata": {},
     "output_type": "execute_result"
    }
   ],
   "source": [
    "len(subjects['subject'].unique())"
   ]
  },
  {
   "cell_type": "code",
   "execution_count": 41,
   "metadata": {},
   "outputs": [
    {
     "data": {
      "text/plain": [
       "subject\n",
       "Approximation of laws          4401\n",
       "Agriculture and Fisheries      3182\n",
       "Right of establishment         3149\n",
       "Freedom to provide services    2966\n",
       "Free movement of goods         2654\n",
       "Name: source, dtype: int64"
      ]
     },
     "execution_count": 41,
     "metadata": {},
     "output_type": "execute_result"
    }
   ],
   "source": [
    "subjects.groupby('subject').count()['source'].sort_values(ascending=False).head()"
   ]
  },
  {
   "cell_type": "code",
   "execution_count": 44,
   "metadata": {},
   "outputs": [
    {
     "data": {
      "text/plain": [
       "54897"
      ]
     },
     "execution_count": 44,
     "metadata": {},
     "output_type": "execute_result"
    }
   ],
   "source": [
    "len(subjects)"
   ]
  },
  {
   "cell_type": "code",
   "execution_count": 45,
   "metadata": {},
   "outputs": [
    {
     "data": {
      "text/plain": [
       "54897"
      ]
     },
     "execution_count": 45,
     "metadata": {},
     "output_type": "execute_result"
    }
   ],
   "source": [
    "merge_ = subjects.merge(metadata, on='source', how='left')\n",
    "len(merge_)"
   ]
  },
  {
   "cell_type": "code",
   "execution_count": 47,
   "metadata": {},
   "outputs": [
    {
     "data": {
      "text/plain": [
       "subject\n",
       "Approximation of laws          339\n",
       "Right of establishment         241\n",
       "Freedom to provide services    191\n",
       "Taxation                       136\n",
       "Competition                    113\n",
       "Name: source, dtype: int64"
      ]
     },
     "execution_count": 47,
     "metadata": {},
     "output_type": "execute_result"
    }
   ],
   "source": [
    "merge_[merge_['year_document']>=2017].groupby('subject').count()['source'].sort_values(ascending=False).head()"
   ]
  },
  {
   "cell_type": "markdown",
   "metadata": {},
   "source": [
    "A plot of top 10 subject matters over the years"
   ]
  },
  {
   "cell_type": "code",
   "execution_count": 49,
   "metadata": {},
   "outputs": [
    {
     "data": {
      "text/plain": [
       "year_document\n",
       "2016    587\n",
       "2013    564\n",
       "2017    556\n",
       "2014    544\n",
       "2015    509\n",
       "Name: source, dtype: int64"
      ]
     },
     "execution_count": 49,
     "metadata": {},
     "output_type": "execute_result"
    }
   ],
   "source": [
    "metadata.groupby('year_document').count()['source'].sort_values(ascending=False).head()"
   ]
  },
  {
   "cell_type": "markdown",
   "metadata": {},
   "source": [
    "A plot of relative values of judgements and orders over the time (ilustrative, we expect every country behaves the same)"
   ]
  },
  {
   "cell_type": "code",
   "execution_count": 61,
   "metadata": {},
   "outputs": [
    {
     "data": {
      "text/plain": [
       "0   1997-04-17\n",
       "1   1995-02-10\n",
       "2   1995-03-13\n",
       "3   1994-11-22\n",
       "4   1998-07-24\n",
       "Name: lodge_date, dtype: datetime64[ns]"
      ]
     },
     "execution_count": 61,
     "metadata": {},
     "output_type": "execute_result"
    }
   ],
   "source": [
    "pd.to_datetime(metadata['lodge_date'],format= '%Y/%m/%d').head()"
   ]
  },
  {
   "cell_type": "code",
   "execution_count": 62,
   "metadata": {},
   "outputs": [],
   "source": [
    "metadata['lodge_date'] = pd.to_datetime(metadata['lodge_date'],format= '%Y/%m/%d')\n",
    "metadata['document_date'] = pd.to_datetime(metadata['document_date'],format= '%Y/%m/%d')"
   ]
  },
  {
   "cell_type": "code",
   "execution_count": 70,
   "metadata": {},
   "outputs": [],
   "source": [
    "metadata['case_time'] = metadata['document_date'] - metadata['lodge_date']"
   ]
  },
  {
   "cell_type": "code",
   "execution_count": 71,
   "metadata": {},
   "outputs": [
    {
     "data": {
      "text/plain": [
       "count                       13357\n",
       "mean     531 days 13:57:59.793366\n",
       "std      283 days 06:17:24.710953\n",
       "min               0 days 00:00:00\n",
       "25%             349 days 00:00:00\n",
       "50%             510 days 00:00:00\n",
       "75%             671 days 00:00:00\n",
       "max            3954 days 00:00:00\n",
       "Name: case_time, dtype: object"
      ]
     },
     "execution_count": 71,
     "metadata": {},
     "output_type": "execute_result"
    }
   ],
   "source": [
    "metadata['case_time'].describe()"
   ]
  },
  {
   "cell_type": "markdown",
   "metadata": {},
   "source": [
    "A plot of the time of the case over the time of the top 5 countries"
   ]
  },
  {
   "cell_type": "code",
   "execution_count": 5,
   "metadata": {},
   "outputs": [
    {
     "data": {
      "text/plain": [
       "Index(['source', 'case_label', 'ecli', 'case_type', 'judge', 'advocate',\n",
       "       'country', 'country-chamber', 'chamber', 'main_subject', 'lodge_date',\n",
       "       'document_date', 'year_document', 'month_document', 'year_lodge',\n",
       "       'month_lodge', 'case_time', 'n_countries', 'joined_cases',\n",
       "       'ruling_title', 'ruling_name', 'ruling_type', 'ruling_content'],\n",
       "      dtype='object')"
      ]
     },
     "execution_count": 5,
     "metadata": {},
     "output_type": "execute_result"
    }
   ],
   "source": [
    "metadata.columns"
   ]
  },
  {
   "cell_type": "code",
   "execution_count": 88,
   "metadata": {},
   "outputs": [
    {
     "data": {
      "text/plain": [
       "ruling_name\n",
       " Commission of the European Communities v Italian Republic.                346\n",
       " Commission of the European Communities v French Republic.                 192\n",
       " Commission of the European Communities v Kingdom of Belgium.              182\n",
       " Commission of the European Communities v Hellenic Republic.               158\n",
       " Commission of the European Communities v Federal Republic of Germany.     127\n",
       "Name: source, dtype: int64"
      ]
     },
     "execution_count": 88,
     "metadata": {},
     "output_type": "execute_result"
    }
   ],
   "source": [
    "metadata.groupby('ruling_name').count()['source'].sort_values(ascending=False).head()"
   ]
  },
  {
   "cell_type": "code",
   "execution_count": 89,
   "metadata": {},
   "outputs": [
    {
     "data": {
      "text/plain": [
       "ruling_type\n",
       "not_specified                                                             6621\n",
       " Reference for a preliminary ruling: Bundesfinanzhof - Germany.            176\n",
       " Reference for a preliminary ruling: Finanzgericht Hamburg - Germany.       88\n",
       " Reference for a preliminary ruling: Bundesgerichtshof - Germany.           80\n",
       " Reference for a preliminary ruling: Hoge Raad - Netherlands.               72\n",
       "Name: source, dtype: int64"
      ]
     },
     "execution_count": 89,
     "metadata": {},
     "output_type": "execute_result"
    }
   ],
   "source": [
    "metadata.groupby('ruling_type').count()['source'].sort_values(ascending=False).head()"
   ]
  },
  {
   "cell_type": "code",
   "execution_count": 90,
   "metadata": {},
   "outputs": [
    {
     "data": {
      "text/plain": [
       "ruling_content\n",
       " Taxation of costs.                                                 43\n",
       " Inadmissibility.                                                   42\n",
       " Removal from the register.                                         28\n",
       " Reference for a preliminary ruling: Bundesfinanzhof - Germany.     23\n",
       " Additional levy on milk.                                           23\n",
       "Name: source, dtype: int64"
      ]
     },
     "execution_count": 90,
     "metadata": {},
     "output_type": "execute_result"
    }
   ],
   "source": [
    "metadata.groupby('ruling_content').count()['source'].sort_values(ascending=False).head()"
   ]
  },
  {
   "cell_type": "code",
   "execution_count": 95,
   "metadata": {},
   "outputs": [],
   "source": [
    "citations['relation'] = citations['source']+'-'+citations['target']\n",
    "citations['unique'] = citations['source']+'-'+citations['target']+'-'+citations['paragraph']\n",
    "citations['citation'] = citations['target']+'-'+citations['paragraph']"
   ]
  },
  {
   "cell_type": "code",
   "execution_count": 105,
   "metadata": {},
   "outputs": [
    {
     "data": {
      "text/html": [
       "<div>\n",
       "<style scoped>\n",
       "    .dataframe tbody tr th:only-of-type {\n",
       "        vertical-align: middle;\n",
       "    }\n",
       "\n",
       "    .dataframe tbody tr th {\n",
       "        vertical-align: top;\n",
       "    }\n",
       "\n",
       "    .dataframe thead th {\n",
       "        text-align: right;\n",
       "    }\n",
       "</style>\n",
       "<table border=\"1\" class=\"dataframe\">\n",
       "  <thead>\n",
       "    <tr style=\"text-align: right;\">\n",
       "      <th></th>\n",
       "      <th>source</th>\n",
       "      <th>target</th>\n",
       "      <th>paragraph</th>\n",
       "      <th>relation</th>\n",
       "      <th>unique</th>\n",
       "      <th>citation</th>\n",
       "    </tr>\n",
       "  </thead>\n",
       "  <tbody>\n",
       "    <tr>\n",
       "      <th>0</th>\n",
       "      <td>62016CJ0267</td>\n",
       "      <td>61987CJ0215</td>\n",
       "      <td>N22</td>\n",
       "      <td>62016CJ0267-61987CJ0215</td>\n",
       "      <td>62016CJ0267-61987CJ0215-N22</td>\n",
       "      <td>61987CJ0215-N22</td>\n",
       "    </tr>\n",
       "    <tr>\n",
       "      <th>1</th>\n",
       "      <td>62016CJ0267</td>\n",
       "      <td>61987CJ0215</td>\n",
       "      <td>N67</td>\n",
       "      <td>62016CJ0267-61987CJ0215</td>\n",
       "      <td>62016CJ0267-61987CJ0215-N67</td>\n",
       "      <td>61987CJ0215-N67</td>\n",
       "    </tr>\n",
       "    <tr>\n",
       "      <th>2</th>\n",
       "      <td>62016CJ0267</td>\n",
       "      <td>62001CJ0030</td>\n",
       "      <td>N63</td>\n",
       "      <td>62016CJ0267-62001CJ0030</td>\n",
       "      <td>62016CJ0267-62001CJ0030-N63</td>\n",
       "      <td>62001CJ0030-N63</td>\n",
       "    </tr>\n",
       "    <tr>\n",
       "      <th>3</th>\n",
       "      <td>62016CJ0267</td>\n",
       "      <td>62001CJ0030</td>\n",
       "      <td>N34</td>\n",
       "      <td>62016CJ0267-62001CJ0030</td>\n",
       "      <td>62016CJ0267-62001CJ0030-N34</td>\n",
       "      <td>62001CJ0030-N34</td>\n",
       "    </tr>\n",
       "    <tr>\n",
       "      <th>4</th>\n",
       "      <td>62016CJ0267</td>\n",
       "      <td>62001CJ0030</td>\n",
       "      <td>N53</td>\n",
       "      <td>62016CJ0267-62001CJ0030</td>\n",
       "      <td>62016CJ0267-62001CJ0030-N53</td>\n",
       "      <td>62001CJ0030-N53</td>\n",
       "    </tr>\n",
       "  </tbody>\n",
       "</table>\n",
       "</div>"
      ],
      "text/plain": [
       "        source       target paragraph                 relation  \\\n",
       "0  62016CJ0267  61987CJ0215       N22  62016CJ0267-61987CJ0215   \n",
       "1  62016CJ0267  61987CJ0215       N67  62016CJ0267-61987CJ0215   \n",
       "2  62016CJ0267  62001CJ0030       N63  62016CJ0267-62001CJ0030   \n",
       "3  62016CJ0267  62001CJ0030       N34  62016CJ0267-62001CJ0030   \n",
       "4  62016CJ0267  62001CJ0030       N53  62016CJ0267-62001CJ0030   \n",
       "\n",
       "                        unique         citation  \n",
       "0  62016CJ0267-61987CJ0215-N22  61987CJ0215-N22  \n",
       "1  62016CJ0267-61987CJ0215-N67  61987CJ0215-N67  \n",
       "2  62016CJ0267-62001CJ0030-N63  62001CJ0030-N63  \n",
       "3  62016CJ0267-62001CJ0030-N34  62001CJ0030-N34  \n",
       "4  62016CJ0267-62001CJ0030-N53  62001CJ0030-N53  "
      ]
     },
     "execution_count": 105,
     "metadata": {},
     "output_type": "execute_result"
    }
   ],
   "source": [
    "citations.head()"
   ]
  },
  {
   "cell_type": "markdown",
   "metadata": {},
   "source": [
    "#### Unique paragraph citations  (target-paragraph)"
   ]
  },
  {
   "cell_type": "code",
   "execution_count": 96,
   "metadata": {},
   "outputs": [],
   "source": [
    "df_citations = citations.groupby('citation').agg('count')['source'].reset_index()"
   ]
  },
  {
   "cell_type": "code",
   "execution_count": 97,
   "metadata": {},
   "outputs": [
    {
     "data": {
      "text/html": [
       "<div>\n",
       "<style scoped>\n",
       "    .dataframe tbody tr th:only-of-type {\n",
       "        vertical-align: middle;\n",
       "    }\n",
       "\n",
       "    .dataframe tbody tr th {\n",
       "        vertical-align: top;\n",
       "    }\n",
       "\n",
       "    .dataframe thead th {\n",
       "        text-align: right;\n",
       "    }\n",
       "</style>\n",
       "<table border=\"1\" class=\"dataframe\">\n",
       "  <thead>\n",
       "    <tr style=\"text-align: right;\">\n",
       "      <th></th>\n",
       "      <th>citation</th>\n",
       "      <th>source</th>\n",
       "    </tr>\n",
       "  </thead>\n",
       "  <tbody>\n",
       "    <tr>\n",
       "      <th>21262</th>\n",
       "      <td>61990CJ0320-N06</td>\n",
       "      <td>48</td>\n",
       "    </tr>\n",
       "    <tr>\n",
       "      <th>2279</th>\n",
       "      <td>61974CJ0008-N5</td>\n",
       "      <td>47</td>\n",
       "    </tr>\n",
       "    <tr>\n",
       "      <th>84075</th>\n",
       "      <td>62010CJ0072-N6</td>\n",
       "      <td>46</td>\n",
       "    </tr>\n",
       "    <tr>\n",
       "      <th>25199</th>\n",
       "      <td>61992CO0157-N04</td>\n",
       "      <td>40</td>\n",
       "    </tr>\n",
       "    <tr>\n",
       "      <th>18484</th>\n",
       "      <td>61989CJ0106-N08</td>\n",
       "      <td>36</td>\n",
       "    </tr>\n",
       "    <tr>\n",
       "      <th>87694</th>\n",
       "      <td>62010CJ0617-N19</td>\n",
       "      <td>36</td>\n",
       "    </tr>\n",
       "    <tr>\n",
       "      <th>23136</th>\n",
       "      <td>61991CJ0267-N16</td>\n",
       "      <td>35</td>\n",
       "    </tr>\n",
       "    <tr>\n",
       "      <th>1203</th>\n",
       "      <td>61970CJ0022-N42</td>\n",
       "      <td>34</td>\n",
       "    </tr>\n",
       "    <tr>\n",
       "      <th>14493</th>\n",
       "      <td>61986CJ0267-N16</td>\n",
       "      <td>33</td>\n",
       "    </tr>\n",
       "    <tr>\n",
       "      <th>23918</th>\n",
       "      <td>61992CJ0091-N26</td>\n",
       "      <td>30</td>\n",
       "    </tr>\n",
       "  </tbody>\n",
       "</table>\n",
       "</div>"
      ],
      "text/plain": [
       "              citation  source\n",
       "21262  61990CJ0320-N06      48\n",
       "2279    61974CJ0008-N5      47\n",
       "84075   62010CJ0072-N6      46\n",
       "25199  61992CO0157-N04      40\n",
       "18484  61989CJ0106-N08      36\n",
       "87694  62010CJ0617-N19      36\n",
       "23136  61991CJ0267-N16      35\n",
       "1203   61970CJ0022-N42      34\n",
       "14493  61986CJ0267-N16      33\n",
       "23918  61992CJ0091-N26      30"
      ]
     },
     "execution_count": 97,
     "metadata": {},
     "output_type": "execute_result"
    }
   ],
   "source": [
    "df_citations.sort_values(['source'], ascending=False).head(10)"
   ]
  },
  {
   "cell_type": "markdown",
   "metadata": {},
   "source": [
    "The most cited [paragraph](https://eur-lex.europa.eu/legal-content/EN/TXT/?qid=1528814213715&uri=CELEX:61974CJ0008)"
   ]
  },
  {
   "cell_type": "markdown",
   "metadata": {},
   "source": [
    "#### Unique cited cases (target -> source)"
   ]
  },
  {
   "cell_type": "code",
   "execution_count": 98,
   "metadata": {},
   "outputs": [],
   "source": [
    "df_ = citations.groupby(['target','source']).agg('count')['citation'].reset_index()\n",
    "df_target = df_.groupby('target')['citation'].agg(['count','sum']).reset_index()\n",
    "df_target.columns = ['target','sources','target_paragraphs']"
   ]
  },
  {
   "cell_type": "code",
   "execution_count": 99,
   "metadata": {},
   "outputs": [
    {
     "data": {
      "text/html": [
       "<div>\n",
       "<style scoped>\n",
       "    .dataframe tbody tr th:only-of-type {\n",
       "        vertical-align: middle;\n",
       "    }\n",
       "\n",
       "    .dataframe tbody tr th {\n",
       "        vertical-align: top;\n",
       "    }\n",
       "\n",
       "    .dataframe thead th {\n",
       "        text-align: right;\n",
       "    }\n",
       "</style>\n",
       "<table border=\"1\" class=\"dataframe\">\n",
       "  <thead>\n",
       "    <tr style=\"text-align: right;\">\n",
       "      <th></th>\n",
       "      <th>target</th>\n",
       "      <th>sources</th>\n",
       "      <th>target_paragraphs</th>\n",
       "    </tr>\n",
       "  </thead>\n",
       "  <tbody>\n",
       "    <tr>\n",
       "      <th>4363</th>\n",
       "      <td>61998CJ0352</td>\n",
       "      <td>165</td>\n",
       "      <td>275</td>\n",
       "    </tr>\n",
       "    <tr>\n",
       "      <th>3214</th>\n",
       "      <td>61993CJ0415</td>\n",
       "      <td>159</td>\n",
       "      <td>521</td>\n",
       "    </tr>\n",
       "    <tr>\n",
       "      <th>5449</th>\n",
       "      <td>62002CJ0189</td>\n",
       "      <td>149</td>\n",
       "      <td>406</td>\n",
       "    </tr>\n",
       "    <tr>\n",
       "      <th>4382</th>\n",
       "      <td>61998CJ0379</td>\n",
       "      <td>128</td>\n",
       "      <td>306</td>\n",
       "    </tr>\n",
       "    <tr>\n",
       "      <th>428</th>\n",
       "      <td>61974CJ0008</td>\n",
       "      <td>128</td>\n",
       "      <td>341</td>\n",
       "    </tr>\n",
       "    <tr>\n",
       "      <th>2992</th>\n",
       "      <td>61992CJ0136</td>\n",
       "      <td>105</td>\n",
       "      <td>206</td>\n",
       "    </tr>\n",
       "    <tr>\n",
       "      <th>4879</th>\n",
       "      <td>62000CJ0204</td>\n",
       "      <td>87</td>\n",
       "      <td>189</td>\n",
       "    </tr>\n",
       "    <tr>\n",
       "      <th>2697</th>\n",
       "      <td>61990CJ0320</td>\n",
       "      <td>85</td>\n",
       "      <td>267</td>\n",
       "    </tr>\n",
       "    <tr>\n",
       "      <th>3568</th>\n",
       "      <td>61995CJ0185</td>\n",
       "      <td>80</td>\n",
       "      <td>185</td>\n",
       "    </tr>\n",
       "    <tr>\n",
       "      <th>5892</th>\n",
       "      <td>62003CJ0551</td>\n",
       "      <td>80</td>\n",
       "      <td>117</td>\n",
       "    </tr>\n",
       "  </tbody>\n",
       "</table>\n",
       "</div>"
      ],
      "text/plain": [
       "           target  sources  target_paragraphs\n",
       "4363  61998CJ0352      165                275\n",
       "3214  61993CJ0415      159                521\n",
       "5449  62002CJ0189      149                406\n",
       "4382  61998CJ0379      128                306\n",
       "428   61974CJ0008      128                341\n",
       "2992  61992CJ0136      105                206\n",
       "4879  62000CJ0204       87                189\n",
       "2697  61990CJ0320       85                267\n",
       "3568  61995CJ0185       80                185\n",
       "5892  62003CJ0551       80                117"
      ]
     },
     "execution_count": 99,
     "metadata": {},
     "output_type": "execute_result"
    }
   ],
   "source": [
    "df_target.sort_values('sources',ascending=False).head(10)"
   ]
  },
  {
   "cell_type": "markdown",
   "metadata": {},
   "source": [
    "The most cited [case](https://eur-lex.europa.eu/legal-content/EN/TXT/?qid=1528816320947&uri=CELEX:61993CJ0415)"
   ]
  },
  {
   "cell_type": "markdown",
   "metadata": {},
   "source": [
    "#### Unique relations (source -> target)"
   ]
  },
  {
   "cell_type": "code",
   "execution_count": 100,
   "metadata": {},
   "outputs": [],
   "source": [
    "#table on relation level\n",
    "df_relations = citations.groupby(['source','relation']).agg('count')['paragraph'].reset_index()"
   ]
  },
  {
   "cell_type": "code",
   "execution_count": 101,
   "metadata": {},
   "outputs": [],
   "source": [
    "#it is necessary to revise the methodology since it's poossible to check the number of paragrphs in eu-lex, and may not match ith the count method\n",
    "#df_relations.sort_values(['paragraph'], ascending=False).head(10)"
   ]
  },
  {
   "cell_type": "code",
   "execution_count": 102,
   "metadata": {},
   "outputs": [],
   "source": [
    "df_source = df_relations.groupby('source')['paragraph'].agg(['count','sum']).reset_index() \n",
    "df_source.columns = ['source','targets','source_paragraphs']"
   ]
  },
  {
   "cell_type": "code",
   "execution_count": 103,
   "metadata": {},
   "outputs": [
    {
     "data": {
      "text/html": [
       "<div>\n",
       "<style scoped>\n",
       "    .dataframe tbody tr th:only-of-type {\n",
       "        vertical-align: middle;\n",
       "    }\n",
       "\n",
       "    .dataframe tbody tr th {\n",
       "        vertical-align: top;\n",
       "    }\n",
       "\n",
       "    .dataframe thead th {\n",
       "        text-align: right;\n",
       "    }\n",
       "</style>\n",
       "<table border=\"1\" class=\"dataframe\">\n",
       "  <thead>\n",
       "    <tr style=\"text-align: right;\">\n",
       "      <th></th>\n",
       "      <th>source</th>\n",
       "      <th>targets</th>\n",
       "      <th>source_paragraphs</th>\n",
       "    </tr>\n",
       "  </thead>\n",
       "  <tbody>\n",
       "    <tr>\n",
       "      <th>7634</th>\n",
       "      <td>62010CJ0539</td>\n",
       "      <td>55</td>\n",
       "      <td>222</td>\n",
       "    </tr>\n",
       "    <tr>\n",
       "      <th>8569</th>\n",
       "      <td>62012CJ0382</td>\n",
       "      <td>50</td>\n",
       "      <td>140</td>\n",
       "    </tr>\n",
       "    <tr>\n",
       "      <th>5601</th>\n",
       "      <td>62005CJ0341</td>\n",
       "      <td>49</td>\n",
       "      <td>240</td>\n",
       "    </tr>\n",
       "    <tr>\n",
       "      <th>6704</th>\n",
       "      <td>62008CJ0384</td>\n",
       "      <td>49</td>\n",
       "      <td>59</td>\n",
       "    </tr>\n",
       "    <tr>\n",
       "      <th>9872</th>\n",
       "      <td>62015CJ0072</td>\n",
       "      <td>48</td>\n",
       "      <td>260</td>\n",
       "    </tr>\n",
       "    <tr>\n",
       "      <th>5875</th>\n",
       "      <td>62006CJ0268</td>\n",
       "      <td>44</td>\n",
       "      <td>83</td>\n",
       "    </tr>\n",
       "    <tr>\n",
       "      <th>5964</th>\n",
       "      <td>62006CJ0413</td>\n",
       "      <td>44</td>\n",
       "      <td>61</td>\n",
       "    </tr>\n",
       "    <tr>\n",
       "      <th>7567</th>\n",
       "      <td>62010CJ0416</td>\n",
       "      <td>44</td>\n",
       "      <td>100</td>\n",
       "    </tr>\n",
       "    <tr>\n",
       "      <th>6642</th>\n",
       "      <td>62008CJ0280</td>\n",
       "      <td>44</td>\n",
       "      <td>66</td>\n",
       "    </tr>\n",
       "    <tr>\n",
       "      <th>6187</th>\n",
       "      <td>62007CJ0208</td>\n",
       "      <td>42</td>\n",
       "      <td>144</td>\n",
       "    </tr>\n",
       "  </tbody>\n",
       "</table>\n",
       "</div>"
      ],
      "text/plain": [
       "           source  targets  source_paragraphs\n",
       "7634  62010CJ0539       55                222\n",
       "8569  62012CJ0382       50                140\n",
       "5601  62005CJ0341       49                240\n",
       "6704  62008CJ0384       49                 59\n",
       "9872  62015CJ0072       48                260\n",
       "5875  62006CJ0268       44                 83\n",
       "5964  62006CJ0413       44                 61\n",
       "7567  62010CJ0416       44                100\n",
       "6642  62008CJ0280       44                 66\n",
       "6187  62007CJ0208       42                144"
      ]
     },
     "execution_count": 103,
     "metadata": {},
     "output_type": "execute_result"
    }
   ],
   "source": [
    "df_source.sort_values(['targets'], ascending=False).head(10)"
   ]
  },
  {
   "cell_type": "markdown",
   "metadata": {},
   "source": [
    "The case that cites the [most](https://eur-lex.europa.eu/legal-content/EN/TXT/?qid=1528817250200&uri=CELEX:62010CJ0539)"
   ]
  },
  {
   "cell_type": "markdown",
   "metadata": {},
   "source": [
    "Make  function to automate dataset creation from pandas queries that can be consumed by tableau or neo4j"
   ]
  },
  {
   "cell_type": "code",
   "execution_count": null,
   "metadata": {},
   "outputs": [],
   "source": []
  }
 ],
 "metadata": {
  "kernelspec": {
   "display_name": "Python 3",
   "language": "python",
   "name": "python3"
  },
  "language_info": {
   "codemirror_mode": {
    "name": "ipython",
    "version": 3
   },
   "file_extension": ".py",
   "mimetype": "text/x-python",
   "name": "python",
   "nbconvert_exporter": "python",
   "pygments_lexer": "ipython3",
   "version": "3.6.5"
  }
 },
 "nbformat": 4,
 "nbformat_minor": 2
}
