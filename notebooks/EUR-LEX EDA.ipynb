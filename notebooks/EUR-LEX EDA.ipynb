{
 "cells": [
  {
   "cell_type": "markdown",
   "metadata": {},
   "source": [
    "## EUR-LEX Exploratory Data Analyisis"
   ]
  },
  {
   "cell_type": "markdown",
   "metadata": {},
   "source": [
    "This notebook explores descriptive statistics about EUR-lEX case law database"
   ]
  },
  {
   "cell_type": "code",
   "execution_count": 1,
   "metadata": {},
   "outputs": [],
   "source": [
    "import pandas as pd\n",
    "import matplotlib.pyplot as plt\n",
    "import plotly.plotly as py\n",
    "import plotly.graph_objs as go\n",
    "%matplotlib inline"
   ]
  },
  {
   "cell_type": "code",
   "execution_count": 2,
   "metadata": {},
   "outputs": [],
   "source": [
    "metadata = pd.read_csv('../data/cases_metadata.csv')\n",
    "countries = pd.read_csv('../data/countries.csv')\n",
    "subjects = pd.read_csv('../data/subjects.csv')\n",
    "citations = pd.read_csv('../data/citations.csv')"
   ]
  },
  {
   "cell_type": "markdown",
   "metadata": {},
   "source": [
    "### How does the metadata from EUR-LEX judgements and orders looks like?"
   ]
  },
  {
   "cell_type": "code",
   "execution_count": 3,
   "metadata": {},
   "outputs": [
    {
     "data": {
      "text/html": [
       "<div>\n",
       "<style scoped>\n",
       "    .dataframe tbody tr th:only-of-type {\n",
       "        vertical-align: middle;\n",
       "    }\n",
       "\n",
       "    .dataframe tbody tr th {\n",
       "        vertical-align: top;\n",
       "    }\n",
       "\n",
       "    .dataframe thead th {\n",
       "        text-align: right;\n",
       "    }\n",
       "</style>\n",
       "<table border=\"1\" class=\"dataframe\">\n",
       "  <thead>\n",
       "    <tr style=\"text-align: right;\">\n",
       "      <th></th>\n",
       "      <th>source</th>\n",
       "      <th>case_label</th>\n",
       "      <th>ecli</th>\n",
       "      <th>case_type</th>\n",
       "      <th>judge</th>\n",
       "      <th>advocate</th>\n",
       "      <th>country</th>\n",
       "      <th>country-chamber</th>\n",
       "      <th>chamber</th>\n",
       "      <th>main_subject</th>\n",
       "      <th>...</th>\n",
       "      <th>month_document</th>\n",
       "      <th>year_lodge</th>\n",
       "      <th>month_lodge</th>\n",
       "      <th>case_time</th>\n",
       "      <th>n_countries</th>\n",
       "      <th>joined_cases</th>\n",
       "      <th>ruling_title</th>\n",
       "      <th>ruling_name</th>\n",
       "      <th>ruling_type</th>\n",
       "      <th>ruling_content</th>\n",
       "    </tr>\n",
       "  </thead>\n",
       "  <tbody>\n",
       "    <tr>\n",
       "      <th>0</th>\n",
       "      <td>61997CJ0147</td>\n",
       "      <td>Joined cases C-147/97 and C-148/97</td>\n",
       "      <td>EU:C:2000:74</td>\n",
       "      <td>Judgement</td>\n",
       "      <td>Kapteyn</td>\n",
       "      <td>A. La Pergola</td>\n",
       "      <td>Germany</td>\n",
       "      <td>Germany-not_specified</td>\n",
       "      <td>not_specified</td>\n",
       "      <td>3</td>\n",
       "      <td>...</td>\n",
       "      <td>2</td>\n",
       "      <td>1997.0</td>\n",
       "      <td>4.0</td>\n",
       "      <td>1029 days 00:00:00.000000000</td>\n",
       "      <td>1</td>\n",
       "      <td>1</td>\n",
       "      <td>Judgment of the Court of 10 February 2000.</td>\n",
       "      <td>Deutsche Post AG v Gesellschaft für Zahlungss...</td>\n",
       "      <td>Reference for a preliminary ruling: Oberlande...</td>\n",
       "      <td>Public undertaking - Postal service - Non-phy...</td>\n",
       "    </tr>\n",
       "    <tr>\n",
       "      <th>1</th>\n",
       "      <td>61995CJ0032</td>\n",
       "      <td>Case C-32/95 P</td>\n",
       "      <td>EU:C:1996:402</td>\n",
       "      <td>Judgement</td>\n",
       "      <td>Ragnemalm</td>\n",
       "      <td>A. La Pergola</td>\n",
       "      <td>Portugal</td>\n",
       "      <td>Portugal-Sixth Chamber</td>\n",
       "      <td>Sixth Chamber</td>\n",
       "      <td>1</td>\n",
       "      <td>...</td>\n",
       "      <td>10</td>\n",
       "      <td>1995.0</td>\n",
       "      <td>2.0</td>\n",
       "      <td>622 days 00:00:00.000000000</td>\n",
       "      <td>1</td>\n",
       "      <td>0</td>\n",
       "      <td>Judgment of the Court (Sixth Chamber) of 24 Oc...</td>\n",
       "      <td>Commission of the European Communities v Lisr...</td>\n",
       "      <td>not_specified</td>\n",
       "      <td>European Social Fund - Decision reducing fina...</td>\n",
       "    </tr>\n",
       "    <tr>\n",
       "      <th>2</th>\n",
       "      <td>61995CJ0067</td>\n",
       "      <td>Case C-67/95</td>\n",
       "      <td>EU:C:1997:470</td>\n",
       "      <td>Judgement</td>\n",
       "      <td>Hirsch</td>\n",
       "      <td>A. La Pergola</td>\n",
       "      <td>Netherlands</td>\n",
       "      <td>Netherlands-Second Chamber</td>\n",
       "      <td>Second Chamber</td>\n",
       "      <td>1</td>\n",
       "      <td>...</td>\n",
       "      <td>10</td>\n",
       "      <td>1995.0</td>\n",
       "      <td>3.0</td>\n",
       "      <td>941 days 00:00:00.000000000</td>\n",
       "      <td>1</td>\n",
       "      <td>0</td>\n",
       "      <td>Judgment of the Court (Second Chamber) of 9 Oc...</td>\n",
       "      <td>Rank Xerox Manufacturing (Nederland) BV v Ins...</td>\n",
       "      <td>Reference for a preliminary ruling: Tariefcom...</td>\n",
       "      <td>Common Customs Tariff - Tariff headings - Cop...</td>\n",
       "    </tr>\n",
       "    <tr>\n",
       "      <th>3</th>\n",
       "      <td>61994CJ0308</td>\n",
       "      <td>Case C-308/94</td>\n",
       "      <td>EU:C:1996:28</td>\n",
       "      <td>Judgement</td>\n",
       "      <td>Kakouris</td>\n",
       "      <td>A. La Pergola</td>\n",
       "      <td>Belgium</td>\n",
       "      <td>Belgium-Sixth Chamber</td>\n",
       "      <td>Sixth Chamber</td>\n",
       "      <td>1</td>\n",
       "      <td>...</td>\n",
       "      <td>2</td>\n",
       "      <td>1994.0</td>\n",
       "      <td>11.0</td>\n",
       "      <td>436 days 00:00:00.000000000</td>\n",
       "      <td>1</td>\n",
       "      <td>0</td>\n",
       "      <td>Judgment of the Court (Sixth Chamber) of 1 Feb...</td>\n",
       "      <td>Office National de l'Emploi v Heidemarie Naru...</td>\n",
       "      <td>Reference for a preliminary ruling: Cour du t...</td>\n",
       "      <td>Social security for migrant workers - Council...</td>\n",
       "    </tr>\n",
       "    <tr>\n",
       "      <th>4</th>\n",
       "      <td>61998CJ0285</td>\n",
       "      <td>Case C-285/98</td>\n",
       "      <td>EU:C:2000:2</td>\n",
       "      <td>Judgement</td>\n",
       "      <td>Puissochet</td>\n",
       "      <td>A. La Pergola</td>\n",
       "      <td>Germany</td>\n",
       "      <td>Germany-not_specified</td>\n",
       "      <td>not_specified</td>\n",
       "      <td>1</td>\n",
       "      <td>...</td>\n",
       "      <td>1</td>\n",
       "      <td>1998.0</td>\n",
       "      <td>7.0</td>\n",
       "      <td>536 days 00:00:00.000000000</td>\n",
       "      <td>1</td>\n",
       "      <td>0</td>\n",
       "      <td>Judgment of the Court of 11 January 2000.</td>\n",
       "      <td>Tanja Kreil v Bundesrepublik Deutschland.</td>\n",
       "      <td>Reference for a preliminary ruling: Verwaltun...</td>\n",
       "      <td>Equal treatment for men and women - Limitatio...</td>\n",
       "    </tr>\n",
       "  </tbody>\n",
       "</table>\n",
       "<p>5 rows × 23 columns</p>\n",
       "</div>"
      ],
      "text/plain": [
       "        source                            case_label           ecli  \\\n",
       "0  61997CJ0147    Joined cases C-147/97 and C-148/97   EU:C:2000:74   \n",
       "1  61995CJ0032                        Case C-32/95 P  EU:C:1996:402   \n",
       "2  61995CJ0067                          Case C-67/95  EU:C:1997:470   \n",
       "3  61994CJ0308                         Case C-308/94   EU:C:1996:28   \n",
       "4  61998CJ0285                         Case C-285/98    EU:C:2000:2   \n",
       "\n",
       "   case_type       judge        advocate      country  \\\n",
       "0  Judgement     Kapteyn   A. La Pergola      Germany   \n",
       "1  Judgement   Ragnemalm   A. La Pergola     Portugal   \n",
       "2  Judgement      Hirsch   A. La Pergola  Netherlands   \n",
       "3  Judgement    Kakouris   A. La Pergola      Belgium   \n",
       "4  Judgement  Puissochet   A. La Pergola      Germany   \n",
       "\n",
       "              country-chamber         chamber  main_subject  \\\n",
       "0       Germany-not_specified   not_specified             3   \n",
       "1      Portugal-Sixth Chamber   Sixth Chamber             1   \n",
       "2  Netherlands-Second Chamber  Second Chamber             1   \n",
       "3       Belgium-Sixth Chamber   Sixth Chamber             1   \n",
       "4       Germany-not_specified   not_specified             1   \n",
       "\n",
       "                         ...                         month_document  \\\n",
       "0                        ...                                      2   \n",
       "1                        ...                                     10   \n",
       "2                        ...                                     10   \n",
       "3                        ...                                      2   \n",
       "4                        ...                                      1   \n",
       "\n",
       "  year_lodge  month_lodge                     case_time  n_countries  \\\n",
       "0     1997.0          4.0  1029 days 00:00:00.000000000            1   \n",
       "1     1995.0          2.0   622 days 00:00:00.000000000            1   \n",
       "2     1995.0          3.0   941 days 00:00:00.000000000            1   \n",
       "3     1994.0         11.0   436 days 00:00:00.000000000            1   \n",
       "4     1998.0          7.0   536 days 00:00:00.000000000            1   \n",
       "\n",
       "   joined_cases                                       ruling_title  \\\n",
       "0             1        Judgment of the Court of 10 February 2000.    \n",
       "1             0  Judgment of the Court (Sixth Chamber) of 24 Oc...   \n",
       "2             0  Judgment of the Court (Second Chamber) of 9 Oc...   \n",
       "3             0  Judgment of the Court (Sixth Chamber) of 1 Feb...   \n",
       "4             0         Judgment of the Court of 11 January 2000.    \n",
       "\n",
       "                                         ruling_name  \\\n",
       "0   Deutsche Post AG v Gesellschaft für Zahlungss...   \n",
       "1   Commission of the European Communities v Lisr...   \n",
       "2   Rank Xerox Manufacturing (Nederland) BV v Ins...   \n",
       "3   Office National de l'Emploi v Heidemarie Naru...   \n",
       "4         Tanja Kreil v Bundesrepublik Deutschland.    \n",
       "\n",
       "                                         ruling_type  \\\n",
       "0   Reference for a preliminary ruling: Oberlande...   \n",
       "1                                      not_specified   \n",
       "2   Reference for a preliminary ruling: Tariefcom...   \n",
       "3   Reference for a preliminary ruling: Cour du t...   \n",
       "4   Reference for a preliminary ruling: Verwaltun...   \n",
       "\n",
       "                                      ruling_content  \n",
       "0   Public undertaking - Postal service - Non-phy...  \n",
       "1   European Social Fund - Decision reducing fina...  \n",
       "2   Common Customs Tariff - Tariff headings - Cop...  \n",
       "3   Social security for migrant workers - Council...  \n",
       "4   Equal treatment for men and women - Limitatio...  \n",
       "\n",
       "[5 rows x 23 columns]"
      ]
     },
     "execution_count": 3,
     "metadata": {},
     "output_type": "execute_result"
    }
   ],
   "source": [
    "metadata.head()"
   ]
  },
  {
   "cell_type": "code",
   "execution_count": 4,
   "metadata": {},
   "outputs": [
    {
     "data": {
      "text/plain": [
       "Index(['source', 'case_label', 'ecli', 'case_type', 'judge', 'advocate',\n",
       "       'country', 'country-chamber', 'chamber', 'main_subject', 'lodge_date',\n",
       "       'document_date', 'year_document', 'month_document', 'year_lodge',\n",
       "       'month_lodge', 'case_time', 'n_countries', 'joined_cases',\n",
       "       'ruling_title', 'ruling_name', 'ruling_type', 'ruling_content'],\n",
       "      dtype='object')"
      ]
     },
     "execution_count": 4,
     "metadata": {},
     "output_type": "execute_result"
    }
   ],
   "source": [
    "metadata.columns"
   ]
  },
  {
   "cell_type": "markdown",
   "metadata": {},
   "source": [
    "Metadata description:\n",
    "    - Source: CELEX Identifier (unique)\n",
    "    - Case Label: Case identifier, may contain joint cases\n",
    "    - ECLI: Unique identifier\n",
    "    - Case type: Specifies wether if the case is a Judgement or an Order)\n",
    "    - Judge: Name of the judge related with the case\n",
    "    - Advocate: Name of the advocate related with the case\n",
    "    - Country: Country or countries related with the case\n",
    "    - Country-Chamber: Concatenation of Country and Chamber\n",
    "    - Chamber: Chamber related with the case\n",
    "    - Main Subject: Number of subjects this case is about (detail on subject table)\n",
    "    - Lodge Date: Registered date of the lodge\n",
    "    - Document Date: Registered date of the document\n",
    "    - Case Time: Time elapsed between the lodge date and the document date\n",
    "    - N Countries: Number of countries registred in the case\n",
    "    - Joined Cases: Indicates wether if the case is joined or not"
   ]
  },
  {
   "cell_type": "markdown",
   "metadata": {},
   "source": [
    "### How many cases are in the database? "
   ]
  },
  {
   "cell_type": "code",
   "execution_count": 5,
   "metadata": {},
   "outputs": [
    {
     "name": "stdout",
     "output_type": "stream",
     "text": [
      "Unique CELEX number 13357\n",
      "Unique ECLI ID 13357\n",
      "Unique Case Label 13223\n"
     ]
    }
   ],
   "source": [
    "print('Unique CELEX number {}\\nUnique ECLI ID {}\\nUnique Case Label {}'.format(\n",
    "len(metadata['source'].unique()),len(metadata['ecli'].unique()),len(metadata['case_label'].unique())))\n"
   ]
  },
  {
   "cell_type": "markdown",
   "metadata": {},
   "source": [
    "### What is the proportion of Judgements and Orders?"
   ]
  },
  {
   "cell_type": "code",
   "execution_count": 6,
   "metadata": {},
   "outputs": [
    {
     "data": {
      "text/plain": [
       "case_type\n",
       "Judgement    11374\n",
       "Order         1983\n",
       "Name: source, dtype: int64"
      ]
     },
     "execution_count": 6,
     "metadata": {},
     "output_type": "execute_result"
    }
   ],
   "source": [
    "metadata.groupby('case_type').count()['source']"
   ]
  },
  {
   "cell_type": "code",
   "execution_count": 7,
   "metadata": {},
   "outputs": [],
   "source": [
    "abosolute_j = metadata[metadata['case_type'] == 'Judgement'].groupby('year_document').count()['source']\n",
    "relative_j = [round(i*100/abosolute_j.sum(),2) for i in abosolute_j]\n",
    "abosolute_o = metadata[metadata['case_type'] == 'Order'].groupby('year_document').count()['source']\n",
    "relative_o = [round(i*100/abosolute_o.sum(),2) for i in abosolute_o]"
   ]
  },
  {
   "cell_type": "code",
   "execution_count": 8,
   "metadata": {},
   "outputs": [],
   "source": [
    "full_years = list(abosolute_j.index)"
   ]
  },
  {
   "cell_type": "code",
   "execution_count": 9,
   "metadata": {},
   "outputs": [],
   "source": [
    "trace1 = go.Scatter(x = full_years, y = relative_j, mode = 'lines+markers', name = 'Judgements')\n",
    "trace2 = go.Scatter(x = full_years, y = relative_o, mode = 'lines+markers', name = 'Orders')"
   ]
  },
  {
   "cell_type": "code",
   "execution_count": 106,
   "metadata": {},
   "outputs": [
    {
     "data": {
      "text/html": [
       "<iframe id=\"igraph\" scrolling=\"no\" style=\"border:none;\" seamless=\"seamless\" src=\"https://plot.ly/~pedrovhserrano/5.embed\" height=\"525px\" width=\"100%\"></iframe>"
      ],
      "text/plain": [
       "<plotly.tools.PlotlyDisplay object>"
      ]
     },
     "execution_count": 106,
     "metadata": {},
     "output_type": "execute_result"
    }
   ],
   "source": [
    "py.iplot([trace1, trace2], filename='Time Series Relative Cases')"
   ]
  },
  {
   "cell_type": "markdown",
   "metadata": {},
   "source": [
    "Do all the countries behave the same through time?"
   ]
  },
  {
   "cell_type": "markdown",
   "metadata": {},
   "source": [
    "### How many Judges are in the database"
   ]
  },
  {
   "cell_type": "code",
   "execution_count": 18,
   "metadata": {},
   "outputs": [
    {
     "name": "stdout",
     "output_type": "stream",
     "text": [
      "Number of Judges all history 98\n",
      "Number of Judges last year 27\n",
      "Number of Advocates all history 111\n",
      "Number of Advocates last year 25\n"
     ]
    }
   ],
   "source": [
    "print('Number of Judges all history {}\\nNumber of Judges last year {}\\nNumber of Advocates all history {}\\nNumber of Advocates last year {}'.format(\n",
    "len(metadata['judge'].unique()),len(metadata[metadata['year_document'] >=2017]['judge'].unique()),\n",
    "len(metadata['advocate'].unique()),len(metadata[metadata['year_document'] >=2017]['advocate'].unique())))"
   ]
  },
  {
   "cell_type": "code",
   "execution_count": 37,
   "metadata": {},
   "outputs": [],
   "source": [
    "judges = metadata.groupby('judge').count()['source'].sort_values(ascending=False)"
   ]
  },
  {
   "cell_type": "code",
   "execution_count": 36,
   "metadata": {},
   "outputs": [
    {
     "data": {
      "image/png": "[encoded data removed]",
      "text/plain": [
       "<Figure size 1584x432 with 1 Axes>"
      ]
     },
     "metadata": {},
     "output_type": "display_data"
    }
   ],
   "source": [
    "plt.figure(figsize=(22, 6))\n",
    "position = range(len(judges))\n",
    "plt.bar(position, judges, align='center', alpha=0.8, label='Judges', color='red')\n",
    "plt.bar(position, judges, align='center', alpha=0.8, label='Judges', color='red')\n",
    "plt.xticks(position, judges.index, rotation=90)\n",
    "plt.legend(loc='best')\n",
    "plt.title('Number of Cases a Judge is Related to a Case')\n",
    "plt.show()"
   ]
  },
  {
   "cell_type": "code",
   "execution_count": 11,
   "metadata": {},
   "outputs": [
    {
     "data": {
      "text/plain": [
       "judge\n",
       "Koopmans               29\n",
       "Due                    28\n",
       "Moitinho de Almeida    28\n",
       "Pescatore              27\n",
       "Gulmann                26\n",
       "Name: source, dtype: int64"
      ]
     },
     "execution_count": 11,
     "metadata": {},
     "output_type": "execute_result"
    }
   ],
   "source": [
    "metadata[metadata['joined_cases'] ==1].groupby('judge').count()['source'].sort_values(ascending=False).head()\n",
    "#What happen with joined cases"
   ]
  },
  {
   "cell_type": "code",
   "execution_count": 14,
   "metadata": {},
   "outputs": [
    {
     "data": {
      "text/plain": [
       "advocate\n",
       "Kokott       774\n",
       "Mengozzi     646\n",
       "Bot          640\n",
       "Sharpston    626\n",
       "Jacobs       609\n",
       "Name: source, dtype: int64"
      ]
     },
     "execution_count": 14,
     "metadata": {},
     "output_type": "execute_result"
    }
   ],
   "source": [
    "metadata.groupby('advocate').count()['source'].sort_values(ascending=False).head()"
   ]
  },
  {
   "cell_type": "markdown",
   "metadata": {},
   "source": [
    "### How many cases per country is encountered?"
   ]
  },
  {
   "cell_type": "code",
   "execution_count": 15,
   "metadata": {},
   "outputs": [
    {
     "data": {
      "text/plain": [
       "63"
      ]
     },
     "execution_count": 15,
     "metadata": {},
     "output_type": "execute_result"
    }
   ],
   "source": [
    "len(countries['country'].unique())"
   ]
  },
  {
   "cell_type": "code",
   "execution_count": 16,
   "metadata": {},
   "outputs": [
    {
     "data": {
      "text/plain": [
       "country\n",
       "Germany          2651\n",
       "Italy            1678\n",
       "not_specified    1437\n",
       "France           1276\n",
       "Netherlands      1109\n",
       "Name: source, dtype: int64"
      ]
     },
     "execution_count": 16,
     "metadata": {},
     "output_type": "execute_result"
    }
   ],
   "source": [
    "countries.groupby('country').count()['source'].sort_values(ascending=False).head()"
   ]
  },
  {
   "cell_type": "code",
   "execution_count": 82,
   "metadata": {},
   "outputs": [
    {
     "data": {
      "text/plain": [
       "14100"
      ]
     },
     "execution_count": 82,
     "metadata": {},
     "output_type": "execute_result"
    }
   ],
   "source": [
    "df_cm = countries.merge(metadata.loc[:, metadata.columns != 'country'], on='source', how='left')\n",
    "len(df_cm)"
   ]
  },
  {
   "cell_type": "code",
   "execution_count": 20,
   "metadata": {},
   "outputs": [],
   "source": [
    "#merge_[merge_['year_document']>=2017].groupby('subject').count()['source'].sort_values(ascending=False).head()"
   ]
  },
  {
   "cell_type": "code",
   "execution_count": 21,
   "metadata": {},
   "outputs": [
    {
     "data": {
      "text/plain": [
       "country-chamber\n",
       "Germany-First Chamber     189\n",
       "Germany-Second Chamber    181\n",
       "Germany-Fifth Chamber     172\n",
       "Germany-Third Chamber     170\n",
       "Germany-Sixth Chamber     143\n",
       "Name: source, dtype: int64"
      ]
     },
     "execution_count": 21,
     "metadata": {},
     "output_type": "execute_result"
    }
   ],
   "source": [
    "metadata[metadata['year_document']>=2000].groupby('country-chamber').count()['source'].sort_values(ascending=False).head()"
   ]
  },
  {
   "cell_type": "code",
   "execution_count": 39,
   "metadata": {},
   "outputs": [],
   "source": [
    "years = sorted(metadata['year_document'].unique())\n",
    "nan_chamber = []\n",
    "for year in years:\n",
    "    group = metadata[metadata['year_document'] == year].groupby('chamber').count()\n",
    "    nan_chamber.append(group.loc['not_specified']['source']/group['source'].sum()*100)"
   ]
  },
  {
   "cell_type": "code",
   "execution_count": 43,
   "metadata": {},
   "outputs": [
    {
     "data": {
      "image/png": "[encoded data removed]",
      "text/plain": [
       "<Figure size 720x1152 with 1 Axes>"
      ]
     },
     "metadata": {},
     "output_type": "display_data"
    }
   ],
   "source": [
    "plt.figure(figsize=(10, 16))\n",
    "position = range(len(years))\n",
    "plt.barh(position, nan_chamber, align='center', alpha=0.8, label='not_specified')\n",
    "plt.yticks(position, years)\n",
    "plt.legend(loc='best')\n",
    "plt.title('% of Null Chamber over the years')\n",
    "plt.show()"
   ]
  },
  {
   "cell_type": "markdown",
   "metadata": {},
   "source": [
    "## Subject Matters"
   ]
  },
  {
   "cell_type": "code",
   "execution_count": 24,
   "metadata": {},
   "outputs": [
    {
     "data": {
      "text/plain": [
       "181"
      ]
     },
     "execution_count": 24,
     "metadata": {},
     "output_type": "execute_result"
    }
   ],
   "source": [
    "len(subjects['subject'].unique())"
   ]
  },
  {
   "cell_type": "code",
   "execution_count": 25,
   "metadata": {},
   "outputs": [
    {
     "data": {
      "text/plain": [
       "subject\n",
       "Approximation of laws          4401\n",
       "Agriculture and Fisheries      3182\n",
       "Right of establishment         3149\n",
       "Freedom to provide services    2966\n",
       "Free movement of goods         2654\n",
       "Name: source, dtype: int64"
      ]
     },
     "execution_count": 25,
     "metadata": {},
     "output_type": "execute_result"
    }
   ],
   "source": [
    "subjects.groupby('subject').count()['source'].sort_values(ascending=False).head()"
   ]
  },
  {
   "cell_type": "code",
   "execution_count": 26,
   "metadata": {},
   "outputs": [
    {
     "data": {
      "text/plain": [
       "54897"
      ]
     },
     "execution_count": 26,
     "metadata": {},
     "output_type": "execute_result"
    }
   ],
   "source": [
    "len(subjects)"
   ]
  },
  {
   "cell_type": "code",
   "execution_count": 27,
   "metadata": {},
   "outputs": [
    {
     "data": {
      "text/plain": [
       "54897"
      ]
     },
     "execution_count": 27,
     "metadata": {},
     "output_type": "execute_result"
    }
   ],
   "source": [
    "df_sm = subjects.merge(metadata, on='source', how='left')\n",
    "len(df_sm)"
   ]
  },
  {
   "cell_type": "code",
   "execution_count": null,
   "metadata": {},
   "outputs": [],
   "source": [
    "df_sm"
   ]
  },
  {
   "cell_type": "code",
   "execution_count": 28,
   "metadata": {},
   "outputs": [
    {
     "data": {
      "text/plain": [
       "subject\n",
       "Approximation of laws          339\n",
       "Right of establishment         241\n",
       "Freedom to provide services    191\n",
       "Taxation                       136\n",
       "Competition                    113\n",
       "Name: source, dtype: int64"
      ]
     },
     "execution_count": 28,
     "metadata": {},
     "output_type": "execute_result"
    }
   ],
   "source": [
    "df_sm[df_sm['year_document']>=2017].groupby('subject').count()['source'].sort_values(ascending=False).head()"
   ]
  },
  {
   "cell_type": "code",
   "execution_count": 29,
   "metadata": {},
   "outputs": [],
   "source": [
    "top_list = list(subjects.groupby('subject').count()['source'].sort_values(ascending=False).head(10).index)"
   ]
  },
  {
   "cell_type": "code",
   "execution_count": 30,
   "metadata": {},
   "outputs": [],
   "source": [
    "df_sm_filter = df_sm[(df_sm['year_document'] >= 1990) & (df_sm['year_document'] < 2018)]"
   ]
  },
  {
   "cell_type": "code",
   "execution_count": 31,
   "metadata": {},
   "outputs": [],
   "source": [
    "years = sorted([int(i) for i in df_sm_filter['year_document'].unique()])"
   ]
  },
  {
   "cell_type": "code",
   "execution_count": 32,
   "metadata": {},
   "outputs": [],
   "source": [
    "plot_traces = []\n",
    "for i in range(len(top_list)):\n",
    "    series = df_sm_filter[df_sm_filter['subject'] == top_list[i]].groupby('year_document').count()['source']\n",
    "    trace = go.Scatter(x = years, y = series, mode = 'lines+markers', name = top_list[i])\n",
    "    plot_traces.append(trace)"
   ]
  },
  {
   "cell_type": "code",
   "execution_count": 107,
   "metadata": {},
   "outputs": [
    {
     "data": {
      "text/html": [
       "<iframe id=\"igraph\" scrolling=\"no\" style=\"border:none;\" seamless=\"seamless\" src=\"https://plot.ly/~pedrovhserrano/3.embed\" height=\"525px\" width=\"100%\"></iframe>"
      ],
      "text/plain": [
       "<plotly.tools.PlotlyDisplay object>"
      ]
     },
     "execution_count": 107,
     "metadata": {},
     "output_type": "execute_result"
    }
   ],
   "source": [
    "py.iplot(plot_traces, filename='Time Series of Number of Cases by Subject')"
   ]
  },
  {
   "cell_type": "code",
   "execution_count": 49,
   "metadata": {},
   "outputs": [
    {
     "data": {
      "text/plain": [
       "year_document\n",
       "2016    587\n",
       "2013    564\n",
       "2017    556\n",
       "2014    544\n",
       "2015    509\n",
       "Name: source, dtype: int64"
      ]
     },
     "execution_count": 49,
     "metadata": {},
     "output_type": "execute_result"
    }
   ],
   "source": [
    "metadata.groupby('year_document').count()['source'].sort_values(ascending=False).head()"
   ]
  },
  {
   "cell_type": "code",
   "execution_count": 63,
   "metadata": {},
   "outputs": [
    {
     "data": {
      "text/plain": [
       "0   1997-04-17\n",
       "1   1995-02-10\n",
       "2   1995-03-13\n",
       "3   1994-11-22\n",
       "4   1998-07-24\n",
       "Name: lodge_date, dtype: datetime64[ns]"
      ]
     },
     "execution_count": 63,
     "metadata": {},
     "output_type": "execute_result"
    }
   ],
   "source": [
    "pd.to_datetime(metadata['lodge_date'],format= '%Y/%m/%d').head()"
   ]
  },
  {
   "cell_type": "code",
   "execution_count": 64,
   "metadata": {},
   "outputs": [],
   "source": [
    "metadata['lodge_date'] = pd.to_datetime(metadata['lodge_date'],format= '%Y/%m/%d')\n",
    "metadata['document_date'] = pd.to_datetime(metadata['document_date'],format= '%Y/%m/%d')"
   ]
  },
  {
   "cell_type": "code",
   "execution_count": 65,
   "metadata": {},
   "outputs": [],
   "source": [
    "metadata['case_time'] = metadata['document_date'] - metadata['lodge_date']"
   ]
  },
  {
   "cell_type": "code",
   "execution_count": 66,
   "metadata": {},
   "outputs": [
    {
     "data": {
      "text/plain": [
       "count                       13357\n",
       "mean     531 days 13:57:59.793366\n",
       "std      283 days 06:17:24.710953\n",
       "min               0 days 00:00:00\n",
       "25%             349 days 00:00:00\n",
       "50%             510 days 00:00:00\n",
       "75%             671 days 00:00:00\n",
       "max            3954 days 00:00:00\n",
       "Name: case_time, dtype: object"
      ]
     },
     "execution_count": 66,
     "metadata": {},
     "output_type": "execute_result"
    }
   ],
   "source": [
    "metadata['case_time'].describe()"
   ]
  },
  {
   "cell_type": "markdown",
   "metadata": {},
   "source": [
    "A plot of the time of the case over the time of the top 10 countries"
   ]
  },
  {
   "cell_type": "code",
   "execution_count": 72,
   "metadata": {},
   "outputs": [],
   "source": [
    "#metadata['case_time']"
   ]
  },
  {
   "cell_type": "code",
   "execution_count": 77,
   "metadata": {},
   "outputs": [],
   "source": [
    "#metadata.groupby('year_document').describe()['case_time']['mean']"
   ]
  },
  {
   "cell_type": "code",
   "execution_count": 84,
   "metadata": {},
   "outputs": [
    {
     "data": {
      "text/plain": [
       "country\n",
       "Germany           125\n",
       "Italy              77\n",
       "Spain              57\n",
       "France             47\n",
       "United Kingdom     42\n",
       "Name: source, dtype: int64"
      ]
     },
     "execution_count": 84,
     "metadata": {},
     "output_type": "execute_result"
    }
   ],
   "source": [
    "df_cm[df_cm['year_document']>=2017].groupby('country').count()['source'].sort_values(ascending=False).head()"
   ]
  },
  {
   "cell_type": "code",
   "execution_count": 93,
   "metadata": {},
   "outputs": [],
   "source": [
    "top_countries = list(df_cm.groupby('country').count()['source'].sort_values(ascending=False).head(10).index)"
   ]
  },
  {
   "cell_type": "code",
   "execution_count": 98,
   "metadata": {},
   "outputs": [],
   "source": [
    "test = df_cm[df_cm['country'] == 'Germany'].groupby('year_document').describe()['case_time']['mean'].astype('timedelta64[D]')"
   ]
  },
  {
   "cell_type": "code",
   "execution_count": 104,
   "metadata": {},
   "outputs": [],
   "source": [
    "plot_countries = []\n",
    "for i in range(len(top_countries)):\n",
    "    series = df_cm[df_cm['country'] == top_countries[i]].groupby('year_document').describe()['case_time']['mean'].astype('timedelta64[D]')\n",
    "    trace = go.Scatter(x = years, y = series, mode = 'lines', name = top_countries[i])\n",
    "    plot_countries.append(trace)"
   ]
  },
  {
   "cell_type": "code",
   "execution_count": 105,
   "metadata": {},
   "outputs": [
    {
     "data": {
      "text/html": [
       "<iframe id=\"igraph\" scrolling=\"no\" style=\"border:none;\" seamless=\"seamless\" src=\"https://plot.ly/~pedrovhserrano/7.embed\" height=\"525px\" width=\"100%\"></iframe>"
      ],
      "text/plain": [
       "<plotly.tools.PlotlyDisplay object>"
      ]
     },
     "execution_count": 105,
     "metadata": {},
     "output_type": "execute_result"
    }
   ],
   "source": [
    "py.iplot(plot_countries, filename='Time Series Average Case Duration by Country')"
   ]
  },
  {
   "cell_type": "code",
   "execution_count": 5,
   "metadata": {},
   "outputs": [
    {
     "data": {
      "text/plain": [
       "Index(['source', 'case_label', 'ecli', 'case_type', 'judge', 'advocate',\n",
       "       'country', 'country-chamber', 'chamber', 'main_subject', 'lodge_date',\n",
       "       'document_date', 'year_document', 'month_document', 'year_lodge',\n",
       "       'month_lodge', 'case_time', 'n_countries', 'joined_cases',\n",
       "       'ruling_title', 'ruling_name', 'ruling_type', 'ruling_content'],\n",
       "      dtype='object')"
      ]
     },
     "execution_count": 5,
     "metadata": {},
     "output_type": "execute_result"
    }
   ],
   "source": [
    "metadata.columns"
   ]
  },
  {
   "cell_type": "code",
   "execution_count": 44,
   "metadata": {},
   "outputs": [
    {
     "data": {
      "text/plain": [
       "ruling_name\n",
       " Commission of the European Communities v Italian Republic.                                         346\n",
       " Commission of the European Communities v French Republic.                                          192\n",
       " Commission of the European Communities v Kingdom of Belgium.                                       182\n",
       " Commission of the European Communities v Hellenic Republic.                                        158\n",
       " Commission of the European Communities v Federal Republic of Germany.                              127\n",
       " Commission of the European Communities v Kingdom of Spain.                                         124\n",
       " Commission of the European Communities v Grand Duchy of Luxemburg.                                  90\n",
       " Commission of the European Communities v Ireland.                                                   82\n",
       " Commission of the European Communities v United Kingdom of Great Britain and Northern Ireland.      68\n",
       " Commission of the European Communities v Kingdom of the Netherlands.                                66\n",
       "Name: source, dtype: int64"
      ]
     },
     "execution_count": 44,
     "metadata": {},
     "output_type": "execute_result"
    }
   ],
   "source": [
    "metadata.groupby('ruling_name').count()['source'].sort_values(ascending=False).head(10)"
   ]
  },
  {
   "cell_type": "code",
   "execution_count": 45,
   "metadata": {},
   "outputs": [
    {
     "data": {
      "text/plain": [
       "ruling_type\n",
       "not_specified                                                                                            6621\n",
       " Reference for a preliminary ruling: Bundesfinanzhof - Germany.                                           176\n",
       " Reference for a preliminary ruling: Finanzgericht Hamburg - Germany.                                      88\n",
       " Reference for a preliminary ruling: Bundesgerichtshof - Germany.                                          80\n",
       " Reference for a preliminary ruling: Hoge Raad - Netherlands.                                              72\n",
       " Reference for a preliminary ruling: High Court of Justice; Queen's Bench Division - United Kingdom.       62\n",
       "Reference for a preliminary ruling: Hoge Raad der Nederlanden - Netherlands.                               53\n",
       " Reference for a preliminary ruling: Bundesverwaltungsgericht - Germany.                                   52\n",
       " Reference for a preliminary ruling: College van Beroep voor het Bedrijfsleven - Netherlands.              51\n",
       " Reference for a preliminary ruling: Cour de cassation - France.                                           50\n",
       "Name: source, dtype: int64"
      ]
     },
     "execution_count": 45,
     "metadata": {},
     "output_type": "execute_result"
    }
   ],
   "source": [
    "metadata.groupby('ruling_type').count()['source'].sort_values(ascending=False).head(10)"
   ]
  },
  {
   "cell_type": "code",
   "execution_count": 46,
   "metadata": {},
   "outputs": [
    {
     "data": {
      "text/plain": [
       "ruling_content\n",
       " Taxation of costs.                                                                               43\n",
       " Inadmissibility.                                                                                 42\n",
       " Removal from the register.                                                                       28\n",
       " Reference for a preliminary ruling: Bundesfinanzhof - Germany.                                   23\n",
       " Additional levy on milk.                                                                         23\n",
       " Monetary compensatory amounts.                                                                   18\n",
       " Reference for a preliminary ruling: College van Beroep voor het Bedrijfsleven - Netherlands.     17\n",
       "Taxation of costs.                                                                                16\n",
       " Reference for a preliminary ruling: Finanzgericht Hamburg - Germany.                             16\n",
       " Safeguarding of employees rights in the event of transfers of undertakings.                      14\n",
       "Name: source, dtype: int64"
      ]
     },
     "execution_count": 46,
     "metadata": {},
     "output_type": "execute_result"
    }
   ],
   "source": [
    "metadata.groupby('ruling_content').count()['source'].sort_values(ascending=False).head(10)"
   ]
  },
  {
   "cell_type": "code",
   "execution_count": 95,
   "metadata": {},
   "outputs": [],
   "source": [
    "citations['relation'] = citations['source']+'-'+citations['target']\n",
    "citations['unique'] = citations['source']+'-'+citations['target']+'-'+citations['paragraph']\n",
    "citations['citation'] = citations['target']+'-'+citations['paragraph']"
   ]
  },
  {
   "cell_type": "code",
   "execution_count": 105,
   "metadata": {},
   "outputs": [
    {
     "data": {
      "text/html": [
       "<div>\n",
       "<style scoped>\n",
       "    .dataframe tbody tr th:only-of-type {\n",
       "        vertical-align: middle;\n",
       "    }\n",
       "\n",
       "    .dataframe tbody tr th {\n",
       "        vertical-align: top;\n",
       "    }\n",
       "\n",
       "    .dataframe thead th {\n",
       "        text-align: right;\n",
       "    }\n",
       "</style>\n",
       "<table border=\"1\" class=\"dataframe\">\n",
       "  <thead>\n",
       "    <tr style=\"text-align: right;\">\n",
       "      <th></th>\n",
       "      <th>source</th>\n",
       "      <th>target</th>\n",
       "      <th>paragraph</th>\n",
       "      <th>relation</th>\n",
       "      <th>unique</th>\n",
       "      <th>citation</th>\n",
       "    </tr>\n",
       "  </thead>\n",
       "  <tbody>\n",
       "    <tr>\n",
       "      <th>0</th>\n",
       "      <td>62016CJ0267</td>\n",
       "      <td>61987CJ0215</td>\n",
       "      <td>N22</td>\n",
       "      <td>62016CJ0267-61987CJ0215</td>\n",
       "      <td>62016CJ0267-61987CJ0215-N22</td>\n",
       "      <td>61987CJ0215-N22</td>\n",
       "    </tr>\n",
       "    <tr>\n",
       "      <th>1</th>\n",
       "      <td>62016CJ0267</td>\n",
       "      <td>61987CJ0215</td>\n",
       "      <td>N67</td>\n",
       "      <td>62016CJ0267-61987CJ0215</td>\n",
       "      <td>62016CJ0267-61987CJ0215-N67</td>\n",
       "      <td>61987CJ0215-N67</td>\n",
       "    </tr>\n",
       "    <tr>\n",
       "      <th>2</th>\n",
       "      <td>62016CJ0267</td>\n",
       "      <td>62001CJ0030</td>\n",
       "      <td>N63</td>\n",
       "      <td>62016CJ0267-62001CJ0030</td>\n",
       "      <td>62016CJ0267-62001CJ0030-N63</td>\n",
       "      <td>62001CJ0030-N63</td>\n",
       "    </tr>\n",
       "    <tr>\n",
       "      <th>3</th>\n",
       "      <td>62016CJ0267</td>\n",
       "      <td>62001CJ0030</td>\n",
       "      <td>N34</td>\n",
       "      <td>62016CJ0267-62001CJ0030</td>\n",
       "      <td>62016CJ0267-62001CJ0030-N34</td>\n",
       "      <td>62001CJ0030-N34</td>\n",
       "    </tr>\n",
       "    <tr>\n",
       "      <th>4</th>\n",
       "      <td>62016CJ0267</td>\n",
       "      <td>62001CJ0030</td>\n",
       "      <td>N53</td>\n",
       "      <td>62016CJ0267-62001CJ0030</td>\n",
       "      <td>62016CJ0267-62001CJ0030-N53</td>\n",
       "      <td>62001CJ0030-N53</td>\n",
       "    </tr>\n",
       "  </tbody>\n",
       "</table>\n",
       "</div>"
      ],
      "text/plain": [
       "        source       target paragraph                 relation  \\\n",
       "0  62016CJ0267  61987CJ0215       N22  62016CJ0267-61987CJ0215   \n",
       "1  62016CJ0267  61987CJ0215       N67  62016CJ0267-61987CJ0215   \n",
       "2  62016CJ0267  62001CJ0030       N63  62016CJ0267-62001CJ0030   \n",
       "3  62016CJ0267  62001CJ0030       N34  62016CJ0267-62001CJ0030   \n",
       "4  62016CJ0267  62001CJ0030       N53  62016CJ0267-62001CJ0030   \n",
       "\n",
       "                        unique         citation  \n",
       "0  62016CJ0267-61987CJ0215-N22  61987CJ0215-N22  \n",
       "1  62016CJ0267-61987CJ0215-N67  61987CJ0215-N67  \n",
       "2  62016CJ0267-62001CJ0030-N63  62001CJ0030-N63  \n",
       "3  62016CJ0267-62001CJ0030-N34  62001CJ0030-N34  \n",
       "4  62016CJ0267-62001CJ0030-N53  62001CJ0030-N53  "
      ]
     },
     "execution_count": 105,
     "metadata": {},
     "output_type": "execute_result"
    }
   ],
   "source": [
    "citations.head()"
   ]
  },
  {
   "cell_type": "markdown",
   "metadata": {},
   "source": [
    "#### Unique paragraph citations  (target-paragraph)"
   ]
  },
  {
   "cell_type": "code",
   "execution_count": 96,
   "metadata": {},
   "outputs": [],
   "source": [
    "df_citations = citations.groupby('citation').agg('count')['source'].reset_index()"
   ]
  },
  {
   "cell_type": "code",
   "execution_count": 97,
   "metadata": {},
   "outputs": [
    {
     "data": {
      "text/html": [
       "<div>\n",
       "<style scoped>\n",
       "    .dataframe tbody tr th:only-of-type {\n",
       "        vertical-align: middle;\n",
       "    }\n",
       "\n",
       "    .dataframe tbody tr th {\n",
       "        vertical-align: top;\n",
       "    }\n",
       "\n",
       "    .dataframe thead th {\n",
       "        text-align: right;\n",
       "    }\n",
       "</style>\n",
       "<table border=\"1\" class=\"dataframe\">\n",
       "  <thead>\n",
       "    <tr style=\"text-align: right;\">\n",
       "      <th></th>\n",
       "      <th>citation</th>\n",
       "      <th>source</th>\n",
       "    </tr>\n",
       "  </thead>\n",
       "  <tbody>\n",
       "    <tr>\n",
       "      <th>21262</th>\n",
       "      <td>61990CJ0320-N06</td>\n",
       "      <td>48</td>\n",
       "    </tr>\n",
       "    <tr>\n",
       "      <th>2279</th>\n",
       "      <td>61974CJ0008-N5</td>\n",
       "      <td>47</td>\n",
       "    </tr>\n",
       "    <tr>\n",
       "      <th>84075</th>\n",
       "      <td>62010CJ0072-N6</td>\n",
       "      <td>46</td>\n",
       "    </tr>\n",
       "    <tr>\n",
       "      <th>25199</th>\n",
       "      <td>61992CO0157-N04</td>\n",
       "      <td>40</td>\n",
       "    </tr>\n",
       "    <tr>\n",
       "      <th>18484</th>\n",
       "      <td>61989CJ0106-N08</td>\n",
       "      <td>36</td>\n",
       "    </tr>\n",
       "    <tr>\n",
       "      <th>87694</th>\n",
       "      <td>62010CJ0617-N19</td>\n",
       "      <td>36</td>\n",
       "    </tr>\n",
       "    <tr>\n",
       "      <th>23136</th>\n",
       "      <td>61991CJ0267-N16</td>\n",
       "      <td>35</td>\n",
       "    </tr>\n",
       "    <tr>\n",
       "      <th>1203</th>\n",
       "      <td>61970CJ0022-N42</td>\n",
       "      <td>34</td>\n",
       "    </tr>\n",
       "    <tr>\n",
       "      <th>14493</th>\n",
       "      <td>61986CJ0267-N16</td>\n",
       "      <td>33</td>\n",
       "    </tr>\n",
       "    <tr>\n",
       "      <th>23918</th>\n",
       "      <td>61992CJ0091-N26</td>\n",
       "      <td>30</td>\n",
       "    </tr>\n",
       "  </tbody>\n",
       "</table>\n",
       "</div>"
      ],
      "text/plain": [
       "              citation  source\n",
       "21262  61990CJ0320-N06      48\n",
       "2279    61974CJ0008-N5      47\n",
       "84075   62010CJ0072-N6      46\n",
       "25199  61992CO0157-N04      40\n",
       "18484  61989CJ0106-N08      36\n",
       "87694  62010CJ0617-N19      36\n",
       "23136  61991CJ0267-N16      35\n",
       "1203   61970CJ0022-N42      34\n",
       "14493  61986CJ0267-N16      33\n",
       "23918  61992CJ0091-N26      30"
      ]
     },
     "execution_count": 97,
     "metadata": {},
     "output_type": "execute_result"
    }
   ],
   "source": [
    "df_citations.sort_values(['source'], ascending=False).head(10)"
   ]
  },
  {
   "cell_type": "markdown",
   "metadata": {},
   "source": [
    "## The most cited [paragraph](https://eur-lex.europa.eu/legal-content/EN/TXT/?qid=1528814213715&uri=CELEX:61974CJ0008)"
   ]
  },
  {
   "cell_type": "markdown",
   "metadata": {},
   "source": [
    "#### Unique cited cases (target -> source)"
   ]
  },
  {
   "cell_type": "code",
   "execution_count": 98,
   "metadata": {},
   "outputs": [],
   "source": [
    "df_ = citations.groupby(['target','source']).agg('count')['citation'].reset_index()\n",
    "df_target = df_.groupby('target')['citation'].agg(['count','sum']).reset_index()\n",
    "df_target.columns = ['target','sources','target_paragraphs']"
   ]
  },
  {
   "cell_type": "code",
   "execution_count": 99,
   "metadata": {},
   "outputs": [
    {
     "data": {
      "text/html": [
       "<div>\n",
       "<style scoped>\n",
       "    .dataframe tbody tr th:only-of-type {\n",
       "        vertical-align: middle;\n",
       "    }\n",
       "\n",
       "    .dataframe tbody tr th {\n",
       "        vertical-align: top;\n",
       "    }\n",
       "\n",
       "    .dataframe thead th {\n",
       "        text-align: right;\n",
       "    }\n",
       "</style>\n",
       "<table border=\"1\" class=\"dataframe\">\n",
       "  <thead>\n",
       "    <tr style=\"text-align: right;\">\n",
       "      <th></th>\n",
       "      <th>target</th>\n",
       "      <th>sources</th>\n",
       "      <th>target_paragraphs</th>\n",
       "    </tr>\n",
       "  </thead>\n",
       "  <tbody>\n",
       "    <tr>\n",
       "      <th>4363</th>\n",
       "      <td>61998CJ0352</td>\n",
       "      <td>165</td>\n",
       "      <td>275</td>\n",
       "    </tr>\n",
       "    <tr>\n",
       "      <th>3214</th>\n",
       "      <td>61993CJ0415</td>\n",
       "      <td>159</td>\n",
       "      <td>521</td>\n",
       "    </tr>\n",
       "    <tr>\n",
       "      <th>5449</th>\n",
       "      <td>62002CJ0189</td>\n",
       "      <td>149</td>\n",
       "      <td>406</td>\n",
       "    </tr>\n",
       "    <tr>\n",
       "      <th>4382</th>\n",
       "      <td>61998CJ0379</td>\n",
       "      <td>128</td>\n",
       "      <td>306</td>\n",
       "    </tr>\n",
       "    <tr>\n",
       "      <th>428</th>\n",
       "      <td>61974CJ0008</td>\n",
       "      <td>128</td>\n",
       "      <td>341</td>\n",
       "    </tr>\n",
       "    <tr>\n",
       "      <th>2992</th>\n",
       "      <td>61992CJ0136</td>\n",
       "      <td>105</td>\n",
       "      <td>206</td>\n",
       "    </tr>\n",
       "    <tr>\n",
       "      <th>4879</th>\n",
       "      <td>62000CJ0204</td>\n",
       "      <td>87</td>\n",
       "      <td>189</td>\n",
       "    </tr>\n",
       "    <tr>\n",
       "      <th>2697</th>\n",
       "      <td>61990CJ0320</td>\n",
       "      <td>85</td>\n",
       "      <td>267</td>\n",
       "    </tr>\n",
       "    <tr>\n",
       "      <th>3568</th>\n",
       "      <td>61995CJ0185</td>\n",
       "      <td>80</td>\n",
       "      <td>185</td>\n",
       "    </tr>\n",
       "    <tr>\n",
       "      <th>5892</th>\n",
       "      <td>62003CJ0551</td>\n",
       "      <td>80</td>\n",
       "      <td>117</td>\n",
       "    </tr>\n",
       "  </tbody>\n",
       "</table>\n",
       "</div>"
      ],
      "text/plain": [
       "           target  sources  target_paragraphs\n",
       "4363  61998CJ0352      165                275\n",
       "3214  61993CJ0415      159                521\n",
       "5449  62002CJ0189      149                406\n",
       "4382  61998CJ0379      128                306\n",
       "428   61974CJ0008      128                341\n",
       "2992  61992CJ0136      105                206\n",
       "4879  62000CJ0204       87                189\n",
       "2697  61990CJ0320       85                267\n",
       "3568  61995CJ0185       80                185\n",
       "5892  62003CJ0551       80                117"
      ]
     },
     "execution_count": 99,
     "metadata": {},
     "output_type": "execute_result"
    }
   ],
   "source": [
    "df_target.sort_values('sources',ascending=False).head(10)"
   ]
  },
  {
   "cell_type": "markdown",
   "metadata": {},
   "source": [
    "The most cited [case](https://eur-lex.europa.eu/legal-content/EN/TXT/?qid=1528816320947&uri=CELEX:61993CJ0415)"
   ]
  },
  {
   "cell_type": "markdown",
   "metadata": {},
   "source": [
    "#### Unique relations (source -> target)"
   ]
  },
  {
   "cell_type": "code",
   "execution_count": 100,
   "metadata": {},
   "outputs": [],
   "source": [
    "#table on relation level\n",
    "df_relations = citations.groupby(['source','relation']).agg('count')['paragraph'].reset_index()"
   ]
  },
  {
   "cell_type": "code",
   "execution_count": 101,
   "metadata": {},
   "outputs": [],
   "source": [
    "#it is necessary to revise the methodology since it's poossible to check the number of paragrphs in eu-lex, and may not match ith the count method\n",
    "#df_relations.sort_values(['paragraph'], ascending=False).head(10)"
   ]
  },
  {
   "cell_type": "code",
   "execution_count": 102,
   "metadata": {},
   "outputs": [],
   "source": [
    "df_source = df_relations.groupby('source')['paragraph'].agg(['count','sum']).reset_index() \n",
    "df_source.columns = ['source','targets','source_paragraphs']"
   ]
  },
  {
   "cell_type": "code",
   "execution_count": 103,
   "metadata": {},
   "outputs": [
    {
     "data": {
      "text/html": [
       "<div>\n",
       "<style scoped>\n",
       "    .dataframe tbody tr th:only-of-type {\n",
       "        vertical-align: middle;\n",
       "    }\n",
       "\n",
       "    .dataframe tbody tr th {\n",
       "        vertical-align: top;\n",
       "    }\n",
       "\n",
       "    .dataframe thead th {\n",
       "        text-align: right;\n",
       "    }\n",
       "</style>\n",
       "<table border=\"1\" class=\"dataframe\">\n",
       "  <thead>\n",
       "    <tr style=\"text-align: right;\">\n",
       "      <th></th>\n",
       "      <th>source</th>\n",
       "      <th>targets</th>\n",
       "      <th>source_paragraphs</th>\n",
       "    </tr>\n",
       "  </thead>\n",
       "  <tbody>\n",
       "    <tr>\n",
       "      <th>7634</th>\n",
       "      <td>62010CJ0539</td>\n",
       "      <td>55</td>\n",
       "      <td>222</td>\n",
       "    </tr>\n",
       "    <tr>\n",
       "      <th>8569</th>\n",
       "      <td>62012CJ0382</td>\n",
       "      <td>50</td>\n",
       "      <td>140</td>\n",
       "    </tr>\n",
       "    <tr>\n",
       "      <th>5601</th>\n",
       "      <td>62005CJ0341</td>\n",
       "      <td>49</td>\n",
       "      <td>240</td>\n",
       "    </tr>\n",
       "    <tr>\n",
       "      <th>6704</th>\n",
       "      <td>62008CJ0384</td>\n",
       "      <td>49</td>\n",
       "      <td>59</td>\n",
       "    </tr>\n",
       "    <tr>\n",
       "      <th>9872</th>\n",
       "      <td>62015CJ0072</td>\n",
       "      <td>48</td>\n",
       "      <td>260</td>\n",
       "    </tr>\n",
       "    <tr>\n",
       "      <th>5875</th>\n",
       "      <td>62006CJ0268</td>\n",
       "      <td>44</td>\n",
       "      <td>83</td>\n",
       "    </tr>\n",
       "    <tr>\n",
       "      <th>5964</th>\n",
       "      <td>62006CJ0413</td>\n",
       "      <td>44</td>\n",
       "      <td>61</td>\n",
       "    </tr>\n",
       "    <tr>\n",
       "      <th>7567</th>\n",
       "      <td>62010CJ0416</td>\n",
       "      <td>44</td>\n",
       "      <td>100</td>\n",
       "    </tr>\n",
       "    <tr>\n",
       "      <th>6642</th>\n",
       "      <td>62008CJ0280</td>\n",
       "      <td>44</td>\n",
       "      <td>66</td>\n",
       "    </tr>\n",
       "    <tr>\n",
       "      <th>6187</th>\n",
       "      <td>62007CJ0208</td>\n",
       "      <td>42</td>\n",
       "      <td>144</td>\n",
       "    </tr>\n",
       "  </tbody>\n",
       "</table>\n",
       "</div>"
      ],
      "text/plain": [
       "           source  targets  source_paragraphs\n",
       "7634  62010CJ0539       55                222\n",
       "8569  62012CJ0382       50                140\n",
       "5601  62005CJ0341       49                240\n",
       "6704  62008CJ0384       49                 59\n",
       "9872  62015CJ0072       48                260\n",
       "5875  62006CJ0268       44                 83\n",
       "5964  62006CJ0413       44                 61\n",
       "7567  62010CJ0416       44                100\n",
       "6642  62008CJ0280       44                 66\n",
       "6187  62007CJ0208       42                144"
      ]
     },
     "execution_count": 103,
     "metadata": {},
     "output_type": "execute_result"
    }
   ],
   "source": [
    "df_source.sort_values(['targets'], ascending=False).head(10)"
   ]
  },
  {
   "cell_type": "markdown",
   "metadata": {},
   "source": [
    "The case that cites the [most](https://eur-lex.europa.eu/legal-content/EN/TXT/?qid=1528817250200&uri=CELEX:62010CJ0539)"
   ]
  },
  {
   "cell_type": "markdown",
   "metadata": {},
   "source": [
    "Make  function to automate dataset creation from pandas queries that can be consumed by tableau or neo4j"
   ]
  },
  {
   "cell_type": "code",
   "execution_count": 109,
   "metadata": {},
   "outputs": [],
   "source": [
    "#parsing pandas to lines for networkx to read#parsin \n",
    "lines = [j+' '+citations['target'][idx] for idx, j in enumerate([i for i in citations['source']]) ]"
   ]
  },
  {
   "cell_type": "code",
   "execution_count": null,
   "metadata": {},
   "outputs": [],
   "source": []
  },
  {
   "cell_type": "code",
   "execution_count": 9,
   "metadata": {},
   "outputs": [],
   "source": [
    "# Using an small graph\n",
    "g = nx.parse_edgelist(lines, create_using=nx.DiGraph())"
   ]
  },
  {
   "cell_type": "code",
   "execution_count": 10,
   "metadata": {},
   "outputs": [],
   "source": [
    "# Using an small graph\n",
    "#g = nx.read_edgelist('orders_general_filter.txt',create_using=nx.DiGraph())"
   ]
  },
  {
   "cell_type": "code",
   "execution_count": 11,
   "metadata": {},
   "outputs": [],
   "source": [
    "nodes, edges = g.order(), g.size()"
   ]
  },
  {
   "cell_type": "code",
   "execution_count": 12,
   "metadata": {},
   "outputs": [],
   "source": [
    "avg_deg = float(nodes)/edges"
   ]
  },
  {
   "cell_type": "code",
   "execution_count": 13,
   "metadata": {},
   "outputs": [
    {
     "name": "stdout",
     "output_type": "stream",
     "text": [
      "Nodes: 11578\n",
      "Edges: 58333\n",
      "Avg Degree: 0.19848113417790958\n"
     ]
    }
   ],
   "source": [
    "print ('Nodes: {}\\nEdges: {}\\nAvg Degree: {}'.format(nodes, edges, avg_deg) )"
   ]
  },
  {
   "cell_type": "markdown",
   "metadata": {},
   "source": [
    "## Centrality Measures"
   ]
  },
  {
   "cell_type": "code",
   "execution_count": 14,
   "metadata": {},
   "outputs": [],
   "source": [
    "def centrality_table(centrality_output):\n",
    "    table = pd.DataFrame([i for i in centrality_output.items()]).sort_values(by=1, ascending=False)\n",
    "    table.columns = ['Node','Centrality']\n",
    "    return table"
   ]
  },
  {
   "cell_type": "markdown",
   "metadata": {},
   "source": [
    "**Degree centrality**  \n",
    "For particular node is the fraction of nodes it is connected to. We might assume that the node with highest value it's the more connected judgement across the network"
   ]
  },
  {
   "cell_type": "code",
   "execution_count": 14,
   "metadata": {},
   "outputs": [
    {
     "data": {
      "text/html": [
       "<div>\n",
       "<style scoped>\n",
       "    .dataframe tbody tr th:only-of-type {\n",
       "        vertical-align: middle;\n",
       "    }\n",
       "\n",
       "    .dataframe tbody tr th {\n",
       "        vertical-align: top;\n",
       "    }\n",
       "\n",
       "    .dataframe thead th {\n",
       "        text-align: right;\n",
       "    }\n",
       "</style>\n",
       "<table border=\"1\" class=\"dataframe\">\n",
       "  <thead>\n",
       "    <tr style=\"text-align: right;\">\n",
       "      <th></th>\n",
       "      <th>Node</th>\n",
       "      <th>Centrality</th>\n",
       "    </tr>\n",
       "  </thead>\n",
       "  <tbody>\n",
       "    <tr>\n",
       "      <th>3502</th>\n",
       "      <td>61993CJ0415</td>\n",
       "      <td>0.014425</td>\n",
       "    </tr>\n",
       "    <tr>\n",
       "      <th>9534</th>\n",
       "      <td>62002CJ0189</td>\n",
       "      <td>0.012093</td>\n",
       "    </tr>\n",
       "    <tr>\n",
       "      <th>299</th>\n",
       "      <td>61974CJ0008</td>\n",
       "      <td>0.011056</td>\n",
       "    </tr>\n",
       "    <tr>\n",
       "      <th>10924</th>\n",
       "      <td>61998CJ0379</td>\n",
       "      <td>0.010797</td>\n",
       "    </tr>\n",
       "    <tr>\n",
       "      <th>7536</th>\n",
       "      <td>62000CJ0204</td>\n",
       "      <td>0.009588</td>\n",
       "    </tr>\n",
       "    <tr>\n",
       "      <th>7360</th>\n",
       "      <td>62002CJ0255</td>\n",
       "      <td>0.008465</td>\n",
       "    </tr>\n",
       "    <tr>\n",
       "      <th>3100</th>\n",
       "      <td>62004CJ0446</td>\n",
       "      <td>0.008379</td>\n",
       "    </tr>\n",
       "    <tr>\n",
       "      <th>896</th>\n",
       "      <td>61992CJ0136</td>\n",
       "      <td>0.008206</td>\n",
       "    </tr>\n",
       "    <tr>\n",
       "      <th>4287</th>\n",
       "      <td>61999CJ0238</td>\n",
       "      <td>0.008033</td>\n",
       "    </tr>\n",
       "    <tr>\n",
       "      <th>8376</th>\n",
       "      <td>62004CJ0344</td>\n",
       "      <td>0.007860</td>\n",
       "    </tr>\n",
       "  </tbody>\n",
       "</table>\n",
       "</div>"
      ],
      "text/plain": [
       "              Node  Centrality\n",
       "3502   61993CJ0415    0.014425\n",
       "9534   62002CJ0189    0.012093\n",
       "299    61974CJ0008    0.011056\n",
       "10924  61998CJ0379    0.010797\n",
       "7536   62000CJ0204    0.009588\n",
       "7360   62002CJ0255    0.008465\n",
       "3100   62004CJ0446    0.008379\n",
       "896    61992CJ0136    0.008206\n",
       "4287   61999CJ0238    0.008033\n",
       "8376   62004CJ0344    0.007860"
      ]
     },
     "execution_count": 14,
     "metadata": {},
     "output_type": "execute_result"
    }
   ],
   "source": [
    "degree = nx.degree_centrality(g)\n",
    "df_degree = centrality_table(degree)\n",
    "df_degree.head(10)"
   ]
  },
  {
   "cell_type": "markdown",
   "metadata": {},
   "source": [
    "**Closeness centrality**   \n",
    "\n",
    "Notice that higher values of closeness indicate higher centrality. Literaly we might say that is a \"heavy\" node, which influences others and it's very in the center of the network"
   ]
  },
  {
   "cell_type": "code",
   "execution_count": 15,
   "metadata": {},
   "outputs": [
    {
     "data": {
      "text/html": [
       "<div>\n",
       "<style scoped>\n",
       "    .dataframe tbody tr th:only-of-type {\n",
       "        vertical-align: middle;\n",
       "    }\n",
       "\n",
       "    .dataframe tbody tr th {\n",
       "        vertical-align: top;\n",
       "    }\n",
       "\n",
       "    .dataframe thead th {\n",
       "        text-align: right;\n",
       "    }\n",
       "</style>\n",
       "<table border=\"1\" class=\"dataframe\">\n",
       "  <thead>\n",
       "    <tr style=\"text-align: right;\">\n",
       "      <th></th>\n",
       "      <th>Node</th>\n",
       "      <th>Centrality</th>\n",
       "    </tr>\n",
       "  </thead>\n",
       "  <tbody>\n",
       "    <tr>\n",
       "      <th>10329</th>\n",
       "      <td>61981CJ0008</td>\n",
       "      <td>0.145819</td>\n",
       "    </tr>\n",
       "    <tr>\n",
       "      <th>299</th>\n",
       "      <td>61974CJ0008</td>\n",
       "      <td>0.140403</td>\n",
       "    </tr>\n",
       "    <tr>\n",
       "      <th>8624</th>\n",
       "      <td>61984CJ0152</td>\n",
       "      <td>0.140383</td>\n",
       "    </tr>\n",
       "    <tr>\n",
       "      <th>5697</th>\n",
       "      <td>61976CJ0033</td>\n",
       "      <td>0.136915</td>\n",
       "    </tr>\n",
       "    <tr>\n",
       "      <th>3502</th>\n",
       "      <td>61993CJ0415</td>\n",
       "      <td>0.135670</td>\n",
       "    </tr>\n",
       "    <tr>\n",
       "      <th>6897</th>\n",
       "      <td>61975CJ0043</td>\n",
       "      <td>0.134770</td>\n",
       "    </tr>\n",
       "    <tr>\n",
       "      <th>8126</th>\n",
       "      <td>61983CJ0014</td>\n",
       "      <td>0.133693</td>\n",
       "    </tr>\n",
       "    <tr>\n",
       "      <th>438</th>\n",
       "      <td>61977CJ0106</td>\n",
       "      <td>0.133375</td>\n",
       "    </tr>\n",
       "    <tr>\n",
       "      <th>7503</th>\n",
       "      <td>61978CJ0120</td>\n",
       "      <td>0.133174</td>\n",
       "    </tr>\n",
       "    <tr>\n",
       "      <th>1842</th>\n",
       "      <td>61984CJ0222</td>\n",
       "      <td>0.130741</td>\n",
       "    </tr>\n",
       "  </tbody>\n",
       "</table>\n",
       "</div>"
      ],
      "text/plain": [
       "              Node  Centrality\n",
       "10329  61981CJ0008    0.145819\n",
       "299    61974CJ0008    0.140403\n",
       "8624   61984CJ0152    0.140383\n",
       "5697   61976CJ0033    0.136915\n",
       "3502   61993CJ0415    0.135670\n",
       "6897   61975CJ0043    0.134770\n",
       "8126   61983CJ0014    0.133693\n",
       "438    61977CJ0106    0.133375\n",
       "7503   61978CJ0120    0.133174\n",
       "1842   61984CJ0222    0.130741"
      ]
     },
     "execution_count": 15,
     "metadata": {},
     "output_type": "execute_result"
    }
   ],
   "source": [
    "closeness = nx.closeness_centrality(g)\n",
    "df_closeness = centrality_table(closeness)\n",
    "df_closeness.head(10)"
   ]
  },
  {
   "cell_type": "markdown",
   "metadata": {},
   "source": [
    "**Communicability**   \n",
    "How good the nodes can reach others"
   ]
  },
  {
   "cell_type": "code",
   "execution_count": 16,
   "metadata": {},
   "outputs": [],
   "source": [
    "#not for diricted graph\n",
    "#communicability = nx.communicability(g)\n",
    "#df_communicability = centrality_summary(communicability)\n",
    "#df_communicability.head(10)"
   ]
  },
  {
   "cell_type": "markdown",
   "metadata": {},
   "source": [
    "**Betweenness centrality**   \n",
    "The highest betweenness the highest control over the network, because more information will pass through that node"
   ]
  },
  {
   "cell_type": "code",
   "execution_count": 15,
   "metadata": {},
   "outputs": [],
   "source": [
    "betweenness = nx.betweenness_centrality(g)"
   ]
  },
  {
   "cell_type": "code",
   "execution_count": 16,
   "metadata": {},
   "outputs": [
    {
     "data": {
      "text/html": [
       "<div>\n",
       "<style scoped>\n",
       "    .dataframe tbody tr th:only-of-type {\n",
       "        vertical-align: middle;\n",
       "    }\n",
       "\n",
       "    .dataframe tbody tr th {\n",
       "        vertical-align: top;\n",
       "    }\n",
       "\n",
       "    .dataframe thead th {\n",
       "        text-align: right;\n",
       "    }\n",
       "</style>\n",
       "<table border=\"1\" class=\"dataframe\">\n",
       "  <thead>\n",
       "    <tr style=\"text-align: right;\">\n",
       "      <th></th>\n",
       "      <th>Node</th>\n",
       "      <th>Centrality</th>\n",
       "    </tr>\n",
       "  </thead>\n",
       "  <tbody>\n",
       "    <tr>\n",
       "      <th>1485</th>\n",
       "      <td>62004CJ0344</td>\n",
       "      <td>0.003539</td>\n",
       "    </tr>\n",
       "    <tr>\n",
       "      <th>11422</th>\n",
       "      <td>61993CJ0415</td>\n",
       "      <td>0.002531</td>\n",
       "    </tr>\n",
       "    <tr>\n",
       "      <th>9215</th>\n",
       "      <td>62002CJ0189</td>\n",
       "      <td>0.002485</td>\n",
       "    </tr>\n",
       "    <tr>\n",
       "      <th>11377</th>\n",
       "      <td>62010CJ0188</td>\n",
       "      <td>0.002444</td>\n",
       "    </tr>\n",
       "    <tr>\n",
       "      <th>64</th>\n",
       "      <td>62003CJ0210</td>\n",
       "      <td>0.002405</td>\n",
       "    </tr>\n",
       "    <tr>\n",
       "      <th>2966</th>\n",
       "      <td>62006CJ0268</td>\n",
       "      <td>0.002087</td>\n",
       "    </tr>\n",
       "    <tr>\n",
       "      <th>6675</th>\n",
       "      <td>62010CJ0617</td>\n",
       "      <td>0.002083</td>\n",
       "    </tr>\n",
       "    <tr>\n",
       "      <th>9903</th>\n",
       "      <td>62001CJ0491</td>\n",
       "      <td>0.002046</td>\n",
       "    </tr>\n",
       "    <tr>\n",
       "      <th>2987</th>\n",
       "      <td>62005CJ0341</td>\n",
       "      <td>0.001964</td>\n",
       "    </tr>\n",
       "    <tr>\n",
       "      <th>11511</th>\n",
       "      <td>62007CJ0169</td>\n",
       "      <td>0.001865</td>\n",
       "    </tr>\n",
       "  </tbody>\n",
       "</table>\n",
       "</div>"
      ],
      "text/plain": [
       "              Node  Centrality\n",
       "1485   62004CJ0344    0.003539\n",
       "11422  61993CJ0415    0.002531\n",
       "9215   62002CJ0189    0.002485\n",
       "11377  62010CJ0188    0.002444\n",
       "64     62003CJ0210    0.002405\n",
       "2966   62006CJ0268    0.002087\n",
       "6675   62010CJ0617    0.002083\n",
       "9903   62001CJ0491    0.002046\n",
       "2987   62005CJ0341    0.001964\n",
       "11511  62007CJ0169    0.001865"
      ]
     },
     "execution_count": 16,
     "metadata": {},
     "output_type": "execute_result"
    }
   ],
   "source": [
    "df_betweenness = centrality_table(betweenness)\n",
    "df_betweenness.head(10)"
   ]
  },
  {
   "cell_type": "code",
   "execution_count": null,
   "metadata": {},
   "outputs": [],
   "source": [
    "#citations['paragraph'] = citations['target'] + '-' + citations['paragraph']"
   ]
  }
 ],
 "metadata": {
  "kernelspec": {
   "display_name": "Python 3",
   "language": "python",
   "name": "python3"
  },
  "language_info": {
   "codemirror_mode": {
    "name": "ipython",
    "version": 3
   },
   "file_extension": ".py",
   "mimetype": "text/x-python",
   "name": "python",
   "nbconvert_exporter": "python",
   "pygments_lexer": "ipython3",
   "version": "3.6.5"
  }
 },
 "nbformat": 4,
 "nbformat_minor": 2
}
